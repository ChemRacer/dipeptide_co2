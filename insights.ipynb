{
 "cells": [
  {
   "cell_type": "code",
   "execution_count": null,
   "id": "5636c738",
   "metadata": {},
   "outputs": [],
   "source": [
    "import sys\n",
    "# !{sys.executable} -m pip install shap\n",
    "import lightgbm as lgb\n",
    "import xgboost\n",
    "import shap\n",
    "from xgboost import XGBRegressor\n",
    "from collections import Counter\n",
    "\n",
    "from tqdm.notebook import trange, tqdm\n",
    "from time import sleep, perf_counter\n",
    "\n",
    "import os\n",
    "from glob import glob\n",
    "import pandas as pd\n",
    "import numpy as np\n",
    "import networkx as nx\n",
    "from scipy.spatial import distance_matrix\n",
    "\n",
    "# Scikit-learn\n",
    "from sklearn.model_selection import KFold\n",
    "from sklearn.kernel_ridge import KernelRidge\n",
    "from sklearn.metrics import r2_score\n",
    "from sklearn.model_selection import GridSearchCV, train_test_split\n",
    "from sklearn.metrics import r2_score,mean_squared_error,mean_absolute_error,mean_absolute_percentage_error\n",
    "from sklearn.preprocessing import normalize, MinMaxScaler\n",
    "\n",
    "\n",
    "# Torch\n",
    "import torch\n",
    "print(torch.__version__,torch.__path__)\n",
    "import torch.nn as nn\n",
    "\n",
    "# Reps\n",
    "from alchemical_cms import genpaddedCMs\n",
    "from dscribe.descriptors import SOAP\n",
    "from dscribe.kernels import REMatchKernel\n",
    "from mendeleev.fetch import fetch_table\n",
    "from ase.io import read\n",
    "from Element_PI import VariancePersist\n",
    "from Element_PI import VariancePersistv1\n",
    "\n",
    "from rdkit import DataStructs\n",
    "from rdkit import Chem\n",
    "from rdkit.Chem import AllChem\n",
    "from rdkit.Chem import Draw, MACCSkeys\n",
    "from openbabel import openbabel as ob\n",
    "from openbabel import pybel\n",
    "\n",
    "from xyz2graph import MolGraph, to_networkx_graph, to_plotly_figure\n",
    "from plotly.offline import offline\n",
    "#Plotting\n",
    "import seaborn as sns\n",
    "sns.set_style()\n",
    "import matplotlib as mpl\n",
    "import matplotlib.pyplot as plt\n",
    "mpl.rcParams['figure.dpi'] = 200\n"
   ]
  },
  {
   "cell_type": "code",
   "execution_count": null,
   "id": "9aafcd95-7cce-451b-adf1-adc28dd57dbe",
   "metadata": {},
   "outputs": [],
   "source": [
    "df=pd.read_excel('site_data.xlsx',index_col=0)\n",
    "sitelist=['A_carboxy', 'A_amine', 'B_carboxy', 'B_amine', 'A_link','B_link', 'A_side', 'B_side']\n",
    "inter_df=df[sitelist].dropna()\n",
    "# inter_df[inter_df!=0]=1"
   ]
  },
  {
   "cell_type": "code",
   "execution_count": null,
   "id": "c0cad807",
   "metadata": {},
   "outputs": [],
   "source": [
    "\n",
    "\n",
    "y=pd.read_excel('400_dipeptides_interaction_energy.xlsx',usecols=[1,2],index_col=0)\n",
    "y['keypair']=['_'.join(i.split('_')[:3]) for i in y.index]\n",
    "pairs=pd.DataFrame([(i[0].split(\":\")[0],i[0].split(\":\")[1].replace(\" \",\"\").replace('acid','')) for i in pd.read_excel('400_dipeptides_interaction_energy.xlsx', 'Sheet2',header=None).values]).set_index(0)\n",
    "\n",
    "\n",
    "# Find set of files\n",
    "monomerfiles={}        \n",
    "co2files={}\n",
    "for k,v in pairs.to_dict()[1].items():\n",
    "    try:\n",
    "        path=glob(f'./dipeptides_co2_coordinates/{k}_*.xyz')[0]\n",
    "        monpath=f'./dipeptides_coordinates/{k}.xyz'\n",
    "        if os.path.exists(path) and os.path.exists(monpath):\n",
    "            co2files[v]=path    \n",
    "            monomerfiles[v]=monpath\n",
    "    except:\n",
    "        print(k)\n",
    "        \n",
    "# Name check\n",
    "co2check=['_'.join(i.split('/')[-2].split('_')[:3]) for i in co2files.values()]\n",
    "moncheck=['_'.join(i.split('/')[-2].split('_')[:4]) for i in monomerfiles.values()]"
   ]
  },
  {
   "cell_type": "code",
   "execution_count": null,
   "id": "eddd44cb-a1d2-4457-a496-068a1a3b902e",
   "metadata": {},
   "outputs": [],
   "source": []
  },
  {
   "cell_type": "code",
   "execution_count": null,
   "id": "f1e415f6-4962-433e-8ec6-c3ada1a4a5b1",
   "metadata": {},
   "outputs": [],
   "source": [
    "AAs=sorted(set([i[0].split('-')[0].replace('acid','') for i in pairs.values]))"
   ]
  },
  {
   "cell_type": "code",
   "execution_count": null,
   "id": "a998534f-c715-489b-b9bd-4376136ddc76",
   "metadata": {},
   "outputs": [],
   "source": [
    "noncarboyx=inter_df[(inter_df[['A_carboxy','B_carboxy']]==0).all(axis=1)]"
   ]
  },
  {
   "cell_type": "code",
   "execution_count": null,
   "id": "c5e966d2-3483-4f22-907d-f68f5174b31b",
   "metadata": {},
   "outputs": [],
   "source": [
    "noncarboyx"
   ]
  },
  {
   "cell_type": "code",
   "execution_count": null,
   "id": "1abc07f4-fdaa-4b63-81c7-c1896e29b4d1",
   "metadata": {},
   "outputs": [],
   "source": [
    "\n",
    "co2dipepgraphs={}\n",
    "co2mgs={}\n",
    "for k,v in co2files.items():\n",
    "    # Create the MolGraph object\n",
    "    mg = MolGraph()\n",
    "\n",
    "    # Read the data from the .xyz file\n",
    "    mg.read_xyz(v)\n",
    "    co2mgs[k]=mg\n",
    "    # Convert the molecular graph to the NetworkX graph\n",
    "    G = to_networkx_graph(mg)\n",
    "    co2dipepgraphs[k]=G\n",
    "    \n",
    "dipepgraphs={}    \n",
    "mgs={}\n",
    "for k,v in monomerfiles.items():\n",
    "    # Create the MolGraph object\n",
    "    mg = MolGraph()\n",
    "\n",
    "    # Read the data from the .xyz file\n",
    "    mg.read_xyz(v)\n",
    "    mgs[k]=mg\n",
    "    # Convert the molecular graph to the NetworkX graph\n",
    "    G = to_networkx_graph(mg)\n",
    "    dipepgraphs[k]=G    \n"
   ]
  },
  {
   "cell_type": "code",
   "execution_count": null,
   "id": "d2aa2b12-2645-4233-8856-3e22913d1817",
   "metadata": {},
   "outputs": [],
   "source": [
    "# FLAG!\n",
    "# df.loc['Asparagine-Alanine']\n",
    "# fig = to_plotly_figure(co2mgs['Asparagine-Alanine'])\n",
    "# offline.plot(fig)\n",
    "\n",
    "# FLAG THIS ONE!!\n",
    "# fig = to_plotly_figure(co2mgs['Alanine-Lysine'])\n",
    "# offline.plot(fig)"
   ]
  },
  {
   "cell_type": "code",
   "execution_count": null,
   "id": "39b913e0-1a3a-434e-8ed0-0314c2388acf",
   "metadata": {},
   "outputs": [],
   "source": [
    "for k,v in pairs.to_dict()[1].items():\n",
    "    names=v.split('-')\n",
    "    for j in names:\n",
    "        if 'acid' in j:\n",
    "            print(names)"
   ]
  },
  {
   "cell_type": "code",
   "execution_count": null,
   "id": "969bef5d-692a-4370-a234-8fdbac0fad74",
   "metadata": {},
   "outputs": [],
   "source": [
    "AAs"
   ]
  },
  {
   "cell_type": "code",
   "execution_count": null,
   "id": "3d08fc45-7ceb-4707-b080-63a8d9ab6401",
   "metadata": {},
   "outputs": [],
   "source": [
    "dfpairE=pd.DataFrame(np.zeros((20,20)),index=AAs,columns=AAs)\n",
    "for k,v in pairs.to_dict()[1].items():\n",
    "    names=v.split('-')\n",
    "    dfpairE[names[0]][names[1]]=y.set_index('keypair').loc[k].values"
   ]
  },
  {
   "cell_type": "code",
   "execution_count": null,
   "id": "42c4a1dd-6604-4b56-b853-e00e37ff9b97",
   "metadata": {},
   "outputs": [],
   "source": [
    "devpairs=pd.DataFrame(sum([[('-'.join((i,j)),abs(dfpairE[i][j]-dfpairE[j][i])) for idxi,i in enumerate(AAs) if idxj>idxi] for idxj,j in enumerate(AAs)],[]),columns=['Pairs','Deviation'])"
   ]
  },
  {
   "cell_type": "code",
   "execution_count": null,
   "id": "5c71b90f-47e9-4100-8724-0d99db78bbf9",
   "metadata": {},
   "outputs": [],
   "source": [
    "len(devpairs[devpairs['Deviation']<=1])/len(devpairs)"
   ]
  },
  {
   "cell_type": "code",
   "execution_count": null,
   "id": "c56733a3-9574-45a0-8f78-27ee6c1ab3e7",
   "metadata": {},
   "outputs": [],
   "source": [
    "df['dev_gly']=df['Interaction_Energy']-df['Interaction_Energy']['Glycine-Glycine']"
   ]
  },
  {
   "cell_type": "code",
   "execution_count": null,
   "id": "a6f5aa2e-9b99-4cde-9d2c-0255f1406f68",
   "metadata": {},
   "outputs": [],
   "source": [
    "df0=df[df['dev_gly']>0]\n",
    "gt0=np.array([i.split('-') for i in df0.index])\n",
    "# df1=df[(df['dev_gly']<0)&(df['dev_gly']>=-6)]\n",
    "df1=df[(df['dev_gly']<0)]\n",
    "gt1=np.array([i.split('-') for i in df1.index])\n",
    "# df2=df[(df['dev_gly']<=-6)]\n",
    "# gt2=np.array([i.split('-') for i in df2.index])\n",
    "# "
   ]
  },
  {
   "cell_type": "code",
   "execution_count": null,
   "id": "c400891c-a287-469f-94c2-9c3e6d974c16",
   "metadata": {},
   "outputs": [],
   "source": [
    "np.unique(inter_df.loc[df0.index].values,axis=0).shape,df0.index.shape"
   ]
  },
  {
   "cell_type": "code",
   "execution_count": null,
   "id": "93c14956-601a-488b-a2bf-7a7179f55831",
   "metadata": {},
   "outputs": [],
   "source": [
    "inter_df.loc[df0.index].sum(axis=0).reset_index()"
   ]
  },
  {
   "cell_type": "code",
   "execution_count": null,
   "id": "d2895893-7a82-44bc-bcb7-977806c88b99",
   "metadata": {},
   "outputs": [],
   "source": []
  },
  {
   "cell_type": "code",
   "execution_count": null,
   "id": "af985b0a-5343-443e-bd4a-56654b738f1c",
   "metadata": {},
   "outputs": [],
   "source": [
    "dfA=inter_df[['A_carboxy', 'A_amine', 'A_link', 'A_side']].sum(axis=1).astype(int)\n",
    "dfA=dfA[dfA!=0]\n",
    "dfB=inter_df[['B_carboxy', 'B_amine','B_link','B_side']].sum(axis=1).astype(int)\n",
    "dfB=dfB[dfB!=0]\n",
    "dfAB=pd.concat([dfA,dfB],axis=1)"
   ]
  },
  {
   "cell_type": "code",
   "execution_count": null,
   "id": "4e2209aa-2b59-472e-963f-e04c045139bf",
   "metadata": {},
   "outputs": [],
   "source": [
    "dfA[dfA!=0].shape,dfB[dfB!=0].shape"
   ]
  },
  {
   "cell_type": "code",
   "execution_count": null,
   "id": "e94f8334-7041-4673-832d-22999fcddde4",
   "metadata": {},
   "outputs": [],
   "source": [
    "dfA.loc['Alanine-Glycine']"
   ]
  },
  {
   "cell_type": "code",
   "execution_count": null,
   "id": "518aee3a-d25e-42e9-a999-eece23420e27",
   "metadata": {},
   "outputs": [],
   "source": []
  },
  {
   "cell_type": "code",
   "execution_count": null,
   "id": "5e59d547-b080-45c7-a4c0-1d9f01bf5e97",
   "metadata": {},
   "outputs": [],
   "source": [
    "fig,ax=plt.subplots(2,2)\n",
    "sns.histplot(df['dev_gly'].loc[dfAB[dfAB[0]==3].index],ax=ax[0,0])\n",
    "sns.histplot(df['dev_gly'].loc[dfAB[dfAB[1]==3].index],ax=ax[0,1])\n",
    "sns.histplot(df['dev_gly'].loc[dfAB[(~dfAB[0].isna())&(dfAB[0]!=3)].index],ax=ax[1,0])\n",
    "# sns.histplot(df['dev_gly'].loc[dfAB[(~dfAB[1].isna())&(dfAB[1]!=3)].index],ax=ax[1,1])"
   ]
  },
  {
   "cell_type": "code",
   "execution_count": null,
   "id": "346aec38-0d01-4972-8717-8a17ff2036fa",
   "metadata": {},
   "outputs": [],
   "source": [
    "len((set(dfB.index)-set(dfA.index))-(set(dfA.index)-set(dfB.index)))"
   ]
  },
  {
   "cell_type": "code",
   "execution_count": null,
   "id": "0a8de84d-56cc-430b-8595-d2581a8b892c",
   "metadata": {},
   "outputs": [],
   "source": [
    "sns.barplot(data=inter_df.loc[df0.index].sum(axis=0).reset_index().sort_values(by='index'),x='index',y=0)"
   ]
  },
  {
   "cell_type": "code",
   "execution_count": null,
   "id": "d099f0c5-c6d6-4108-8e84-f905829c49da",
   "metadata": {},
   "outputs": [],
   "source": [
    "sns.barplot(data=inter_df.loc[df2.index].sum(axis=0).reset_index().sort_values(by=0),x='index',y=0)"
   ]
  },
  {
   "cell_type": "code",
   "execution_count": null,
   "id": "6e6bcef9-7f7f-4e59-a822-0d43091b8ba1",
   "metadata": {},
   "outputs": [],
   "source": [
    "inter_df.loc[df2.index]"
   ]
  },
  {
   "cell_type": "code",
   "execution_count": null,
   "id": "dcbe439b-4910-4936-a0f5-aa6b7af8187a",
   "metadata": {},
   "outputs": [],
   "source": [
    "fig,(ax1,ax2)=plt.subplots(1,2,figsize=(10,5),sharey=True)\n",
    "sns.barplot(data=pd.DataFrame.from_dict(dict(Counter(gt0[:,0])),orient='index').reset_index().rename(columns={'index':'A',0:'count'}).sort_values(by='count'),x='A',y='count',ax=ax1)\n",
    "sns.barplot(data=pd.DataFrame.from_dict(dict(Counter(gt0[:,1])),orient='index').reset_index().rename(columns={'index':'B',0:'count'}).sort_values(by='count'),x='B',y='count',ax=ax2)\n",
    "ax1.tick_params(labelrotation=90)\n",
    "ax2.tick_params(labelrotation=90)\n",
    "\n",
    "plt.show()"
   ]
  },
  {
   "cell_type": "code",
   "execution_count": null,
   "id": "45375b14-bd0b-420d-affb-fe00e7f20776",
   "metadata": {},
   "outputs": [],
   "source": [
    "fig,(ax1,ax2)=plt.subplots(1,2,figsize=(10,5),sharey=True)\n",
    "sns.barplot(data=pd.DataFrame.from_dict(dict(Counter(gt1[:,0])),orient='index').reset_index().rename(columns={'index':'A',0:'count'}).sort_values(by='count'),x='A',y='count',ax=ax1)\n",
    "sns.barplot(data=pd.DataFrame.from_dict(dict(Counter(gt1[:,1])),orient='index').reset_index().rename(columns={'index':'B',0:'count'}).sort_values(by='count'),x='B',y='count',ax=ax2)\n",
    "ax1.tick_params(labelrotation=90)\n",
    "ax2.tick_params(labelrotation=90)\n",
    "ax1.set_ylim(0,25)\n",
    "plt.show()"
   ]
  },
  {
   "cell_type": "code",
   "execution_count": null,
   "id": "422fd545-c3ce-4e71-a8ef-a37f7ab6744b",
   "metadata": {},
   "outputs": [],
   "source": [
    "fig,(ax1,ax2)=plt.subplots(1,2,figsize=(10,5),sharey=True)\n",
    "sns.barplot(data=pd.DataFrame.from_dict(dict(Counter(gt2[:,0])),orient='index').reset_index().rename(columns={'index':'A',0:'count'}).sort_values(by='count'),x='A',y='count',ax=ax1)\n",
    "sns.barplot(data=pd.DataFrame.from_dict(dict(Counter(gt2[:,1])),orient='index').reset_index().rename(columns={'index':'B',0:'count'}).sort_values(by='count'),x='B',y='count',ax=ax2)\n",
    "ax1.tick_params(labelrotation=90)\n",
    "ax2.tick_params(labelrotation=90)\n",
    "plt.show()"
   ]
  },
  {
   "cell_type": "code",
   "execution_count": null,
   "id": "83bbe67e-5275-4f3b-a979-c3dc00e9e3f8",
   "metadata": {},
   "outputs": [],
   "source": [
    "ax=sns.histplot(data=df,x='dev_gly')"
   ]
  },
  {
   "cell_type": "code",
   "execution_count": null,
   "id": "6d4c456e-1d10-4058-86d5-b095e881eb41",
   "metadata": {},
   "outputs": [],
   "source": []
  },
  {
   "cell_type": "code",
   "execution_count": null,
   "id": "a97ca7ca-16d2-4826-af84-f90e5168d89f",
   "metadata": {},
   "outputs": [],
   "source": [
    "plt.figure(figsize=(30,5))\n",
    "plt.scatter(range(len(df['Interaction_Energy'])),(df['Interaction_Energy']-df['Interaction_Energy']['Glycine-Glycine']).sort_values())\n",
    "plt.xticks(range(len(df['Interaction_Energy'])),df['Interaction_Energy'].index,rotation=90, fontsize = 6)\n",
    "plt.xlim(-1,len(df['Interaction_Energy'])+1)\n",
    "plt.show()"
   ]
  },
  {
   "cell_type": "code",
   "execution_count": null,
   "id": "3123853d-1c02-43e0-8e27-f44132044aa2",
   "metadata": {},
   "outputs": [],
   "source": [
    "plt.figure(figsize=(25,5))\n",
    "# sns.lineplot(data=devpairs,x='Pairs',y='Deviation')\n",
    "plt.plot(range(len(devpairs['Pairs'])),devpairs['Deviation'],'o--')\n",
    "\n",
    "plt.fill_between(np.arange(-1,len(devpairs['Pairs'])+1)*[1],np.zeros(len(devpairs['Pairs'])+2),np.ones(len(devpairs['Pairs'])+2),color='gray')\n",
    "plt.xticks(range(len(devpairs['Pairs'])),devpairs['Pairs'],rotation=90, fontsize = 8)\n",
    "plt.xlim(-1,len(devpairs)+1)\n",
    "plt.ylim(0,7)\n",
    "plt.xlabel('Pairs')\n",
    "plt.ylabel('Deviation (kcal/mol)')\n",
    "plt.title('Deviation Between Pairs AB and BA')\n",
    "plt.tight_layout()\n",
    "plt.savefig('absolute_pair_dev.png',dpi=300,bbox_inches='tight')\n",
    "plt.show()"
   ]
  },
  {
   "cell_type": "code",
   "execution_count": null,
   "id": "b3d2a7b5-9f0a-4ac4-b1fe-c5c4b7cf2471",
   "metadata": {},
   "outputs": [],
   "source": [
    "sns.heatmap(data=dfpairE,vmin=-12,vmax=0,cbar_kws={'label': 'Interaction Energy (kcal/mol)'},linewidths=0.1,square=True)\n",
    "plt.xlabel('Amino Acid')\n",
    "plt.ylabel('Amino Acid')\n",
    "\n",
    "plt.tight_layout()\n",
    "plt.savefig('pair_heat.png',dpi=300,bbox_inches='tight')\n",
    "plt.show()"
   ]
  },
  {
   "cell_type": "code",
   "execution_count": null,
   "id": "c6c3a6ba-b85e-42f7-a9ec-6d764a44589a",
   "metadata": {},
   "outputs": [],
   "source": [
    "inter_df.T.values.shape"
   ]
  },
  {
   "cell_type": "code",
   "execution_count": null,
   "id": "91531f40-a5b6-4da8-bbd3-49a1a7bb67e3",
   "metadata": {},
   "outputs": [],
   "source": [
    "dict_count=dict(zip(inter_df.T.columns,np.count_nonzero(inter_df.T.values==1,axis=0)))"
   ]
  },
  {
   "cell_type": "code",
   "execution_count": null,
   "id": "3c1f61f8-7cb6-4b11-8f58-4407ce808f1b",
   "metadata": {},
   "outputs": [],
   "source": [
    "y"
   ]
  },
  {
   "cell_type": "code",
   "execution_count": null,
   "id": "4de33c68-72cd-49c4-a4df-6bef67798ced",
   "metadata": {},
   "outputs": [],
   "source": [
    "intvsE=[]\n",
    "for k,v in df['label'].to_dict().items():\n",
    "    # print(k,v,dict_count[k])\n",
    "    # print(y[y['keypair']==v].values)\n",
    "    intvsE.append((dict_count[k],y[y['keypair']==v]['Interaction_Energy'].values[0]))\n",
    "intvsE=np.array(sorted(intvsE,key=lambda x: x[0]))    \n",
    "\n",
    "dfintvsE=pd.DataFrame(intvsE,columns=['Count','Interaction_Energy'])"
   ]
  },
  {
   "cell_type": "code",
   "execution_count": null,
   "id": "a5a42df2-bae1-4492-8978-7be21771aed2",
   "metadata": {},
   "outputs": [],
   "source": [
    "sns.histplot(data=dfintvsE,x='Interaction_Energy',hue='Count',kde=True,stat='count')"
   ]
  },
  {
   "cell_type": "code",
   "execution_count": null,
   "id": "f3755765-fcfc-49c7-bc69-d8e447d6cd4e",
   "metadata": {},
   "outputs": [],
   "source": [
    "stats=pd.DataFrame(y['Interaction_Energy'].describe()).round(2)\n",
    "\n",
    "plt.figure(figsize=(5,5))\n",
    "sns.histplot(data=y,x='Interaction_Energy')\n",
    "table =plt.table(cellText=stats.values,\n",
    "          rowLabels=stats.index,\n",
    "          colLabels=stats.columns,\n",
    "          cellLoc = 'center', rowLoc = 'center',\n",
    "          loc='bottom', bbox=[0.25, -0.5, 0.5, 0.3])\n",
    "\n",
    "\n",
    "table.auto_set_font_size(False)\n",
    "table.set_fontsize(8)\n",
    "\n",
    "\n",
    "plt.subplots_adjust(left=0, bottom=0.5)\n",
    "plt.tight_layout()\n",
    "plt.savefig('spread.png',dpi=300,bbox_inches='tight')\n",
    "plt.show()\n",
    "\n",
    "Q1=y['Interaction_Energy'].quantile(0.25)\n",
    "Q3=y['Interaction_Energy'].quantile(0.75)\n",
    "IQR=Q3-Q1\n",
    "upper = Q3 + 1.5*IQR\n",
    "\n",
    "lower = Q1 - 1.5*IQR\n",
    "\n",
    "y=y[(y['Interaction_Energy']>=lower)&(y['Interaction_Energy']<=upper)].dropna()\n",
    "sns.histplot(data=y,x='Interaction_Energy')\n",
    "plt.show()"
   ]
  },
  {
   "cell_type": "code",
   "execution_count": null,
   "id": "a74149c6-c550-44e5-8c3a-209cd0ecd395",
   "metadata": {},
   "outputs": [],
   "source": [
    "bitkey=dict(zip(AAs,range(len(AAs))))"
   ]
  },
  {
   "cell_type": "code",
   "execution_count": null,
   "id": "0f6cb26a-6abb-46f9-862b-d56000bd22b4",
   "metadata": {},
   "outputs": [],
   "source": [
    "bitkey"
   ]
  },
  {
   "cell_type": "code",
   "execution_count": null,
   "id": "d9ffba9e-d246-4e0b-b5e8-1c56f8b9fdd2",
   "metadata": {},
   "outputs": [],
   "source": [
    "# samples=len(y)\n",
    "# X=np.zeros((samples,len(AAs)))\n",
    "# Y=np.zeros((samples,1))\n",
    "\n",
    "# for idx,(k,v) in enumerate(y.set_index('keypair').to_dict()['Interaction_Energy'].items()):\n",
    "#     aa=pairs.loc[k].values[0].split('-')\n",
    "#     a1=aa[0]\n",
    "#     a2=aa[1]\n",
    "#     if a1!=a2:\n",
    "#         X[idx,bitkey[a1]]=1\n",
    "#         X[idx,bitkey[a2]]=1\n",
    "#     else:\n",
    "#         X[idx,bitkey[a1]]=2\n",
    "#     Y[idx]=v"
   ]
  },
  {
   "cell_type": "code",
   "execution_count": null,
   "id": "7b7f71fa-1d73-40be-958e-2363b8a62c5c",
   "metadata": {},
   "outputs": [],
   "source": []
  },
  {
   "cell_type": "code",
   "execution_count": null,
   "id": "38aa44cd-f948-494b-83db-43c5d66aa2b6",
   "metadata": {},
   "outputs": [],
   "source": []
  },
  {
   "cell_type": "code",
   "execution_count": null,
   "id": "c8e0fd98-ed31-45a4-8a0d-94e51cd14229",
   "metadata": {},
   "outputs": [],
   "source": [
    "# # Create the MolGraph object\n",
    "# mg = MolGraph()\n",
    "\n",
    "# # Read the data from the .xyz file\n",
    "# mg.read_xyz(monomerfiles[0])\n",
    "\n",
    "\n",
    "# # Convert the molecular graph to the NetworkX graph\n",
    "# G = to_networkx_graph(mg)\n",
    "\n",
    "# # G.nodes(data=True),G.edges(data=True)"
   ]
  },
  {
   "cell_type": "code",
   "execution_count": null,
   "id": "5b806d5e-dbd4-4e07-8213-358dc44ceecc",
   "metadata": {},
   "outputs": [],
   "source": [
    "# from rdkit.Chem import rdFingerprintGenerator\n",
    "# mols=[Chem.MolFromSmiles(list(pybel.readfile('xyz',m))[0].write().split('\\t')[0]) for m in monomerfiles]\n",
    "# fpgen = rdFingerprintGenerator.GetMorganGenerator(radius=6)\n",
    "\n",
    "# # info={}\n",
    "# # X = np.vstack([fpgen.GetFingerprint(mol) for mol in mols ])\n",
    "\n",
    "# fps = [MACCSkeys.GenMACCSKeys(x) for x in mols]\n",
    "# X=np.vstack([f.ToList() for f in fps])\n",
    "# Y=y.values\n",
    "\n",
    "# keys=pd.read_excel('MACCS_keys_example.xlsx',index_col='Key').drop(columns=['Unnamed: 0'])\n",
    "\n",
    "# mol_keys=[idx for idx, i in enumerate(X[0]) if i==1]\n",
    "\n",
    "# {str(keys.loc[idx].values[0]):i for idx, i in enumerate(np.count_nonzero(X,axis=0)) if i!=0}"
   ]
  },
  {
   "cell_type": "code",
   "execution_count": null,
   "id": "7944be31-3553-4d5e-81af-9acd1a9658b5",
   "metadata": {},
   "outputs": [],
   "source": [
    "\n",
    "# sns.heatmap([[DataStructs.TanimotoSimilarity(i,j) for i in fps] for j in fps],vmin=0,vmax=1,cmap=sns.cm.rocket_r)\n",
    "# plt.show()"
   ]
  },
  {
   "cell_type": "code",
   "execution_count": null,
   "id": "3db9cada-5347-49a6-b5fd-8e97143ad120",
   "metadata": {},
   "outputs": [],
   "source": [
    "# Draw.MolsToGridImage(mols,molsPerRow=10, subImgSize=(300,300))"
   ]
  }
 ],
 "metadata": {
  "kernelspec": {
   "display_name": "molecular_representation",
   "language": "python",
   "name": "molecular_representation"
  },
  "language_info": {
   "codemirror_mode": {
    "name": "ipython",
    "version": 3
   },
   "file_extension": ".py",
   "mimetype": "text/x-python",
   "name": "python",
   "nbconvert_exporter": "python",
   "pygments_lexer": "ipython3",
   "version": "3.8.14"
  }
 },
 "nbformat": 4,
 "nbformat_minor": 5
}
