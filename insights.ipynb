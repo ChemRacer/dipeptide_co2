{
 "cells": [
  {
   "cell_type": "code",
   "execution_count": null,
   "id": "5636c738",
   "metadata": {},
   "outputs": [],
   "source": [
    "import sys\n",
    "# !{sys.executable} -m pip install git+https://github.com/zotko/xyz2graph.git\n",
    "import shap\n",
    "from collections import Counter\n",
    "\n",
    "from tqdm.notebook import trange, tqdm\n",
    "from time import sleep, perf_counter\n",
    "\n",
    "import os\n",
    "from glob import glob\n",
    "import pandas as pd\n",
    "import numpy as np\n",
    "import networkx as nx\n",
    "from scipy.spatial import distance_matrix\n",
    "\n",
    "# Scikit-learn\n",
    "from sklearn.model_selection import KFold\n",
    "from sklearn.kernel_ridge import KernelRidge\n",
    "from sklearn.metrics import r2_score\n",
    "from sklearn.model_selection import GridSearchCV, train_test_split\n",
    "from sklearn.metrics import r2_score,mean_squared_error,mean_absolute_error,mean_absolute_percentage_error\n",
    "from sklearn.preprocessing import normalize, MinMaxScaler\n",
    "from sklearn.decomposition import PCA\n",
    "from sklearn.manifold import TSNE\n",
    "\n",
    "\n",
    "# Reps\n",
    "from alchemical_cms import genpaddedCMs\n",
    "from dscribe.descriptors import SOAP\n",
    "from dscribe.kernels import REMatchKernel\n",
    "from mendeleev.fetch import fetch_table\n",
    "from ase.io import read\n",
    "from Element_PI import VariancePersist\n",
    "from Element_PI import VariancePersistv1\n",
    "\n",
    "# from rdkit import DataStructs\n",
    "# from rdkit import Chem\n",
    "# from rdkit.Chem import AllChem\n",
    "# from rdkit.Chem import Draw, MACCSkeys\n",
    "# from openbabel import openbabel as ob\n",
    "# from openbabel import pybel\n",
    "\n",
    "from xyz2graph import MolGraph, to_networkx_graph, to_plotly_figure\n",
    "# from plotly.offline import offline\n",
    "#Plotting\n",
    "import seaborn as sns\n",
    "sns.set_style()\n",
    "import matplotlib as mpl\n",
    "import matplotlib.pyplot as plt\n",
    "mpl.rcParams['figure.dpi'] = 200\n"
   ]
  },
  {
   "cell_type": "code",
   "execution_count": null,
   "id": "2db97cf8-9628-4355-a412-588eb228c573",
   "metadata": {},
   "outputs": [],
   "source": [
    "AA_df=pd.read_excel('20_AA_CO2_interaction_energy_DFT_PBE0D3BJ_def2TZVPP.xlsx',index_col=0,header=None)\n",
    "AA_df.index=[i.replace(' acid','').capitalize() if 'acid' in i else i.capitalize() for i in AA_df.index]"
   ]
  },
  {
   "cell_type": "markdown",
   "id": "d5fa38f6-6463-4441-a282-3e7c66b9ed0d",
   "metadata": {},
   "source": [
    "# rdkit.Chem.rdMolDescriptors.CalcNumRotatableBonds((Mol)mol, (bool)strict) → int\n"
   ]
  },
  {
   "cell_type": "code",
   "execution_count": null,
   "id": "9aafcd95-7cce-451b-adf1-adc28dd57dbe",
   "metadata": {},
   "outputs": [],
   "source": [
    "df=pd.read_excel('site_data.xlsx',index_col=0)\n",
    "sitelist=['A_carboxy', 'A_amine', 'B_carboxy', 'B_amine', 'A_link','B_link', 'A_side', 'B_side']\n",
    "inter_df=df[sitelist].dropna()\n",
    "# inter_df[inter_df!=0]=1"
   ]
  },
  {
   "cell_type": "code",
   "execution_count": null,
   "id": "6db0e0ef-6628-403b-81eb-60e70ac4316f",
   "metadata": {},
   "outputs": [],
   "source": [
    "df['Interaction_Energy'].describe()"
   ]
  },
  {
   "cell_type": "code",
   "execution_count": null,
   "id": "c0cad807",
   "metadata": {},
   "outputs": [],
   "source": [
    "\n",
    "\n",
    "y=pd.read_excel('400_dipeptides_interaction_energy_UPDATED2.xlsx',usecols=[1,2],index_col=0)\n",
    "y['keypair']=['_'.join(i.split('_')[:3]) for i in y.index]\n",
    "pairs=pd.DataFrame([(i[0].split(\":\")[0],i[0].split(\":\")[1].replace(\" \",\"\").replace('acid','')) for i in pd.read_excel('400_dipeptides_interaction_energy_UPDATED2.xlsx', 'Sheet2',header=None).values]).set_index(0)\n",
    "\n",
    "\n",
    "# Find set of files\n",
    "monomerfiles={}        \n",
    "co2files={}\n",
    "for k,v in pairs.to_dict()[1].items():\n",
    "    try:\n",
    "        path=glob(f'./dipeptides_co2_coordinates/{k}_*.xyz')[0]\n",
    "        monpath=f'./dipeptides_coordinates/{k}.xyz'\n",
    "        if os.path.exists(path) and os.path.exists(monpath):\n",
    "            co2files[v]=path    \n",
    "            monomerfiles[v]=monpath\n",
    "    except:\n",
    "        print(k)\n",
    "        \n",
    "# Name check\n",
    "co2check=['_'.join(i.split('/')[-2].split('_')[:3]) for i in co2files.values()]\n",
    "moncheck=['_'.join(i.split('/')[-2].split('_')[:4]) for i in monomerfiles.values()]"
   ]
  },
  {
   "cell_type": "code",
   "execution_count": null,
   "id": "f1e415f6-4962-433e-8ec6-c3ada1a4a5b1",
   "metadata": {},
   "outputs": [],
   "source": [
    "AAs=sorted(set([i[0].split('-')[0].replace('acid','') for i in pairs.values]))"
   ]
  },
  {
   "cell_type": "code",
   "execution_count": null,
   "id": "a998534f-c715-489b-b9bd-4376136ddc76",
   "metadata": {},
   "outputs": [],
   "source": [
    "noncarboyx=inter_df[(inter_df[['A_carboxy','B_carboxy']]==0).all(axis=1)]"
   ]
  },
  {
   "cell_type": "code",
   "execution_count": null,
   "id": "c5e966d2-3483-4f22-907d-f68f5174b31b",
   "metadata": {},
   "outputs": [],
   "source": [
    "noncarboyx"
   ]
  },
  {
   "cell_type": "code",
   "execution_count": null,
   "id": "1abc07f4-fdaa-4b63-81c7-c1896e29b4d1",
   "metadata": {},
   "outputs": [],
   "source": [
    "\n",
    "co2dipepgraphs={}\n",
    "co2mgs={}\n",
    "for k,v in co2files.items():\n",
    "    # Create the MolGraph object\n",
    "    mg = MolGraph()\n",
    "\n",
    "    # Read the data from the .xyz file\n",
    "    mg.read_xyz(v)\n",
    "    co2mgs[k]=mg\n",
    "    # Convert the molecular graph to the NetworkX graph\n",
    "    G = to_networkx_graph(mg)\n",
    "    co2dipepgraphs[k]=G\n",
    "    \n",
    "dipepgraphs={}    \n",
    "mgs={}\n",
    "for k,v in monomerfiles.items():\n",
    "    # Create the MolGraph object\n",
    "    mg = MolGraph()\n",
    "\n",
    "    # Read the data from the .xyz file\n",
    "    mg.read_xyz(v)\n",
    "    mgs[k]=mg\n",
    "    # Convert the molecular graph to the NetworkX graph\n",
    "    G = to_networkx_graph(mg)\n",
    "    dipepgraphs[k]=G    \n"
   ]
  },
  {
   "cell_type": "code",
   "execution_count": null,
   "id": "d2aa2b12-2645-4233-8856-3e22913d1817",
   "metadata": {},
   "outputs": [],
   "source": [
    "# FLAG!\n",
    "# df.loc['Asparagine-Alanine']\n",
    "# fig = to_plotly_figure(co2mgs['Asparagine-Alanine'])\n",
    "# offline.plot(fig)\n",
    "\n",
    "# FLAG THIS ONE!!\n",
    "# fig = to_plotly_figure(co2mgs['Alanine-Lysine'])\n",
    "# offline.plot(fig)"
   ]
  },
  {
   "cell_type": "code",
   "execution_count": null,
   "id": "39b913e0-1a3a-434e-8ed0-0314c2388acf",
   "metadata": {},
   "outputs": [],
   "source": [
    "for k,v in pairs.to_dict()[1].items():\n",
    "    names=v.split('-')\n",
    "    for j in names:\n",
    "        if 'acid' in j:\n",
    "            print(names)"
   ]
  },
  {
   "cell_type": "code",
   "execution_count": null,
   "id": "969bef5d-692a-4370-a234-8fdbac0fad74",
   "metadata": {},
   "outputs": [],
   "source": [
    "AAs"
   ]
  },
  {
   "cell_type": "code",
   "execution_count": null,
   "id": "92ed9c84-1ac0-484b-9374-335b8c84e753",
   "metadata": {},
   "outputs": [],
   "source": [
    "df.loc['Glycine-Proline']['Interaction_Energy']"
   ]
  },
  {
   "cell_type": "code",
   "execution_count": null,
   "id": "25a3dcc9-c932-4af0-9c1b-0ff6268fb484",
   "metadata": {},
   "outputs": [],
   "source": [
    "df.loc['Glycine-Proline']['label']"
   ]
  },
  {
   "cell_type": "code",
   "execution_count": null,
   "id": "e388c268-7bde-40e8-ad2a-4bc6b27ef243",
   "metadata": {},
   "outputs": [],
   "source": [
    "AA_df.loc['Glycine'],AA_df.loc['Proline']"
   ]
  },
  {
   "cell_type": "code",
   "execution_count": null,
   "id": "6d4c456e-1d10-4058-86d5-b095e881eb41",
   "metadata": {},
   "outputs": [],
   "source": [
    "# pca = PCA(n_components=2)\n",
    "# pca_result = pca.fit_transform(X)\n",
    "\n",
    "# pcadf['pca-one'] = pca_result[:,0]\n",
    "# pcadf['pca-two'] = pca_result[:,1] \n",
    "# # pcadf['pca-three'] = pca_result[:,2]\n",
    "# print('Explained variation per principal component: {}'.format(pca.explained_variance_ratio_))\n",
    "# print(sum(pca.explained_variance_ratio_))\n",
    "# plt.figure(figsize=(16,10))\n",
    "# sns.scatterplot(\n",
    "#     x=\"pca-one\", y=\"pca-two\",\n",
    "#     # hue='A_side',\n",
    "#     palette=sns.color_palette(\"hls\", 8),\n",
    "#     data=pcadf,\n",
    "#     legend=\"full\"\n",
    "# )\n",
    "\n",
    "# # sns.scatterplot(\n",
    "# #     x=\"pca-one\", y=\"pca-three\",\n",
    "# #     hue='Interaction_Energy',\n",
    "# #     palette=sns.color_palette(\"hls\", 8),\n",
    "# #     data=pcadf,\n",
    "# #     legend=\"full\"\n",
    "# # )\n"
   ]
  },
  {
   "cell_type": "code",
   "execution_count": null,
   "id": "c43f867e-833e-4f04-90c4-292c0ad8c0a2",
   "metadata": {},
   "outputs": [],
   "source": [
    "sorted_IE={}\n",
    "all_energies=pd.DataFrame(columns=AAs,index=AAs)\n",
    "IE_df=pd.DataFrame(columns=AAs,index=AAs)\n",
    "glygly_df=pd.DataFrame(columns=AAs,index=AAs)\n",
    "for A in AAs:\n",
    "    sorted_IE[A]={B:df['Interaction_Energy'].to_dict()['-'.join((A,B))] for B in AAs}\n",
    "    for B in AAs:\n",
    "        IE_df[A].loc[B]=df['Interaction_Energy'].to_dict()['-'.join((A,B))]-df['Interaction_Energy'].to_dict()['-'.join((A,A))]\n",
    "        glygly_df[A].loc[B]=df['Interaction_Energy'].to_dict()['-'.join((A,B))]-df['Interaction_Energy'].to_dict()['-'.join(('Glycine','Glycine'))]\n",
    "        all_energies[A].loc[B]=df['Interaction_Energy'].to_dict()['-'.join((A,B))]"
   ]
  },
  {
   "cell_type": "code",
   "execution_count": null,
   "id": "19b7122b-b780-4b7b-8dad-1fe0e1b860c5",
   "metadata": {},
   "outputs": [],
   "source": [
    "df['Interaction_Energy'].describe().to_excel('describe_dipep_IE.xlsx')"
   ]
  },
  {
   "cell_type": "code",
   "execution_count": null,
   "id": "b72bdb8e-073a-44f0-920f-71255d1bd6de",
   "metadata": {},
   "outputs": [],
   "source": [
    "minDF=pd.DataFrame([all_energies.astype(float).idxmax(),all_energies.astype(float).max()]).T.rename(columns={0:'idxmin',1:'min'})"
   ]
  },
  {
   "cell_type": "code",
   "execution_count": null,
   "id": "6d4b50a6-5af6-426c-99d5-2aca30e8d96a",
   "metadata": {},
   "outputs": [],
   "source": [
    "minDF['idxmin'][minDF['idxmin']=='Glycine']"
   ]
  },
  {
   "cell_type": "code",
   "execution_count": null,
   "id": "49355d8d-6d3b-47b2-bb4c-1db466a6d4fd",
   "metadata": {},
   "outputs": [],
   "source": [
    "df.loc[[f'{k}-{v}' for k,v in minDF['idxmin'][minDF['idxmin']=='Glycine'].to_dict().items()]].sum()"
   ]
  },
  {
   "cell_type": "code",
   "execution_count": null,
   "id": "29da6494-aec3-4a73-8ef7-5866ceedcaf0",
   "metadata": {},
   "outputs": [],
   "source": [
    "maxDF=pd.DataFrame([all_energies.astype(float).idxmin(),all_energies.astype(float).min()]).T.rename(columns={0:'idxmax',1:'max'})"
   ]
  },
  {
   "cell_type": "code",
   "execution_count": null,
   "id": "f70f9bfa-7c30-4ad9-86de-45f5c194c7a3",
   "metadata": {},
   "outputs": [],
   "source": [
    "maxDF"
   ]
  },
  {
   "cell_type": "code",
   "execution_count": null,
   "id": "79cfa1ba-8d28-4444-bf98-fcc943ed4be9",
   "metadata": {},
   "outputs": [],
   "source": [
    "sum([[f'{k} {v:.4f} kcal/mol'] for k,v in maxDF['max'].astype(float).describe().to_dict().items()],[])"
   ]
  },
  {
   "cell_type": "code",
   "execution_count": null,
   "id": "d365c754-9dbe-4aa9-bbf3-eb5582b5c21a",
   "metadata": {},
   "outputs": [],
   "source": [
    "aa_color_dct=dict(zip(AA_df.index,sns.color_palette('Paired',len(AA_df))))"
   ]
  },
  {
   "cell_type": "code",
   "execution_count": null,
   "id": "d0194220-bde7-45ba-ab6e-0b31ad698046",
   "metadata": {
    "tags": []
   },
   "outputs": [],
   "source": [
    "df.loc[[f\"{k}-{v}\" for k,v in minDF['idxmin'].to_dict().items()]]['Interaction_Energy'].describe()"
   ]
  },
  {
   "cell_type": "code",
   "execution_count": null,
   "id": "206042e2-cde7-4b78-907c-8c639dff826a",
   "metadata": {
    "tags": []
   },
   "outputs": [],
   "source": [
    "df.loc[[f\"{k}-{v}\" for k,v in maxDF['idxmax'].to_dict().items()]]['Interaction_Energy'].describe()"
   ]
  },
  {
   "cell_type": "code",
   "execution_count": null,
   "id": "71b44a87-fd1d-4d7b-ae01-36d2592987e4",
   "metadata": {
    "tags": []
   },
   "outputs": [],
   "source": [
    "df"
   ]
  },
  {
   "cell_type": "code",
   "execution_count": null,
   "id": "964192c9-5486-4556-9eda-9356367d6374",
   "metadata": {
    "tags": []
   },
   "outputs": [],
   "source": [
    "df.loc[[i[0]+'-'+i[1] for i in minDF.reset_index().to_numpy()]].sum()"
   ]
  },
  {
   "cell_type": "code",
   "execution_count": null,
   "id": "b5f62e18-382f-40a3-a544-1a9a706cb84f",
   "metadata": {
    "tags": []
   },
   "outputs": [],
   "source": [
    "df.loc[[i[0]+'-'+i[1] for i in maxDF.reset_index().to_numpy()]].sum()"
   ]
  },
  {
   "cell_type": "code",
   "execution_count": null,
   "id": "ab1ef30d-8414-46bf-b533-7eb0bc54bd29",
   "metadata": {},
   "outputs": [],
   "source": [
    "fig,(ax1,ax2)=plt.subplots(1,2,figsize=(12,5))\n",
    "\n",
    "cntidmin=minDF['idxmin'].value_counts()\n",
    "mincmap=sns.color_palette('Paired',len(cntidmin))\n",
    "ax1.pie(cntidmin.values, labels = cntidmin.index, autopct='%.0f%%',colors=mincmap)\n",
    "ax1.set_title('Weakest Dehydrogenated Distribution')\n",
    "\n",
    "cntidmax=maxDF['idxmax'].value_counts()\n",
    "maxcmap=sns.color_palette('Paired',len(cntidmax)-1)+[sns.color_palette('Paired',2)[1]]\n",
    "ax2.pie(cntidmax.values, labels = cntidmax.index, autopct='%.0f%%',colors=maxcmap)\n",
    "ax2.set_title('Strongest Dehydrogenated Distribution')\n",
    "plt.tight_layout()\n",
    "plt.savefig('dehydrogenated_dis.png',dpi=300,bbox_inches='tight')\n",
    "plt.show()\n",
    "\n",
    "\n"
   ]
  },
  {
   "cell_type": "code",
   "execution_count": null,
   "id": "bff0a052-b0ce-4eaa-b377-9dd3432f2149",
   "metadata": {},
   "outputs": [],
   "source": [
    "df.loc[['-'.join(i) for i in minDF['idxmin'].reset_index().to_numpy() if i[1]=='Glycine']][sitelist].sum().sort_values()"
   ]
  },
  {
   "cell_type": "code",
   "execution_count": null,
   "id": "a264ca64-cd0f-4d71-b239-9c4a6ddabf58",
   "metadata": {},
   "outputs": [],
   "source": [
    "['-'.join(i) for i in minDF['idxmin'].reset_index().to_numpy() if i[1]=='Glycine']"
   ]
  },
  {
   "cell_type": "code",
   "execution_count": null,
   "id": "db3ca931-8338-448d-98d6-87c40a56d3c3",
   "metadata": {},
   "outputs": [],
   "source": []
  },
  {
   "cell_type": "code",
   "execution_count": null,
   "id": "f4b22730-93c6-4ee6-82d6-99e835a77973",
   "metadata": {},
   "outputs": [],
   "source": [
    "df[sitelist].loc[[\"-\".join(i) for i in np.vstack([maxDF['idxmax'].reset_index().to_numpy()[maxDF['idxmax'].reset_index().to_numpy()[:,1]==B] for B in [\"Histidine\",\"Glutamic\",\"Glutamine\"]])]].sum().sort_values()"
   ]
  },
  {
   "cell_type": "code",
   "execution_count": null,
   "id": "315e3ce7-4045-4372-b614-bde4c333fd59",
   "metadata": {},
   "outputs": [],
   "source": [
    "df.loc[['-'.join(i) for i in maxDF['idxmax'].reset_index().to_numpy() if i[1]=='Asparagine']][sitelist].sum().sort_values()\n"
   ]
  },
  {
   "cell_type": "code",
   "execution_count": null,
   "id": "460648f4-6bcf-4a1f-b957-6c0abc18d46b",
   "metadata": {},
   "outputs": [],
   "source": [
    "['-'.join(i) for i in maxDF['idxmax'].reset_index().to_numpy() if i[1]=='Asparagine']\n"
   ]
  },
  {
   "cell_type": "code",
   "execution_count": null,
   "id": "d8f2e367-0663-4ec0-b478-8efe3b922830",
   "metadata": {},
   "outputs": [],
   "source": [
    "outliers=df['Interaction_Energy'][df['Interaction_Energy']<df['Interaction_Energy'].describe()['25%']-1.5*(df['Interaction_Energy'].describe()['75%']-df['Interaction_Energy'].describe()['25%'])].index"
   ]
  },
  {
   "cell_type": "code",
   "execution_count": null,
   "id": "4b4a2923-51b4-47b7-b01d-e0a977db59b6",
   "metadata": {},
   "outputs": [],
   "source": [
    "df['Interaction_Energy'].loc[outliers]"
   ]
  },
  {
   "cell_type": "code",
   "execution_count": null,
   "id": "eb2a3035-1e30-4ec2-9070-198f1946bd34",
   "metadata": {},
   "outputs": [],
   "source": [
    "df['Interaction_Energy'].idxmin(),df['Interaction_Energy'].min().round(2)"
   ]
  },
  {
   "cell_type": "code",
   "execution_count": null,
   "id": "8dbeebf8-8a39-4026-bc3b-0ba9135651f8",
   "metadata": {},
   "outputs": [],
   "source": [
    "df['Interaction_Energy'].idxmax(),df['Interaction_Energy'].max().round(2)"
   ]
  },
  {
   "cell_type": "code",
   "execution_count": null,
   "id": "0eb0452d-7058-4211-851e-fce988a7a58a",
   "metadata": {},
   "outputs": [],
   "source": [
    "df['Interaction_Energy'].describe().round(2)"
   ]
  },
  {
   "cell_type": "code",
   "execution_count": null,
   "id": "b5d226eb-805b-4c29-8ae6-005975d3e5d4",
   "metadata": {},
   "outputs": [],
   "source": [
    "AA_df.describe().round(2)"
   ]
  },
  {
   "cell_type": "code",
   "execution_count": null,
   "id": "be4c7be3-6604-4aea-9668-f1986f2357fa",
   "metadata": {},
   "outputs": [],
   "source": [
    "all_energies.astype(float).describe().loc['max'].describe().round(2)"
   ]
  },
  {
   "cell_type": "code",
   "execution_count": null,
   "id": "b153dd6c-a4bd-4cee-8eab-e04a3c251ec6",
   "metadata": {},
   "outputs": [],
   "source": [
    "all_energies.astype(float).describe().loc['min'].describe().round(2)"
   ]
  },
  {
   "cell_type": "code",
   "execution_count": null,
   "id": "d3796a72-c12b-4e10-9c00-feca1aa8b5a9",
   "metadata": {},
   "outputs": [],
   "source": [
    "fig,(ax1,ax2)=plt.subplots(1,2,figsize=(10,5),sharey=True)\n",
    "sns.boxplot(data=pd.concat([AA_df,df['Interaction_Energy']]).rename(columns={\"Interaction_Energy\":'Dipeptides',1:'Amino Acids'}),ax=ax1,palette=sns.color_palette('Paired'))\n",
    "\n",
    "ax1.set_ylim(-12,0)\n",
    "ax1.set_ylabel('Interaction Energies (kcal/mol)')\n",
    "sns.boxplot(data=all_energies,ax=ax2,palette=sns.color_palette('Paired'))\n",
    "ax2.set_xticklabels(ax2.get_xticklabels(), rotation = 90, ha=\"center\")\n",
    "\n",
    "plt.tight_layout()\n",
    "plt.savefig('boxplot_IEs_vs_AAs.png',dpi=300,bbox_inches='tight')"
   ]
  },
  {
   "cell_type": "code",
   "execution_count": null,
   "id": "3874a67f-a720-4763-a64d-d94a01f827f2",
   "metadata": {},
   "outputs": [],
   "source": [
    "\n",
    "ax=sns.heatmap(data=all_energies.astype(float),cmap=sns.cm.rocket, linewidth=.01,cbar_kws={'label': 'Interaction Energy (kcal/mol)'}, vmin=-12, vmax=0,square=True)\n",
    "ax.invert_yaxis()\n",
    "plt.xlabel('Peptide B')\n",
    "plt.ylabel('Peptide A')\n",
    "plt.savefig('pair_heat.png',dpi=300,bbox_inches='tight')\n",
    "plt.show()"
   ]
  },
  {
   "cell_type": "code",
   "execution_count": null,
   "id": "521c7b7e-2918-4783-8c77-07414139417e",
   "metadata": {},
   "outputs": [],
   "source": [
    "palette=sns.color_palette('Paired',20)\n",
    "markers=['o','x','^','1','*']"
   ]
  },
  {
   "cell_type": "code",
   "execution_count": null,
   "id": "a7a3615f-7f5e-4db3-a436-350a60a158b7",
   "metadata": {},
   "outputs": [],
   "source": [
    "from matplotlib import cm\n",
    "from matplotlib.ticker import LinearLocator\n",
    "\n",
    "\n",
    "data_3D=[]\n",
    "for idx,A in enumerate(AA_df.index):\n",
    "    for idxb,B in enumerate(AA_df.index):\n",
    "        data_3D.append([AA_df.loc[A].values[0],AA_df.loc[B].values[0],all_energies[A][B]])\n",
    "data_3D=np.array(data_3D)\n",
    "\n",
    "X=data_3D[:,0]\n",
    "Y=data_3D[:,1]\n",
    "Z=data_3D[:,2].reshape(-1,1)\n",
    "\n",
    "\n",
    "\n",
    "# fig, ax = plt.subplots(subplot_kw={\"projection\": \"3d\"})\n",
    "# ax.scatter(X, Y, Z)\n",
    "# # X, Y = np.meshgrid(X, Y)\n",
    "\n",
    "# # # Plot the surface.\n",
    "# # surf = ax.plot_surface(X, Y, Z, cmap=cm.coolwarm,\n",
    "# #                        linewidth=0, antialiased=False)\n",
    "\n",
    "# # # Customize the z axis.\n",
    "# # # ax.set_zlim(-1.01, 1.01)\n",
    "# # ax.zaxis.set_major_locator(LinearLocator(10))\n",
    "# # # A StrMethodFormatter is used automatically\n",
    "# # ax.zaxis.set_major_formatter('{x:.02f}')\n",
    "\n",
    "# # # Add a color bar which maps values to colors.\n",
    "# # fig.colorbar(surf, shrink=0.5, aspect=5)\n",
    "\n",
    "# # Rotate the axes and update\n",
    "# for angle in range(0, 360*4 + 1):\n",
    "#     # Normalize the angle to the range [-180, 180] for display\n",
    "#     angle_norm = (angle + 180) % 360 - 180\n",
    "\n",
    "#     # Cycle through a full rotation of elevation, then azimuth, roll, and all\n",
    "#     elev = azim = roll = 0\n",
    "#     if angle <= 360:\n",
    "#         elev = angle_norm\n",
    "#     elif angle <= 360*2:\n",
    "#         azim = angle_norm\n",
    "#     elif angle <= 360*3:\n",
    "#         roll = angle_norm\n",
    "#     else:\n",
    "#         elev = azim = roll = angle_norm\n",
    "\n",
    "#     # Update the axis view and title\n",
    "#     ax.view_init(elev, azim, roll)\n",
    "#     plt.title('Elevation: %d°, Azimuth: %d°, Roll: %d°' % (elev, azim, roll))\n",
    "\n",
    "#     plt.draw()\n",
    "#     plt.pause(.001)\n",
    "\n",
    "# # plt.show()\n"
   ]
  },
  {
   "cell_type": "code",
   "execution_count": null,
   "id": "9eed1469-d0a8-4e7a-9591-63a09ce3f1fd",
   "metadata": {},
   "outputs": [],
   "source": []
  },
  {
   "cell_type": "code",
   "execution_count": null,
   "id": "03f2d600-9da6-4f15-aabb-dd68f5140203",
   "metadata": {},
   "outputs": [],
   "source": [
    "greaterdehydroxy=pd.concat([(all_energies[A]<=AA_df.loc[A].values[0]).value_counts() for idx,A in enumerate(AA_df.index)],axis=1)\n",
    "greaterdehydro=pd.concat([(all_energies.T[A]<=AA_df.loc[A].values[0]).value_counts() for idx,A in enumerate(AA_df.index)],axis=1)\n",
    "greaterdehydroxy_int=greaterdehydroxy.T.sum()\n",
    "greaterdehydro_int=pd.concat([(all_energies.T[A]<=AA_df.loc[A].values[0]).value_counts() for idx,A in enumerate(AA_df.index)],axis=1).T.sum()"
   ]
  },
  {
   "cell_type": "code",
   "execution_count": null,
   "id": "c785bb7e-76a5-494a-90ce-0d9c8799bbed",
   "metadata": {},
   "outputs": [],
   "source": [
    "df[sitelist].loc[[f'Leucine-{i}' for i in all_energies['Leucine'][AA_df.loc['Leucine'].values[0]<all_energies['Leucine']].index]].sum().sort_values()"
   ]
  },
  {
   "cell_type": "code",
   "execution_count": null,
   "id": "9d0ec6f3-c62a-460a-b0c1-f47c4de0ed7b",
   "metadata": {},
   "outputs": [],
   "source": [
    "df[sitelist].loc[[f'Arginine-{i}' for i in all_energies['Arginine'][AA_df.loc['Arginine'].values[0]<all_energies['Arginine']].index]].sum().sort_values()"
   ]
  },
  {
   "cell_type": "code",
   "execution_count": null,
   "id": "5ece368b-a5c7-4058-b85f-ecd7cb022931",
   "metadata": {},
   "outputs": [],
   "source": [
    "all_energies.loc[['Leucine','Arginine']]"
   ]
  },
  {
   "cell_type": "code",
   "execution_count": null,
   "id": "1fb4f9b0-ea2f-4d68-bca1-a28c0932ee9b",
   "metadata": {},
   "outputs": [],
   "source": [
    "all_energies[['Leucine','Arginine']]"
   ]
  },
  {
   "cell_type": "code",
   "execution_count": null,
   "id": "89e6595c-cfdb-4a4b-b79a-f966acf725e3",
   "metadata": {},
   "outputs": [],
   "source": [
    "[[all_energies[A].loc[(all_energies[A]>=AA_df.loc[A].values[0])],AA_df.loc[A].values[0]] for idx,A in enumerate(AA_df.index)]"
   ]
  },
  {
   "cell_type": "code",
   "execution_count": null,
   "id": "35614fa9-21e3-4b32-8f79-f5ed2d846e1a",
   "metadata": {},
   "outputs": [],
   "source": [
    "greaterdehydro.T[False].dropna().sort_values()"
   ]
  },
  {
   "cell_type": "code",
   "execution_count": null,
   "id": "7d55ab7d-82e9-4be1-a7a9-c517700a04a6",
   "metadata": {},
   "outputs": [],
   "source": [
    "for i in AA_df.index:\n",
    "    print(all_energies.T[i][(AA_df.loc[i].values[0]>all_energies.T[i])&(AA_df.loc[i].values[0]>all_energies[i])])"
   ]
  },
  {
   "cell_type": "code",
   "execution_count": null,
   "id": "9cb66822-c755-4101-a6c2-0f14e0c3f151",
   "metadata": {},
   "outputs": [],
   "source": [
    "\n",
    "\n",
    "\n",
    "\n",
    "\n",
    "fig,((ax1,ax2),(ax3,ax4),(ax5,ax6))=plt.subplots(3,2,figsize=(12,15))\n",
    "\n",
    "\n",
    "cmap=sns.color_palette('Paired',2)\n",
    "ax1.pie(greaterdehydroxy_int.values, labels = ['Stronger Interaction (S)','Weaker Interaction (W)'], autopct='%.0f%%',colors=cmap)\n",
    "ax1.set_title('Dehydroxylated Peptide vs. Amino Acid')\n",
    "\n",
    "\n",
    "ax2.pie(greaterdehydro_int.values, labels = ['Stronger Interaction (S)','Weaker Interaction (W)'], autopct='%.0f%%',colors=cmap)\n",
    "ax2.set_title('Dehydrogenated Peptide vs. Amino Acid')\n",
    "plt.tight_layout()\n",
    "\n",
    "\n",
    "\n",
    "gtIE_dehydroxy=[]\n",
    "for i in AA_df.index:\n",
    "    gtIE_dehydroxy.append(list(all_energies[i][AA_df.loc[i].values[0]>all_energies[i]].index))\n",
    "gtIE_dehydroxy_arr=np.array(sorted(Counter(sum(gtIE_dehydroxy,[])).items(),key=lambda x: x[1]))\n",
    "\n",
    "mincmap=sns.color_palette('Paired',len(gtIE_dehydroxy_arr))\n",
    "ax3.pie(gtIE_dehydroxy_arr[:,1].astype(int), labels = gtIE_dehydroxy_arr[:,0], autopct='%.0f%%',colors=mincmap, pctdistance=0.9)\n",
    "ax3.set_title('Composition of S Dehydroxylated Peptide')\n",
    "\n",
    "\n",
    "\n",
    "ltIE_dehydroxy=[]\n",
    "for i in AA_df.index:\n",
    "    ltIE_dehydroxy.append(list(all_energies[i][AA_df.loc[i].values[0]<all_energies[i]].index))\n",
    "ltIE_dehydroxy_arr=np.array(sorted(Counter(sum(ltIE_dehydroxy,[])).items(),key=lambda x: x[1]))\n",
    "\n",
    "mincmap=sns.color_palette('Paired',len(ltIE_dehydroxy_arr))\n",
    "ax5.pie(ltIE_dehydroxy_arr[:,1].astype(int), labels = ltIE_dehydroxy_arr[:,0], autopct='%.0f%%',colors=mincmap, pctdistance=0.9)\n",
    "ax5.set_title('Composition of W Dehydroxylated Peptide')\n",
    "\n",
    "gtIE_dehydrogen=[]\n",
    "for i in AA_df.index:\n",
    "    gtIE_dehydrogen.append(list(all_energies.T[i][AA_df.loc[i].values[0]>all_energies.T[i]].index))\n",
    "gtIE_dehydrogen_arr=np.array(sorted(Counter(sum(gtIE_dehydrogen,[])).items(),key=lambda x: x[1]))\n",
    "\n",
    "mincmap=sns.color_palette('Paired',len(gtIE_dehydrogen_arr))\n",
    "ax4.pie(gtIE_dehydrogen_arr[:,1].astype(int), labels = gtIE_dehydrogen_arr[:,0], autopct='%.0f%%',colors=mincmap, pctdistance=0.9)\n",
    "ax4.set_title('Composition of S Dehydrogenated Peptide')\n",
    "\n",
    "\n",
    "ltIE_dehydrogen=[]\n",
    "for i in AA_df.index:\n",
    "    ltIE_dehydrogen.append(list(all_energies.T[i][AA_df.loc[i].values[0]<all_energies.T[i]].index))\n",
    "ltIE_dehydrogen_arr=np.array(sorted(Counter(sum(ltIE_dehydrogen,[])).items(),key=lambda x: x[1]))\n",
    "\n",
    "mincmap=sns.color_palette('Paired',len(ltIE_dehydrogen_arr))\n",
    "ax6.pie(ltIE_dehydrogen_arr[:,1].astype(int), labels = ltIE_dehydrogen_arr[:,0], autopct='%.0f%%',colors=mincmap, pctdistance=0.9)\n",
    "ax6.set_title('Composition of W Dehydrogenated Peptide')\n",
    "\n",
    "plt.tight_layout()\n",
    "\n",
    "plt.savefig('interaction_compare.png',dpi=300,bbox_inches='tight')\n",
    "plt.show()\n",
    "\n",
    "\n",
    "\n"
   ]
  },
  {
   "cell_type": "code",
   "execution_count": null,
   "id": "d7ee3dc0-65e8-4d43-a694-f72906518475",
   "metadata": {},
   "outputs": [],
   "source": [
    "for i in AA_df.index:\n",
    "    print(list(all_energies[i][AA_df.loc[i].values[0]>all_energies[i]].index))"
   ]
  },
  {
   "cell_type": "code",
   "execution_count": null,
   "id": "bf38c2e8-2f6c-4e64-9047-5e09a1c0fbd4",
   "metadata": {},
   "outputs": [],
   "source": [
    "pd.concat([pd.DataFrame.from_dict(dict(Counter(sum(ltIE_dehydroxy,[]))),orient='index'),pd.DataFrame.from_dict(dict(Counter(sum(ltIE_dehydrogen,[]))),orient='index')],axis=1).sum(axis=1).sort_values()"
   ]
  },
  {
   "cell_type": "code",
   "execution_count": null,
   "id": "f6732112-e111-446d-9d58-2eb9c037ab0d",
   "metadata": {},
   "outputs": [],
   "source": [
    "pd.concat([pd.DataFrame.from_dict(dict(Counter(sum(gtIE_dehydroxy,[]))),orient='index'),pd.DataFrame.from_dict(dict(Counter(sum(gtIE_dehydrogen,[]))),orient='index')],axis=1).sum(axis=1).sort_values()\n",
    "\n",
    "\n"
   ]
  },
  {
   "cell_type": "code",
   "execution_count": null,
   "id": "c77f4b60-17f4-44d2-a2d3-1b37f2fc535f",
   "metadata": {},
   "outputs": [],
   "source": []
  },
  {
   "cell_type": "code",
   "execution_count": null,
   "id": "c91ded79-58f5-40c6-8008-37fc0ee655bc",
   "metadata": {},
   "outputs": [],
   "source": [
    "from matplotlib.colors import LinearSegmentedColormap\n",
    "\n",
    "fig,(ax1,ax2)=plt.subplots(1,2,figsize=(15,6))\n",
    "cmap = sns.cm.rocket_r\n",
    "# cmap = LinearSegmentedColormap.from_list('', np.vstack([sns.color_palette('rocket'),sns.color_palette('rocket_r')]))\n",
    "sns.heatmap(data=IE_df.astype(float),ax=ax1,cmap=cmap, linewidth=.01,cbar_kws={'label': 'Deviation (kcal/mol)'}, vmin=-5, vmax=9,square=True)\n",
    "ax1.set_title('Deviation Between AA')\n",
    "ax1.set_xlabel('Amino Acid A')\n",
    "ax1.set_ylabel('Amino Acid B')\n",
    "ax1.invert_yaxis()\n",
    "\n",
    "# cmap = LinearSegmentedColormap.from_list('', np.vstack([sns.color_palette('rocket',8),sns.color_palette('rocket_r',3)]))\n",
    "sns.heatmap(data=glygly_df.astype(float),ax=ax2,cmap=cmap, linewidth=.01,cbar_kws={'label': 'Deviation (kcal/mol)'}, vmin=-8, vmax=1,square=True)\n",
    "ax2.set_title('Deviation Between Glycine-Glycine')\n",
    "ax2.set_xlabel('Amino Acid A')\n",
    "ax2.set_ylabel('Amino Acid B')\n",
    "ax2.invert_yaxis()\n",
    "plt.tight_layout()\n",
    "# plt.savefig(rdeviations.png',dpi=300,bbox_inches='tight')\n",
    "plt.show()"
   ]
  },
  {
   "cell_type": "code",
   "execution_count": null,
   "id": "fa434c6e-2da8-463b-a034-a1cfc4902e67",
   "metadata": {},
   "outputs": [],
   "source": [
    "site_df=df[sorted(sitelist)+['Interaction_Energy']].sort_values(by='Interaction_Energy')"
   ]
  },
  {
   "cell_type": "code",
   "execution_count": null,
   "id": "3552ee80-7f43-4652-ac6f-5cf01fe4a27e",
   "metadata": {},
   "outputs": [],
   "source": [
    "site_df[site_df==0]=np.nan"
   ]
  },
  {
   "cell_type": "code",
   "execution_count": null,
   "id": "963e7995-9712-4ae6-a11b-445b9fc9e3bf",
   "metadata": {
    "tags": []
   },
   "outputs": [],
   "source": [
    "len(sitelist)"
   ]
  },
  {
   "cell_type": "code",
   "execution_count": null,
   "id": "34b75d8f-5220-460e-b1d6-4d5088c8648f",
   "metadata": {
    "tags": []
   },
   "outputs": [],
   "source": [
    "[(i+1)%2 for i in range(8)]"
   ]
  },
  {
   "cell_type": "code",
   "execution_count": null,
   "id": "3347ee3e-8b8e-4af7-a71f-ec884cc413ac",
   "metadata": {
    "tags": []
   },
   "outputs": [],
   "source": [
    "interdict_conv={'A_carboxy':'A Carboxyl', 'A_amine':'A Secondary Amine', 'A_link':'A Linking Hydrogen', 'A_side':'A Side-Chain','B_carboxy':'B Carboxylic Acid', 'B_amine':'B Primary Amine', 'B_link':'B Linking Hydrogen', 'B_side':'B Side-Chain'}"
   ]
  },
  {
   "cell_type": "code",
   "execution_count": null,
   "id": "6c3e38e5-453d-48df-ad51-286a9c1bab21",
   "metadata": {
    "tags": []
   },
   "outputs": [],
   "source": [
    "\n",
    "\n",
    "for i in sorted(set([i.strip('A_').strip('_B') for i in sitelist])):\n",
    "    print(i)\n",
    "    print(site_df.loc[site_df[f'A_{i}'].dropna().index]['Interaction_Energy'].describe())\n",
    "    print(site_df.loc[site_df[f'B_{i}'].dropna().index]['Interaction_Energy'].describe())\n",
    "    print()"
   ]
  },
  {
   "cell_type": "code",
   "execution_count": null,
   "id": "331b5dbb-9791-4833-8028-06c039264fd9",
   "metadata": {
    "tags": []
   },
   "outputs": [],
   "source": [
    "site_df.loc[site_df['A_amine'].dropna().index]['Interaction_Energy'].describe()"
   ]
  },
  {
   "cell_type": "code",
   "execution_count": null,
   "id": "efa7c1b0-98a5-46b2-83a2-adeee3f022d2",
   "metadata": {
    "tags": []
   },
   "outputs": [],
   "source": [
    "site_df.loc[site_df['B_amine'].dropna().index]['Interaction_Energy'].describe()"
   ]
  },
  {
   "cell_type": "code",
   "execution_count": null,
   "id": "030363d2-7677-4c36-9228-86b33e0d5a88",
   "metadata": {},
   "outputs": [],
   "source": []
  },
  {
   "cell_type": "code",
   "execution_count": null,
   "id": "bb8ae73c-3449-46b5-82c3-ab46c19c98ce",
   "metadata": {},
   "outputs": [],
   "source": []
  },
  {
   "cell_type": "code",
   "execution_count": null,
   "id": "8f0f8ab6-078c-4ac2-b677-0b4994a38472",
   "metadata": {},
   "outputs": [],
   "source": [
    "site_df"
   ]
  },
  {
   "cell_type": "code",
   "execution_count": null,
   "id": "084dc2b4-d957-4dd9-b8cc-c076e8856b93",
   "metadata": {},
   "outputs": [],
   "source": []
  },
  {
   "cell_type": "code",
   "execution_count": null,
   "id": "3534dae3-8e47-4b74-8ce0-fc848076217b",
   "metadata": {},
   "outputs": [],
   "source": [
    "sitelist"
   ]
  },
  {
   "cell_type": "code",
   "execution_count": null,
   "id": "e8d24199-fdc1-4063-b212-4c5324e85857",
   "metadata": {
    "tags": []
   },
   "outputs": [],
   "source": [
    "pd.concat([site_df[site_df[i].isna()==False]['Interaction_Energy'].describe().rename(i) for i in sitelist],axis=1).to_excel('interaction_site_dist.xlsx')"
   ]
  },
  {
   "cell_type": "code",
   "execution_count": null,
   "id": "6be5b372-d41f-4a2d-ac2c-52630c1267dd",
   "metadata": {},
   "outputs": [],
   "source": [
    "site_df[site_df['A_amine'].isna()==False]['Interaction_Energy'].describe().round(2).loc['mean']"
   ]
  },
  {
   "cell_type": "code",
   "execution_count": null,
   "id": "c2d75206-6c94-44e4-8027-0533284cf5d2",
   "metadata": {},
   "outputs": [],
   "source": [
    "for sl in sorted(set([i.split('_')[1] for i in sitelist])):\n",
    "    print(\"A_\"+sl,site_df[site_df[\"A_\"+sl].isna()==False]['Interaction_Energy'].describe().round(2).loc['mean'])\n",
    "    print(\"B_\"+sl,site_df[site_df[\"B_\"+sl].isna()==False]['Interaction_Energy'].describe().round(2).loc['mean'])\n",
    "    print()"
   ]
  },
  {
   "cell_type": "code",
   "execution_count": null,
   "id": "905ebc16-3b96-424d-a3bf-6ab36ca36173",
   "metadata": {},
   "outputs": [],
   "source": [
    "site_df.sort_values(by='Interaction_Energy').nsmallest(10,columns=['Interaction_Energy'])"
   ]
  },
  {
   "cell_type": "code",
   "execution_count": null,
   "id": "ab757005-fd85-4f29-9a59-8294c262e601",
   "metadata": {},
   "outputs": [],
   "source": [
    "site_df.sum().drop('Interaction_Energy').sort_values()"
   ]
  },
  {
   "cell_type": "code",
   "execution_count": null,
   "id": "fb439040-f63b-4865-a011-f4dd84c4689e",
   "metadata": {},
   "outputs": [],
   "source": [
    "site_df.sum().loc[['A_carboxy','B_carboxy']]"
   ]
  },
  {
   "cell_type": "code",
   "execution_count": null,
   "id": "d02743bd-7c9b-4e6b-9d58-e4ec47724270",
   "metadata": {},
   "outputs": [],
   "source": [
    "site_df.sum().loc[['A_side','B_side']].sum()"
   ]
  },
  {
   "cell_type": "code",
   "execution_count": null,
   "id": "827ad404-c58b-443e-9f7e-7197f5b983ae",
   "metadata": {},
   "outputs": [],
   "source": [
    "site_df6"
   ]
  },
  {
   "cell_type": "code",
   "execution_count": null,
   "id": "0678d9ce-bca7-4292-90cc-3d79c0cca95e",
   "metadata": {},
   "outputs": [],
   "source": [
    "site_df.sum().loc[['A_amine','B_amine']].sum()"
   ]
  },
  {
   "cell_type": "code",
   "execution_count": null,
   "id": "58e2fae9-9226-4ab8-81e1-2ec3ef07eea8",
   "metadata": {},
   "outputs": [],
   "source": [
    "site_df.sum().loc['B_side']"
   ]
  },
  {
   "cell_type": "code",
   "execution_count": null,
   "id": "00b6c765-8b52-439e-b116-34f6beca8cb2",
   "metadata": {},
   "outputs": [],
   "source": [
    "site_df.sum().loc['A_side']"
   ]
  },
  {
   "cell_type": "code",
   "execution_count": null,
   "id": "5dfe61de-002d-46a1-8ee1-b86ca11d7763",
   "metadata": {},
   "outputs": [],
   "source": [
    "site_df.sum().loc[['A_carboxy','B_carboxy']].sum()"
   ]
  },
  {
   "cell_type": "markdown",
   "id": "7cfe91be-9a59-4640-b053-3301b7237d98",
   "metadata": {},
   "source": [
    "##### Counter(site_df['A_side'].dropna())"
   ]
  },
  {
   "cell_type": "code",
   "execution_count": null,
   "id": "b459f758-20a9-45a6-b43e-9d91e1f53390",
   "metadata": {},
   "outputs": [],
   "source": [
    "Counter(site_df['B_side'].dropna())"
   ]
  },
  {
   "cell_type": "code",
   "execution_count": null,
   "id": "c2bff7be-0391-4a32-998c-a22320d2ca7f",
   "metadata": {},
   "outputs": [],
   "source": [
    "site_df['A_side'].dropna().sum()+site_df['B_amine'].dropna().sum()"
   ]
  },
  {
   "cell_type": "code",
   "execution_count": null,
   "id": "d257b549-1b52-4287-84f1-f6748296b015",
   "metadata": {},
   "outputs": [],
   "source": []
  },
  {
   "cell_type": "code",
   "execution_count": null,
   "id": "cace2aa8-e666-447a-8d62-3a75e917a7ef",
   "metadata": {},
   "outputs": [],
   "source": [
    "bardict=dict(zip(['amine', 'carboxy', 'link', 'side'],['Amine','Carboxy','Linker Hydrogen', 'Side']))\n",
    "# fig,ax=plt.subplots(3,len(sitelist)//2,figsize=(15,10))\n",
    "fig,ax=plt.subplots(2,len(sitelist)//2,figsize=(14,8))\n",
    "for idx,i in enumerate(sorted(sitelist)):\n",
    "    \n",
    "    if idx<=3:\n",
    "        sns.boxplot(data=site_df,x=i,y='Interaction_Energy',ax=ax[0,idx%4],palette=sns.color_palette('Paired',3))\n",
    "        ax[0,idx%4].set_xticks([0,1,2])\n",
    "        ax[0,idx%4].set_xticklabels([1,2,3])\n",
    "        ax[0,idx%4].set_xlabel(interdict_conv[i])\n",
    "        ax[0,idx%4].set_ylim(-12,0)\n",
    "        ax[0,idx%4].set_xlim(-1,3)\n",
    "        ax[0,idx%4].set_ylabel('Interaction Energy (kcal/mol)')\n",
    "    else:\n",
    "        sns.boxplot(data=site_df,x=i,y='Interaction_Energy',ax=ax[1,idx%4],palette=sns.color_palette('Paired',3))\n",
    "        ax[1,idx%4].set_xticks([0,1,2])\n",
    "        ax[1,idx%4].set_xticklabels([1,2,3])\n",
    "        ax[1,idx%4].set_xlabel(interdict_conv[i])\n",
    "        ax[1,idx%4].set_ylim(-12,0)\n",
    "        ax[1,idx%4].set_xlim(-1,3)        \n",
    "        ax[1,idx%4].set_ylabel('Interaction Energy (kcal/mol)')\n",
    "\n",
    "    \n",
    "# for idxx,j in enumerate(sorted(set([i.split('_')[1] for i in sitelist]))):\n",
    "#     melted=pd.concat([site_df[f'A_{j}'].value_counts(),site_df[f'B_{j}'].value_counts()],axis=1).reset_index().melt(id_vars='index')\n",
    "#     ax[2,idxx%4]=sns.barplot(data=melted,x='index',y='value',hue='variable',ax=ax[2,idxx%4],palette=sns.color_palette('Paired',2))\n",
    "#     ax[2,idxx%4].set_xticks([0,1,2])\n",
    "#     ax[2,idxx%4].set_xticklabels([1,2,3])    \n",
    "#     ax[2,idxx%4].set_xlabel(j)\n",
    "#     ax[2,idxx%4].set_ylim(0,160)\n",
    "#     ax[2,idxx%4].set_xlim(-1,3)    \n",
    "#     ax[2,idxx%4].set_ylabel('Count')\n",
    "#     ax[2,idxx%4].set_xlabel(bardict[j])\n",
    "    \n",
    "fig.supxlabel('Interaction Sites',fontsize=10)\n",
    "plt.tight_layout()\n",
    "plt.savefig('boxplot.png',dpi=300,bbox_inches='tight')\n",
    "plt.show()"
   ]
  },
  {
   "cell_type": "code",
   "execution_count": null,
   "id": "b7145e7e-f667-4412-a26a-cd0a3d4bdf26",
   "metadata": {},
   "outputs": [],
   "source": [
    "g=sns.pairplot(data=site_df,y_vars=['Interaction_Energy'])\n",
    "\n",
    "for i in range(len(sitelist)):\n",
    "    ax=g.axes[0,i]\n",
    "    ax.set_xticks([1,2,3])\n",
    "    ax.set_xticklabels([1,2,3])\n",
    "    ax.set_xlim(0,4)\n",
    "    ax.set_ylim(-12,0)\n",
    "plt.tight_layout()\n",
    "# plt.savefig('pairplot.png',dpi=300,bbox_inches='tight')\n",
    "plt.show()"
   ]
  },
  {
   "cell_type": "code",
   "execution_count": null,
   "id": "d4ce8d40-a2f1-465d-88ad-fa0c918a7e66",
   "metadata": {},
   "outputs": [],
   "source": [
    "SerDF=site_df.loc[[i for i in site_df.index if 'Serine-' in i]]\n",
    "\n",
    "SerList=[]\n",
    "SerDict={}\n",
    "for i in SerDF.index:\n",
    "    subdf=SerDF[sitelist].loc[i]\n",
    "    SerList.append(['/'.join(subdf.dropna().index),SerDF['Interaction_Energy'].loc[i]])\n",
    "    \n",
    "\n",
    "for i in set(np.array(SerList)[:,0]):\n",
    "    SerDict[i]=[IE for nam,IE in SerList if nam==i]    \n",
    "\n",
    "SerInt=pd.DataFrame.from_dict(SerDict,orient='index').T        \n"
   ]
  },
  {
   "cell_type": "code",
   "execution_count": null,
   "id": "c3a8a0bf-f207-423a-b021-895fe1ecabb7",
   "metadata": {},
   "outputs": [],
   "source": [
    "AspDF=site_df.loc[[i for i in site_df.index if 'Asparagine-' in i]]\n",
    "\n",
    "AspList=[]\n",
    "AspDict={}\n",
    "for i in AspDF.index:\n",
    "    subdf=AspDF[sitelist].loc[i]\n",
    "    AspList.append(['/'.join(subdf.dropna().index),AspDF['Interaction_Energy'].loc[i]])\n",
    "    \n",
    "\n",
    "for i in set(np.array(AspList)[:,0]):\n",
    "    AspDict[i]=[IE for nam,IE in AspList if nam==i]    \n",
    "    \n",
    "AspInt=pd.DataFrame.from_dict(AspDict,orient='index').T   \n",
    "\n"
   ]
  },
  {
   "cell_type": "code",
   "execution_count": null,
   "id": "bff9dbb1-4456-4aff-8dc6-8343a847fc67",
   "metadata": {},
   "outputs": [],
   "source": [
    "fig,(ax1,ax2)=plt.subplots(1,2,figsize=(10,5))\n",
    "sns.boxplot(data=IE_df.astype(float),ax=ax1)\n",
    "ax1.hlines(np.mean(IE_df.values.flatten()),-2,20,color='red',linestyles='--',label='Mean Deviation')\n",
    "ax1.legend()\n",
    "ax1.set_xlim(-1,20)\n",
    "ax2.set_ylim(-5,9)\n",
    "ax1.set_xticklabels(ax1.get_xticklabels(), rotation = 90, ha=\"center\")\n",
    "ax1.set_title('Deviation Between AA')\n",
    "ax1.set_xlabel('Amino Acid A')\n",
    "ax1.set_ylabel('Deviation (kcal/mol)')\n",
    "\n",
    "sns.boxplot(data=glygly_df.astype(float),ax=ax2)\n",
    "ax2.hlines(np.mean(glygly_df.values.flatten()),-2,20,color='red',linestyles='--',label='Mean Deviation')\n",
    "ax2.legend()\n",
    "ax2.set_xlim(-1,20)\n",
    "ax2.set_ylim(-8,1)\n",
    "ax2.set_xticklabels(ax2.get_xticklabels(), rotation = 90, ha=\"center\")\n",
    "ax2.set_title('Deviation Between Glycine-Glycine')\n",
    "ax2.set_xlabel('Amino Acid A')\n",
    "ax2.set_ylabel('Deviation (kcal/mol)')\n",
    "plt.tight_layout()\n",
    "# plt.savefig('deviation_boxplots.png',dpi=300,bbox_inches='tight')\n",
    "plt.tight_layout()"
   ]
  },
  {
   "cell_type": "code",
   "execution_count": null,
   "id": "15c0ed89-d738-4537-830c-f7e624647f7b",
   "metadata": {},
   "outputs": [],
   "source": []
  },
  {
   "cell_type": "code",
   "execution_count": null,
   "id": "12022a60-8068-4d81-a575-ff41e0d5d2d1",
   "metadata": {},
   "outputs": [],
   "source": [
    "# from mpl_toolkits.mplot3d import Axes3D\n",
    "# from matplotlib.colors import ListedColormap\n",
    "# # axes instance\n",
    "# fig, ax = plt.subplots(subplot_kw={\"projection\": \"3d\"})\n",
    "\n",
    "\n",
    "# # plot\n",
    "# # sc = ax.scatter(unX['level_0'].values, unX['level_1'].values, unX[0].values, s=40,c=unX[0].values, marker='o', cmap=cmap, alpha=1)\n",
    "# X=Y=range(len(AAs))\n",
    "# X, Y = np.meshgrid(X, Y)\n",
    "# sc = ax.plot_surface(X,Y, unX[0].values.reshape(20,20), cmap=sns.cm.rocket_r)\n",
    "# fig.colorbar(sc, shrink=0.5, aspect=5)\n",
    "\n",
    "# ax.set_xlabel('Amino Acid A')\n",
    "# ax.set_xticks(range(len(AAs)))\n",
    "# ax.set_xticklabels(AAs)\n",
    "# ax.set_yticks(range(len(AAs)))\n",
    "# ax.set_yticklabels(AAs)\n",
    "# ax.set_ylabel('Amino Acid B')\n",
    "# ax.set_zlabel('Interaction Energy (kcal/mol)')\n",
    "# plt.tight_layout()\n",
    "# plt.show()"
   ]
  },
  {
   "cell_type": "code",
   "execution_count": null,
   "id": "c8e0fd98-ed31-45a4-8a0d-94e51cd14229",
   "metadata": {},
   "outputs": [],
   "source": [
    "# # Create the MolGraph object\n",
    "# mg = MolGraph()\n",
    "\n",
    "# # Read the data from the .xyz file\n",
    "# mg.read_xyz(monomerfiles[0])\n",
    "\n",
    "\n",
    "# # Convert the molecular graph to the NetworkX graph\n",
    "# G = to_networkx_graph(mg)\n",
    "\n",
    "# # G.nodes(data=True),G.edges(data=True)"
   ]
  },
  {
   "cell_type": "code",
   "execution_count": null,
   "id": "5b806d5e-dbd4-4e07-8213-358dc44ceecc",
   "metadata": {},
   "outputs": [],
   "source": [
    "# from rdkit.Chem import rdFingerprintGenerator\n",
    "# mols=[Chem.MolFromSmiles(list(pybel.readfile('xyz',m))[0].write().split('\\t')[0]) for m in monomerfiles]\n",
    "# fpgen = rdFingerprintGenerator.GetMorganGenerator(radius=6)\n",
    "\n",
    "# # info={}\n",
    "# # X = np.vstack([fpgen.GetFingerprint(mol) for mol in mols ])\n",
    "\n",
    "# fps = [MACCSkeys.GenMACCSKeys(x) for x in mols]\n",
    "# X=np.vstack([f.ToList() for f in fps])\n",
    "# Y=y.values\n",
    "\n",
    "# keys=pd.read_excel('MACCS_keys_example.xlsx',index_col='Key').drop(columns=['Unnamed: 0'])\n",
    "\n",
    "# mol_keys=[idx for idx, i in enumerate(X[0]) if i==1]\n",
    "\n",
    "# {str(keys.loc[idx].values[0]):i for idx, i in enumerate(np.count_nonzero(X,axis=0)) if i!=0}"
   ]
  },
  {
   "cell_type": "code",
   "execution_count": null,
   "id": "7944be31-3553-4d5e-81af-9acd1a9658b5",
   "metadata": {},
   "outputs": [],
   "source": [
    "\n",
    "# sns.heatmap([[DataStructs.TanimotoSimilarity(i,j) for i in fps] for j in fps],vmin=0,vmax=1,cmap=sns.cm.rocket_r)\n",
    "# plt.show()"
   ]
  },
  {
   "cell_type": "code",
   "execution_count": null,
   "id": "3db9cada-5347-49a6-b5fd-8e97143ad120",
   "metadata": {
    "tags": []
   },
   "outputs": [],
   "source": [
    "# Draw.MolsToGridImage(mols,molsPerRow=10, subImgSize=(300,300))"
   ]
  }
 ],
 "metadata": {
  "kernelspec": {
   "display_name": "Python 3 (ipykernel)",
   "language": "python",
   "name": "python3"
  },
  "language_info": {
   "codemirror_mode": {
    "name": "ipython",
    "version": 3
   },
   "file_extension": ".py",
   "mimetype": "text/x-python",
   "name": "python",
   "nbconvert_exporter": "python",
   "pygments_lexer": "ipython3",
   "version": "3.12.2"
  }
 },
 "nbformat": 4,
 "nbformat_minor": 5
}
