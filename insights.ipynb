{
 "cells": [
  {
   "cell_type": "code",
   "execution_count": null,
   "id": "5636c738",
   "metadata": {},
   "outputs": [],
   "source": [
    "import sys\n",
    "# !{sys.executable} -m pip install shap\n",
    "import lightgbm as lgb\n",
    "import xgboost\n",
    "import shap\n",
    "from xgboost import XGBRegressor\n",
    "from collections import Counter\n",
    "\n",
    "from tqdm.notebook import trange, tqdm\n",
    "from time import sleep, perf_counter\n",
    "\n",
    "import os\n",
    "from glob import glob\n",
    "import pandas as pd\n",
    "import numpy as np\n",
    "import networkx as nx\n",
    "from scipy.spatial import distance_matrix\n",
    "\n",
    "# Scikit-learn\n",
    "from sklearn.model_selection import KFold\n",
    "from sklearn.kernel_ridge import KernelRidge\n",
    "from sklearn.metrics import r2_score\n",
    "from sklearn.model_selection import GridSearchCV, train_test_split\n",
    "from sklearn.metrics import r2_score,mean_squared_error,mean_absolute_error,mean_absolute_percentage_error\n",
    "from sklearn.preprocessing import normalize, MinMaxScaler\n",
    "from sklearn.decomposition import PCA\n",
    "from sklearn.manifold import TSNE\n",
    "\n",
    "# Torch\n",
    "import torch\n",
    "print(torch.__version__,torch.__path__)\n",
    "import torch.nn as nn\n",
    "\n",
    "# Reps\n",
    "from alchemical_cms import genpaddedCMs\n",
    "from dscribe.descriptors import SOAP\n",
    "from dscribe.kernels import REMatchKernel\n",
    "from mendeleev.fetch import fetch_table\n",
    "from ase.io import read\n",
    "from Element_PI import VariancePersist\n",
    "from Element_PI import VariancePersistv1\n",
    "\n",
    "from rdkit import DataStructs\n",
    "from rdkit import Chem\n",
    "from rdkit.Chem import AllChem\n",
    "from rdkit.Chem import Draw, MACCSkeys\n",
    "from openbabel import openbabel as ob\n",
    "from openbabel import pybel\n",
    "\n",
    "from xyz2graph import MolGraph, to_networkx_graph, to_plotly_figure\n",
    "from plotly.offline import offline\n",
    "#Plotting\n",
    "import seaborn as sns\n",
    "sns.set_style()\n",
    "import matplotlib as mpl\n",
    "import matplotlib.pyplot as plt\n",
    "mpl.rcParams['figure.dpi'] = 200\n"
   ]
  },
  {
   "cell_type": "code",
   "execution_count": null,
   "id": "9aafcd95-7cce-451b-adf1-adc28dd57dbe",
   "metadata": {},
   "outputs": [],
   "source": [
    "df=pd.read_excel('site_data.xlsx',index_col=0)\n",
    "sitelist=['A_carboxy', 'A_amine', 'B_carboxy', 'B_amine', 'A_link','B_link', 'A_side', 'B_side']\n",
    "inter_df=df[sitelist].dropna()\n",
    "# inter_df[inter_df!=0]=1"
   ]
  },
  {
   "cell_type": "code",
   "execution_count": null,
   "id": "c0cad807",
   "metadata": {},
   "outputs": [],
   "source": [
    "\n",
    "\n",
    "y=pd.read_excel('400_dipeptides_interaction_energy.xlsx',usecols=[1,2],index_col=0)\n",
    "y['keypair']=['_'.join(i.split('_')[:3]) for i in y.index]\n",
    "pairs=pd.DataFrame([(i[0].split(\":\")[0],i[0].split(\":\")[1].replace(\" \",\"\").replace('acid','')) for i in pd.read_excel('400_dipeptides_interaction_energy.xlsx', 'Sheet2',header=None).values]).set_index(0)\n",
    "\n",
    "\n",
    "# Find set of files\n",
    "monomerfiles={}        \n",
    "co2files={}\n",
    "for k,v in pairs.to_dict()[1].items():\n",
    "    try:\n",
    "        path=glob(f'./dipeptides_co2_coordinates/{k}_*.xyz')[0]\n",
    "        monpath=f'./dipeptides_coordinates/{k}.xyz'\n",
    "        if os.path.exists(path) and os.path.exists(monpath):\n",
    "            co2files[v]=path    \n",
    "            monomerfiles[v]=monpath\n",
    "    except:\n",
    "        print(k)\n",
    "        \n",
    "# Name check\n",
    "co2check=['_'.join(i.split('/')[-2].split('_')[:3]) for i in co2files.values()]\n",
    "moncheck=['_'.join(i.split('/')[-2].split('_')[:4]) for i in monomerfiles.values()]"
   ]
  },
  {
   "cell_type": "code",
   "execution_count": null,
   "id": "e1b926b4-6f0d-4bfe-9f7a-e91b391ffb5e",
   "metadata": {},
   "outputs": [],
   "source": [
    "# pixelsx = 150 # Don't make too large 150\n",
    "# pixelsy = 150 # 150\n",
    "pixelsx = 20 # Don't make too large 150\n",
    "pixelsy = pixelsx # 150\n",
    "spread = 0.06\n",
    "Max = 2.5 # 2.5\n",
    "X=np.zeros((len(monomerfiles),pixelsx**2))\n",
    "for i,(k,v) in enumerate(monomerfiles.items()):\n",
    "     X[i,:] = VariancePersistv1(v, pixelx=pixelsx, pixely=pixelsy,myspread=spread, myspecs={\"maxBD\": Max, \"minBD\":  -0.1}, showplot=False)\n",
    "    "
   ]
  },
  {
   "cell_type": "code",
   "execution_count": null,
   "id": "eddd44cb-a1d2-4457-a496-068a1a3b902e",
   "metadata": {},
   "outputs": [],
   "source": [
    "VariancePersist"
   ]
  },
  {
   "cell_type": "code",
   "execution_count": null,
   "id": "f1e415f6-4962-433e-8ec6-c3ada1a4a5b1",
   "metadata": {},
   "outputs": [],
   "source": [
    "AAs=sorted(set([i[0].split('-')[0].replace('acid','') for i in pairs.values]))"
   ]
  },
  {
   "cell_type": "code",
   "execution_count": null,
   "id": "a998534f-c715-489b-b9bd-4376136ddc76",
   "metadata": {},
   "outputs": [],
   "source": [
    "noncarboyx=inter_df[(inter_df[['A_carboxy','B_carboxy']]==0).all(axis=1)]"
   ]
  },
  {
   "cell_type": "code",
   "execution_count": null,
   "id": "c5e966d2-3483-4f22-907d-f68f5174b31b",
   "metadata": {},
   "outputs": [],
   "source": [
    "noncarboyx"
   ]
  },
  {
   "cell_type": "code",
   "execution_count": null,
   "id": "1abc07f4-fdaa-4b63-81c7-c1896e29b4d1",
   "metadata": {},
   "outputs": [],
   "source": [
    "\n",
    "co2dipepgraphs={}\n",
    "co2mgs={}\n",
    "for k,v in co2files.items():\n",
    "    # Create the MolGraph object\n",
    "    mg = MolGraph()\n",
    "\n",
    "    # Read the data from the .xyz file\n",
    "    mg.read_xyz(v)\n",
    "    co2mgs[k]=mg\n",
    "    # Convert the molecular graph to the NetworkX graph\n",
    "    G = to_networkx_graph(mg)\n",
    "    co2dipepgraphs[k]=G\n",
    "    \n",
    "dipepgraphs={}    \n",
    "mgs={}\n",
    "for k,v in monomerfiles.items():\n",
    "    # Create the MolGraph object\n",
    "    mg = MolGraph()\n",
    "\n",
    "    # Read the data from the .xyz file\n",
    "    mg.read_xyz(v)\n",
    "    mgs[k]=mg\n",
    "    # Convert the molecular graph to the NetworkX graph\n",
    "    G = to_networkx_graph(mg)\n",
    "    dipepgraphs[k]=G    \n"
   ]
  },
  {
   "cell_type": "code",
   "execution_count": null,
   "id": "d2aa2b12-2645-4233-8856-3e22913d1817",
   "metadata": {},
   "outputs": [],
   "source": [
    "# FLAG!\n",
    "# df.loc['Asparagine-Alanine']\n",
    "# fig = to_plotly_figure(co2mgs['Asparagine-Alanine'])\n",
    "# offline.plot(fig)\n",
    "\n",
    "# FLAG THIS ONE!!\n",
    "# fig = to_plotly_figure(co2mgs['Alanine-Lysine'])\n",
    "# offline.plot(fig)"
   ]
  },
  {
   "cell_type": "code",
   "execution_count": null,
   "id": "39b913e0-1a3a-434e-8ed0-0314c2388acf",
   "metadata": {},
   "outputs": [],
   "source": [
    "for k,v in pairs.to_dict()[1].items():\n",
    "    names=v.split('-')\n",
    "    for j in names:\n",
    "        if 'acid' in j:\n",
    "            print(names)"
   ]
  },
  {
   "cell_type": "code",
   "execution_count": null,
   "id": "969bef5d-692a-4370-a234-8fdbac0fad74",
   "metadata": {},
   "outputs": [],
   "source": [
    "AAs"
   ]
  },
  {
   "cell_type": "code",
   "execution_count": null,
   "id": "18bebca8-cac1-41b2-a0a8-aba60a6bed16",
   "metadata": {},
   "outputs": [],
   "source": [
    "pcadf"
   ]
  },
  {
   "cell_type": "code",
   "execution_count": null,
   "id": "92ed9c84-1ac0-484b-9374-335b8c84e753",
   "metadata": {},
   "outputs": [],
   "source": [
    "tsne = TSNE(n_components=2, verbose=1, perplexity=399, n_iter=500)\n",
    "tsne_results = tsne.fit_transform(X)\n",
    "pcadf=pd.DataFrame(columns=['tsne-2d-one','tsne-2d-two'])\n",
    "pcadf['tsne-2d-one'] = tsne_results[:,0]\n",
    "pcadf['tsne-2d-two'] = tsne_results[:,1]\n",
    "pcadf.index=df.index\n",
    "pcadf[df.columns]=df[df.columns]\n",
    "\n",
    "# plt.figure(figsize=(16,10))\n",
    "# sns.scatterplot(\n",
    "#     x=\"tsne-2d-one\", y=\"tsne-2d-two\",\n",
    "#     hue='B_side',\n",
    "#     palette=sns.color_palette(\"hls\", 8),\n",
    "#     data=pcadf,\n",
    "#     legend=\"full\"\n",
    "# )"
   ]
  },
  {
   "cell_type": "code",
   "execution_count": null,
   "id": "e388c268-7bde-40e8-ad2a-4bc6b27ef243",
   "metadata": {},
   "outputs": [],
   "source": [
    "pcadf"
   ]
  },
  {
   "cell_type": "code",
   "execution_count": null,
   "id": "6d4c456e-1d10-4058-86d5-b095e881eb41",
   "metadata": {},
   "outputs": [],
   "source": [
    "pca = PCA(n_components=2)\n",
    "pca_result = pca.fit_transform(X)\n",
    "\n",
    "pcadf['pca-one'] = pca_result[:,0]\n",
    "pcadf['pca-two'] = pca_result[:,1] \n",
    "# pcadf['pca-three'] = pca_result[:,2]\n",
    "print('Explained variation per principal component: {}'.format(pca.explained_variance_ratio_))\n",
    "print(sum(pca.explained_variance_ratio_))\n",
    "plt.figure(figsize=(16,10))\n",
    "sns.scatterplot(\n",
    "    x=\"pca-one\", y=\"pca-two\",\n",
    "    # hue='A_side',\n",
    "    palette=sns.color_palette(\"hls\", 8),\n",
    "    data=pcadf,\n",
    "    legend=\"full\"\n",
    ")\n",
    "\n",
    "# sns.scatterplot(\n",
    "#     x=\"pca-one\", y=\"pca-three\",\n",
    "#     hue='Interaction_Energy',\n",
    "#     palette=sns.color_palette(\"hls\", 8),\n",
    "#     data=pcadf,\n",
    "#     legend=\"full\"\n",
    "# )\n"
   ]
  },
  {
   "cell_type": "code",
   "execution_count": null,
   "id": "c43f867e-833e-4f04-90c4-292c0ad8c0a2",
   "metadata": {},
   "outputs": [],
   "source": [
    "sorted_IE={}\n",
    "IE_df=pd.DataFrame(columns=AAs,index=AAs)\n",
    "glygly_df=pd.DataFrame(columns=AAs,index=AAs)\n",
    "for A in AAs:\n",
    "    sorted_IE[A]={B:df['Interaction_Energy'].to_dict()['-'.join((A,B))] for B in AAs}\n",
    "    for B in AAs:\n",
    "        IE_df[A].loc[B]=df['Interaction_Energy'].to_dict()['-'.join((A,B))]-df['Interaction_Energy'].to_dict()['-'.join((A,A))]\n",
    "        glygly_df[A].loc[B]=df['Interaction_Energy'].to_dict()['-'.join((A,B))]-df['Interaction_Energy'].to_dict()['-'.join(('Glycine','Glycine'))]"
   ]
  },
  {
   "cell_type": "code",
   "execution_count": null,
   "id": "c91ded79-58f5-40c6-8008-37fc0ee655bc",
   "metadata": {},
   "outputs": [],
   "source": [
    "from matplotlib.colors import LinearSegmentedColormap\n",
    "\n",
    "fig,(ax1,ax2)=plt.subplots(1,2,figsize=(15,6))\n",
    "cmap = sns.cm.rocket_r\n",
    "# cmap = LinearSegmentedColormap.from_list('', np.vstack([sns.color_palette('rocket'),sns.color_palette('rocket_r')]))\n",
    "sns.heatmap(data=IE_df.astype(float),ax=ax1,cmap=cmap, linewidth=.01,cbar_kws={'label': 'Deviation (kcal/mol)'}, vmin=-5, vmax=9,square=True)\n",
    "ax1.set_title('Deviation Between AA')\n",
    "ax1.set_xlabel('Amino Acid A')\n",
    "ax1.set_ylabel('Amino Acid B')\n",
    "ax1.invert_yaxis()\n",
    "\n",
    "# cmap = LinearSegmentedColormap.from_list('', np.vstack([sns.color_palette('rocket',8),sns.color_palette('rocket_r',3)]))\n",
    "sns.heatmap(data=glygly_df.astype(float),ax=ax2,cmap=cmap, linewidth=.01,cbar_kws={'label': 'Deviation (kcal/mol)'}, vmin=-8, vmax=1,square=True)\n",
    "ax2.set_title('Deviation Between Glycine-Glycine')\n",
    "ax2.set_xlabel('Amino Acid A')\n",
    "ax2.set_ylabel('Amino Acid B')\n",
    "ax2.invert_yaxis()\n",
    "plt.tight_layout()\n",
    "plt.savefig('deviations.png',dpi=300,bbox_inches='tight')\n",
    "plt.show()"
   ]
  },
  {
   "cell_type": "code",
   "execution_count": null,
   "id": "fa434c6e-2da8-463b-a034-a1cfc4902e67",
   "metadata": {},
   "outputs": [],
   "source": [
    "df[sitelist+['Interaction_Energy']].sort_values(by='Interaction_Energy')"
   ]
  },
  {
   "cell_type": "code",
   "execution_count": null,
   "id": "b7145e7e-f667-4412-a26a-cd0a3d4bdf26",
   "metadata": {},
   "outputs": [],
   "source": [
    "sns.pairplot(df[sitelist+['Interaction_Energy']],corner=True)\n",
    "plt.tight_layout()\n",
    "plt.savefig('pairplot.png',dpi=300,bbox_inches='tight')"
   ]
  },
  {
   "cell_type": "code",
   "execution_count": null,
   "id": "bff9dbb1-4456-4aff-8dc6-8343a847fc67",
   "metadata": {},
   "outputs": [],
   "source": [
    "fig,(ax1,ax2)=plt.subplots(1,2,figsize=(10,5))\n",
    "sns.boxplot(data=IE_df.astype(float),ax=ax1)\n",
    "ax1.hlines(np.mean(IE_df.values.flatten()),-2,20,color='red',linestyles='--',label='Mean Deviation')\n",
    "ax1.legend()\n",
    "ax1.set_xlim(-1,20)\n",
    "ax2.set_ylim(-5,9)\n",
    "ax1.set_xticklabels(ax1.get_xticklabels(), rotation = 90, ha=\"center\")\n",
    "ax1.set_title('Deviation Between AA')\n",
    "ax1.set_xlabel('Amino Acid A')\n",
    "ax1.set_ylabel('Deviation (kcal/mol)')\n",
    "\n",
    "sns.boxplot(data=glygly_df.astype(float),ax=ax2)\n",
    "ax2.hlines(np.mean(glygly_df.values.flatten()),-2,20,color='red',linestyles='--',label='Mean Deviation')\n",
    "ax2.legend()\n",
    "ax2.set_xlim(-1,20)\n",
    "ax2.set_ylim(-8,1)\n",
    "ax2.set_xticklabels(ax2.get_xticklabels(), rotation = 90, ha=\"center\")\n",
    "ax2.set_title('Deviation Between Glycine-Glycine')\n",
    "ax2.set_xlabel('Amino Acid A')\n",
    "ax2.set_ylabel('Deviation (kcal/mol)')\n",
    "plt.tight_layout()\n",
    "plt.savefig('deviation_boxplots.png',dpi=300,bbox_inches='tight')\n",
    "plt.tight_layout()"
   ]
  },
  {
   "cell_type": "code",
   "execution_count": null,
   "id": "13ec4fe6-53c9-437c-8a16-b65daf708546",
   "metadata": {},
   "outputs": [],
   "source": [
    "IE_df.astype(float).describe()"
   ]
  },
  {
   "cell_type": "code",
   "execution_count": null,
   "id": "9641d6c2-bdb5-48c1-977d-9f25b684cde7",
   "metadata": {},
   "outputs": [],
   "source": [
    "IE_df['Asparagine'].sort_values(ascending=False)"
   ]
  },
  {
   "cell_type": "code",
   "execution_count": null,
   "id": "5408ae27-6b38-48df-b63d-ffa9cd5b73bb",
   "metadata": {},
   "outputs": [],
   "source": [
    "sns.lineplot(data=df.loc[[i for i in df.index if i.split('-')[0]=='Asparagine']],x='label',y='Interaction_Energy')"
   ]
  },
  {
   "cell_type": "code",
   "execution_count": null,
   "id": "1e1c53d4-66dc-452d-84fc-b514368fe9d3",
   "metadata": {},
   "outputs": [],
   "source": []
  },
  {
   "cell_type": "code",
   "execution_count": null,
   "id": "80d9dcb3-8a58-4dd2-8b83-efade85b54b3",
   "metadata": {},
   "outputs": [],
   "source": [
    "sorted_IE"
   ]
  },
  {
   "cell_type": "code",
   "execution_count": null,
   "id": "a97ca7ca-16d2-4826-af84-f90e5168d89f",
   "metadata": {},
   "outputs": [],
   "source": [
    "plt.figure(figsize=(30,5))\n",
    "plt.scatter(range(len(df['Interaction_Energy'])),(df['Interaction_Energy']-df['Interaction_Energy']['Glycine-Glycine']).sort_values())\n",
    "plt.xticks(range(len(df['Interaction_Energy'])),df['Interaction_Energy'].index,rotation=90, fontsize = 6)\n",
    "plt.xlim(-1,len(df['Interaction_Energy'])+1)\n",
    "plt.show()"
   ]
  },
  {
   "cell_type": "code",
   "execution_count": null,
   "id": "d9ffba9e-d246-4e0b-b5e8-1c56f8b9fdd2",
   "metadata": {},
   "outputs": [],
   "source": [
    "# samples=len(y)\n",
    "# X=np.zeros((samples,len(AAs)))\n",
    "# Y=np.zeros((samples,1))\n",
    "\n",
    "# for idx,(k,v) in enumerate(y.set_index('keypair').to_dict()['Interaction_Energy'].items()):\n",
    "#     aa=pairs.loc[k].values[0].split('-')\n",
    "#     a1=aa[0]\n",
    "#     a2=aa[1]\n",
    "#     if a1!=a2:\n",
    "#         X[idx,bitkey[a1]]=1\n",
    "#         X[idx,bitkey[a2]]=1\n",
    "#     else:\n",
    "#         X[idx,bitkey[a1]]=2\n",
    "#     Y[idx]=v"
   ]
  },
  {
   "cell_type": "code",
   "execution_count": null,
   "id": "7b7f71fa-1d73-40be-958e-2363b8a62c5c",
   "metadata": {},
   "outputs": [],
   "source": [
    "X\n",
    "y=df['Interaction_Energy'].values\n",
    "X_train,X_test,y_train, y_yest=train_test_split(X,y,test_size=0.3)"
   ]
  },
  {
   "cell_type": "code",
   "execution_count": null,
   "id": "38aa44cd-f948-494b-83db-43c5d66aa2b6",
   "metadata": {},
   "outputs": [],
   "source": [
    "\n",
    "model=XGBRegressor().fit(X_train,y_train)"
   ]
  },
  {
   "cell_type": "code",
   "execution_count": null,
   "id": "e5b1f638-91a7-48ba-9e18-35211a147840",
   "metadata": {},
   "outputs": [],
   "source": [
    "model.score(X_train,y_train),model.score(X_test,y_yest)"
   ]
  },
  {
   "cell_type": "code",
   "execution_count": null,
   "id": "c8e0fd98-ed31-45a4-8a0d-94e51cd14229",
   "metadata": {},
   "outputs": [],
   "source": [
    "# # Create the MolGraph object\n",
    "# mg = MolGraph()\n",
    "\n",
    "# # Read the data from the .xyz file\n",
    "# mg.read_xyz(monomerfiles[0])\n",
    "\n",
    "\n",
    "# # Convert the molecular graph to the NetworkX graph\n",
    "# G = to_networkx_graph(mg)\n",
    "\n",
    "# # G.nodes(data=True),G.edges(data=True)"
   ]
  },
  {
   "cell_type": "code",
   "execution_count": null,
   "id": "5b806d5e-dbd4-4e07-8213-358dc44ceecc",
   "metadata": {},
   "outputs": [],
   "source": [
    "# from rdkit.Chem import rdFingerprintGenerator\n",
    "# mols=[Chem.MolFromSmiles(list(pybel.readfile('xyz',m))[0].write().split('\\t')[0]) for m in monomerfiles]\n",
    "# fpgen = rdFingerprintGenerator.GetMorganGenerator(radius=6)\n",
    "\n",
    "# # info={}\n",
    "# # X = np.vstack([fpgen.GetFingerprint(mol) for mol in mols ])\n",
    "\n",
    "# fps = [MACCSkeys.GenMACCSKeys(x) for x in mols]\n",
    "# X=np.vstack([f.ToList() for f in fps])\n",
    "# Y=y.values\n",
    "\n",
    "# keys=pd.read_excel('MACCS_keys_example.xlsx',index_col='Key').drop(columns=['Unnamed: 0'])\n",
    "\n",
    "# mol_keys=[idx for idx, i in enumerate(X[0]) if i==1]\n",
    "\n",
    "# {str(keys.loc[idx].values[0]):i for idx, i in enumerate(np.count_nonzero(X,axis=0)) if i!=0}"
   ]
  },
  {
   "cell_type": "code",
   "execution_count": null,
   "id": "7944be31-3553-4d5e-81af-9acd1a9658b5",
   "metadata": {},
   "outputs": [],
   "source": [
    "\n",
    "# sns.heatmap([[DataStructs.TanimotoSimilarity(i,j) for i in fps] for j in fps],vmin=0,vmax=1,cmap=sns.cm.rocket_r)\n",
    "# plt.show()"
   ]
  },
  {
   "cell_type": "code",
   "execution_count": null,
   "id": "3db9cada-5347-49a6-b5fd-8e97143ad120",
   "metadata": {},
   "outputs": [],
   "source": [
    "# Draw.MolsToGridImage(mols,molsPerRow=10, subImgSize=(300,300))"
   ]
  }
 ],
 "metadata": {
  "kernelspec": {
   "display_name": "molecular_representation",
   "language": "python",
   "name": "molecular_representation"
  },
  "language_info": {
   "codemirror_mode": {
    "name": "ipython",
    "version": 3
   },
   "file_extension": ".py",
   "mimetype": "text/x-python",
   "name": "python",
   "nbconvert_exporter": "python",
   "pygments_lexer": "ipython3",
   "version": "3.8.14"
  }
 },
 "nbformat": 4,
 "nbformat_minor": 5
}
