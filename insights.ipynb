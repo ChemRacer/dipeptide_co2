{
 "cells": [
  {
   "cell_type": "code",
   "execution_count": null,
   "id": "5636c738",
   "metadata": {},
   "outputs": [],
   "source": [
    "import sys\n",
    "# !{sys.executable} -m pip install shap\n",
    "import lightgbm as lgb\n",
    "import xgboost\n",
    "import shap\n",
    "from xgboost import XGBRegressor\n",
    "from collections import Counter\n",
    "\n",
    "from tqdm.notebook import trange, tqdm\n",
    "from time import sleep, perf_counter\n",
    "\n",
    "import os\n",
    "from glob import glob\n",
    "import pandas as pd\n",
    "import numpy as np\n",
    "import networkx as nx\n",
    "from scipy.spatial import distance_matrix\n",
    "\n",
    "# Scikit-learn\n",
    "from sklearn.model_selection import KFold\n",
    "from sklearn.kernel_ridge import KernelRidge\n",
    "from sklearn.metrics import r2_score\n",
    "from sklearn.model_selection import GridSearchCV, train_test_split\n",
    "from sklearn.metrics import r2_score,mean_squared_error,mean_absolute_error,mean_absolute_percentage_error\n",
    "from sklearn.preprocessing import normalize, MinMaxScaler\n",
    "\n",
    "\n",
    "# Torch\n",
    "import torch\n",
    "print(torch.__version__,torch.__path__)\n",
    "import torch.nn as nn\n",
    "\n",
    "# Reps\n",
    "from alchemical_cms import genpaddedCMs\n",
    "from dscribe.descriptors import SOAP\n",
    "from dscribe.kernels import REMatchKernel\n",
    "from mendeleev.fetch import fetch_table\n",
    "from ase.io import read\n",
    "from Element_PI import VariancePersist\n",
    "from Element_PI import VariancePersistv1\n",
    "\n",
    "from rdkit import DataStructs\n",
    "from rdkit import Chem\n",
    "from rdkit.Chem import AllChem\n",
    "from rdkit.Chem import Draw, MACCSkeys\n",
    "from openbabel import openbabel as ob\n",
    "from openbabel import pybel\n",
    "\n",
    "from xyz2graph import MolGraph, to_networkx_graph, to_plotly_figure\n",
    "from plotly.offline import offline\n",
    "#Plotting\n",
    "import seaborn as sns\n",
    "sns.set_style()\n",
    "import matplotlib as mpl\n",
    "import matplotlib.pyplot as plt\n",
    "mpl.rcParams['figure.dpi'] = 200\n"
   ]
  },
  {
   "cell_type": "code",
   "execution_count": null,
   "id": "9aafcd95-7cce-451b-adf1-adc28dd57dbe",
   "metadata": {},
   "outputs": [],
   "source": [
    "df=pd.read_excel('site_data.xlsx',index_col=0)\n",
    "sitelist=['A_carboxy', 'A_amine', 'B_carboxy', 'B_amine', 'A_link','B_link', 'A_side', 'B_side']\n",
    "inter_df=df[sitelist]\n",
    "# inter_df[inter_df!=0]=1"
   ]
  },
  {
   "cell_type": "code",
   "execution_count": null,
   "id": "c0cad807",
   "metadata": {},
   "outputs": [],
   "source": [
    "\n",
    "\n",
    "y=pd.read_excel('400_dipeptides_interaction_energy.xlsx',usecols=[1,2],index_col=0)\n",
    "y['keypair']=['_'.join(i.split('_')[:3]) for i in y.index]\n",
    "pairs=pd.DataFrame([(i[0].split(\":\")[0],i[0].split(\":\")[1].replace(\" \",\"\").replace('acid','')) for i in pd.read_excel('400_dipeptides_interaction_energy.xlsx', 'Sheet2',header=None).values]).set_index(0)\n",
    "\n",
    "\n",
    "# Find set of files\n",
    "monomerfiles={}        \n",
    "co2files={}\n",
    "for k,v in pairs.to_dict()[1].items():\n",
    "    try:\n",
    "        path=glob(f'./dipeptides_co2_coordinates/{k}_*.xyz')[0]\n",
    "        monpath=f'./dipeptides_coordinates/{k}.xyz'\n",
    "        if os.path.exists(path) and os.path.exists(monpath):\n",
    "            co2files[v]=path    \n",
    "            monomerfiles[v]=monpath\n",
    "    except:\n",
    "        print(k)\n",
    "        \n",
    "# Name check\n",
    "co2check=['_'.join(i.split('/')[-2].split('_')[:3]) for i in co2files.values()]\n",
    "moncheck=['_'.join(i.split('/')[-2].split('_')[:4]) for i in monomerfiles.values()]"
   ]
  },
  {
   "cell_type": "code",
   "execution_count": null,
   "id": "eddd44cb-a1d2-4457-a496-068a1a3b902e",
   "metadata": {},
   "outputs": [],
   "source": []
  },
  {
   "cell_type": "code",
   "execution_count": null,
   "id": "f1e415f6-4962-433e-8ec6-c3ada1a4a5b1",
   "metadata": {},
   "outputs": [],
   "source": [
    "AAs=sorted(set([i[0].split('-')[0].replace('acid','') for i in pairs.values]))"
   ]
  },
  {
   "cell_type": "code",
   "execution_count": null,
   "id": "a998534f-c715-489b-b9bd-4376136ddc76",
   "metadata": {},
   "outputs": [],
   "source": [
    "noncarboyx=inter_df[(inter_df[['A_carboxy','B_carboxy']]==0).all(axis=1)]"
   ]
  },
  {
   "cell_type": "code",
   "execution_count": null,
   "id": "c5e966d2-3483-4f22-907d-f68f5174b31b",
   "metadata": {},
   "outputs": [],
   "source": [
    "noncarboyx"
   ]
  },
  {
   "cell_type": "code",
   "execution_count": null,
   "id": "1abc07f4-fdaa-4b63-81c7-c1896e29b4d1",
   "metadata": {},
   "outputs": [],
   "source": [
    "\n",
    "co2dipepgraphs={}\n",
    "co2mgs={}\n",
    "for k,v in co2files.items():\n",
    "    # Create the MolGraph object\n",
    "    mg = MolGraph()\n",
    "\n",
    "    # Read the data from the .xyz file\n",
    "    mg.read_xyz(v)\n",
    "    co2mgs[k]=mg\n",
    "    # Convert the molecular graph to the NetworkX graph\n",
    "    G = to_networkx_graph(mg)\n",
    "    co2dipepgraphs[k]=G\n",
    "    \n",
    "dipepgraphs={}    \n",
    "mgs={}\n",
    "for k,v in monomerfiles.items():\n",
    "    # Create the MolGraph object\n",
    "    mg = MolGraph()\n",
    "\n",
    "    # Read the data from the .xyz file\n",
    "    mg.read_xyz(v)\n",
    "    mgs[k]=mg\n",
    "    # Convert the molecular graph to the NetworkX graph\n",
    "    G = to_networkx_graph(mg)\n",
    "    dipepgraphs[k]=G    \n"
   ]
  },
  {
   "cell_type": "code",
   "execution_count": null,
   "id": "d2aa2b12-2645-4233-8856-3e22913d1817",
   "metadata": {},
   "outputs": [],
   "source": [
    "# FLAG!\n",
    "# df.loc['Asparagine-Alanine']\n",
    "# fig = to_plotly_figure(co2mgs['Asparagine-Alanine'])\n",
    "# offline.plot(fig)\n",
    "\n",
    "# FLAG THIS ONE!!\n",
    "# fig = to_plotly_figure(co2mgs['Alanine-Lysine'])\n",
    "# offline.plot(fig)"
   ]
  },
  {
   "cell_type": "code",
   "execution_count": null,
   "id": "39b913e0-1a3a-434e-8ed0-0314c2388acf",
   "metadata": {},
   "outputs": [],
   "source": [
    "for k,v in pairs.to_dict()[1].items():\n",
    "    names=v.split('-')\n",
    "    for j in names:\n",
    "        if 'acid' in j:\n",
    "            print(names)"
   ]
  },
  {
   "cell_type": "code",
   "execution_count": null,
   "id": "969bef5d-692a-4370-a234-8fdbac0fad74",
   "metadata": {},
   "outputs": [],
   "source": [
    "AAs"
   ]
  },
  {
   "cell_type": "code",
   "execution_count": null,
   "id": "3d08fc45-7ceb-4707-b080-63a8d9ab6401",
   "metadata": {},
   "outputs": [],
   "source": [
    "dfpairE=pd.DataFrame(np.zeros((20,20)),index=AAs,columns=AAs)\n",
    "for k,v in pairs.to_dict()[1].items():\n",
    "    names=v.split('-')\n",
    "    dfpairE[names[0]][names[1]]=y.set_index('keypair').loc[k].values"
   ]
  },
  {
   "cell_type": "code",
   "execution_count": null,
   "id": "42c4a1dd-6604-4b56-b853-e00e37ff9b97",
   "metadata": {},
   "outputs": [],
   "source": [
    "devpairs=pd.DataFrame(sum([[('-'.join((i,j)),abs(dfpairE[i][j]-dfpairE[j][i])) for idxi,i in enumerate(AAs) if idxj>idxi] for idxj,j in enumerate(AAs)],[]),columns=['Pairs','Deviation'])"
   ]
  },
  {
   "cell_type": "code",
   "execution_count": null,
   "id": "5c71b90f-47e9-4100-8724-0d99db78bbf9",
   "metadata": {},
   "outputs": [],
   "source": [
    "len(devpairs[devpairs['Deviation']<=1])/len(devpairs)"
   ]
  },
  {
   "cell_type": "code",
   "execution_count": null,
   "id": "c56733a3-9574-45a0-8f78-27ee6c1ab3e7",
   "metadata": {},
   "outputs": [],
   "source": [
    "df['dev_gly']=df['Interaction_Energy']-df['Interaction_Energy']['Glycine-Glycine']"
   ]
  },
  {
   "cell_type": "code",
   "execution_count": null,
   "id": "a6f5aa2e-9b99-4cde-9d2c-0255f1406f68",
   "metadata": {},
   "outputs": [],
   "source": [
    "df[df['dev_gly']>0]"
   ]
  },
  {
   "cell_type": "code",
   "execution_count": null,
   "id": "fd37789d-301e-4460-b24a-6e58f5d93cd6",
   "metadata": {},
   "outputs": [],
   "source": [
    "df[(df['dev_gly']<0)&(df['dev_gly']>=-2)]"
   ]
  },
  {
   "cell_type": "code",
   "execution_count": null,
   "id": "b94a04b3-7106-49b7-ac7d-17e5c2cac081",
   "metadata": {},
   "outputs": [],
   "source": [
    "df[(df['dev_gly']<=-2)&(df['dev_gly']>=-4)]"
   ]
  },
  {
   "cell_type": "code",
   "execution_count": null,
   "id": "dcbe439b-4910-4936-a0f5-aa6b7af8187a",
   "metadata": {},
   "outputs": [],
   "source": [
    "df[(df['dev_gly']<=-4)&(df['dev_gly']>=-6)]"
   ]
  },
  {
   "cell_type": "code",
   "execution_count": null,
   "id": "3a05c725-2744-482d-aff0-1db1b4ec08bc",
   "metadata": {},
   "outputs": [],
   "source": [
    "df[df['dev_gly']<=-6]"
   ]
  },
  {
   "cell_type": "code",
   "execution_count": null,
   "id": "d512c933-e01e-42dd-938e-3f8a50771b61",
   "metadata": {},
   "outputs": [],
   "source": [
    "pairs[pairs[1]=='Asparagine-Asparagine']"
   ]
  },
  {
   "cell_type": "code",
   "execution_count": null,
   "id": "83bbe67e-5275-4f3b-a979-c3dc00e9e3f8",
   "metadata": {},
   "outputs": [],
   "source": [
    "ax=sns.histplot(data=df,x='dev_gly')"
   ]
  },
  {
   "cell_type": "code",
   "execution_count": null,
   "id": "6d4c456e-1d10-4058-86d5-b095e881eb41",
   "metadata": {},
   "outputs": [],
   "source": []
  },
  {
   "cell_type": "code",
   "execution_count": null,
   "id": "a97ca7ca-16d2-4826-af84-f90e5168d89f",
   "metadata": {},
   "outputs": [],
   "source": [
    "plt.figure(figsize=(30,5))\n",
    "plt.scatter(range(len(df['Interaction_Energy'])),(df['Interaction_Energy']-df['Interaction_Energy']['Glycine-Glycine']).sort_values())\n",
    "plt.xticks(range(len(df['Interaction_Energy'])),df['Interaction_Energy'].index,rotation=90, fontsize = 6)\n",
    "plt.xlim(-1,len(df['Interaction_Energy'])+1)\n",
    "plt.show()"
   ]
  },
  {
   "cell_type": "code",
   "execution_count": null,
   "id": "3123853d-1c02-43e0-8e27-f44132044aa2",
   "metadata": {},
   "outputs": [],
   "source": [
    "plt.figure(figsize=(25,5))\n",
    "# sns.lineplot(data=devpairs,x='Pairs',y='Deviation')\n",
    "plt.plot(range(len(devpairs['Pairs'])),devpairs['Deviation'],'o--')\n",
    "\n",
    "plt.fill_between(np.arange(-1,len(devpairs['Pairs'])+1)*[1],np.zeros(len(devpairs['Pairs'])+2),np.ones(len(devpairs['Pairs'])+2),color='gray')\n",
    "plt.xticks(range(len(devpairs['Pairs'])),devpairs['Pairs'],rotation=90, fontsize = 8)\n",
    "plt.xlim(-1,len(devpairs)+1)\n",
    "plt.ylim(0,7)\n",
    "plt.xlabel('Pairs')\n",
    "plt.ylabel('Deviation (kcal/mol)')\n",
    "plt.title('Deviation Between Pairs AB and BA')\n",
    "plt.tight_layout()\n",
    "plt.savefig('absolute_pair_dev.png',dpi=300,bbox_inches='tight')\n",
    "plt.show()"
   ]
  },
  {
   "cell_type": "code",
   "execution_count": null,
   "id": "b3d2a7b5-9f0a-4ac4-b1fe-c5c4b7cf2471",
   "metadata": {},
   "outputs": [],
   "source": [
    "sns.heatmap(data=dfpairE,vmin=-12,vmax=0,cbar_kws={'label': 'Interaction Energy (kcal/mol)'},linewidths=0.1,square=True)\n",
    "plt.xlabel('Amino Acid')\n",
    "plt.ylabel('Amino Acid')\n",
    "\n",
    "plt.tight_layout()\n",
    "plt.savefig('pair_heat.png',dpi=300,bbox_inches='tight')\n",
    "plt.show()"
   ]
  },
  {
   "cell_type": "code",
   "execution_count": null,
   "id": "c6c3a6ba-b85e-42f7-a9ec-6d764a44589a",
   "metadata": {},
   "outputs": [],
   "source": [
    "inter_df.T.values.shape"
   ]
  },
  {
   "cell_type": "code",
   "execution_count": null,
   "id": "91531f40-a5b6-4da8-bbd3-49a1a7bb67e3",
   "metadata": {},
   "outputs": [],
   "source": [
    "dict_count=dict(zip(inter_df.T.columns,np.count_nonzero(inter_df.T.values==1,axis=0)))"
   ]
  },
  {
   "cell_type": "code",
   "execution_count": null,
   "id": "3c1f61f8-7cb6-4b11-8f58-4407ce808f1b",
   "metadata": {},
   "outputs": [],
   "source": [
    "y"
   ]
  },
  {
   "cell_type": "code",
   "execution_count": null,
   "id": "4de33c68-72cd-49c4-a4df-6bef67798ced",
   "metadata": {},
   "outputs": [],
   "source": [
    "intvsE=[]\n",
    "for k,v in df['label'].to_dict().items():\n",
    "    # print(k,v,dict_count[k])\n",
    "    # print(y[y['keypair']==v].values)\n",
    "    intvsE.append((dict_count[k],y[y['keypair']==v]['Interaction_Energy'].values[0]))\n",
    "intvsE=np.array(sorted(intvsE,key=lambda x: x[0]))    \n",
    "\n",
    "dfintvsE=pd.DataFrame(intvsE,columns=['Count','Interaction_Energy'])"
   ]
  },
  {
   "cell_type": "code",
   "execution_count": null,
   "id": "a5a42df2-bae1-4492-8978-7be21771aed2",
   "metadata": {},
   "outputs": [],
   "source": [
    "sns.histplot(data=dfintvsE,x='Interaction_Energy',hue='Count',kde=True,stat='count')"
   ]
  },
  {
   "cell_type": "code",
   "execution_count": null,
   "id": "f3755765-fcfc-49c7-bc69-d8e447d6cd4e",
   "metadata": {},
   "outputs": [],
   "source": [
    "stats=pd.DataFrame(y['Interaction_Energy'].describe()).round(2)\n",
    "\n",
    "plt.figure(figsize=(5,5))\n",
    "sns.histplot(data=y,x='Interaction_Energy')\n",
    "table =plt.table(cellText=stats.values,\n",
    "          rowLabels=stats.index,\n",
    "          colLabels=stats.columns,\n",
    "          cellLoc = 'center', rowLoc = 'center',\n",
    "          loc='bottom', bbox=[0.25, -0.5, 0.5, 0.3])\n",
    "\n",
    "\n",
    "table.auto_set_font_size(False)\n",
    "table.set_fontsize(8)\n",
    "\n",
    "\n",
    "plt.subplots_adjust(left=0, bottom=0.5)\n",
    "plt.tight_layout()\n",
    "plt.savefig('spread.png',dpi=300,bbox_inches='tight')\n",
    "plt.show()\n",
    "\n",
    "Q1=y['Interaction_Energy'].quantile(0.25)\n",
    "Q3=y['Interaction_Energy'].quantile(0.75)\n",
    "IQR=Q3-Q1\n",
    "upper = Q3 + 1.5*IQR\n",
    "\n",
    "lower = Q1 - 1.5*IQR\n",
    "\n",
    "y=y[(y['Interaction_Energy']>=lower)&(y['Interaction_Energy']<=upper)].dropna()\n",
    "sns.histplot(data=y,x='Interaction_Energy')\n",
    "plt.show()"
   ]
  },
  {
   "cell_type": "code",
   "execution_count": null,
   "id": "a74149c6-c550-44e5-8c3a-209cd0ecd395",
   "metadata": {},
   "outputs": [],
   "source": [
    "bitkey=dict(zip(AAs,range(len(AAs))))"
   ]
  },
  {
   "cell_type": "code",
   "execution_count": null,
   "id": "0f6cb26a-6abb-46f9-862b-d56000bd22b4",
   "metadata": {},
   "outputs": [],
   "source": [
    "bitkey"
   ]
  },
  {
   "cell_type": "code",
   "execution_count": null,
   "id": "d9ffba9e-d246-4e0b-b5e8-1c56f8b9fdd2",
   "metadata": {},
   "outputs": [],
   "source": [
    "# samples=len(y)\n",
    "# X=np.zeros((samples,len(AAs)))\n",
    "# Y=np.zeros((samples,1))\n",
    "\n",
    "# for idx,(k,v) in enumerate(y.set_index('keypair').to_dict()['Interaction_Energy'].items()):\n",
    "#     aa=pairs.loc[k].values[0].split('-')\n",
    "#     a1=aa[0]\n",
    "#     a2=aa[1]\n",
    "#     if a1!=a2:\n",
    "#         X[idx,bitkey[a1]]=1\n",
    "#         X[idx,bitkey[a2]]=1\n",
    "#     else:\n",
    "#         X[idx,bitkey[a1]]=2\n",
    "#     Y[idx]=v"
   ]
  },
  {
   "cell_type": "code",
   "execution_count": null,
   "id": "7b7f71fa-1d73-40be-958e-2363b8a62c5c",
   "metadata": {},
   "outputs": [],
   "source": []
  },
  {
   "cell_type": "code",
   "execution_count": null,
   "id": "38aa44cd-f948-494b-83db-43c5d66aa2b6",
   "metadata": {},
   "outputs": [],
   "source": []
  },
  {
   "cell_type": "code",
   "execution_count": null,
   "id": "c8e0fd98-ed31-45a4-8a0d-94e51cd14229",
   "metadata": {},
   "outputs": [],
   "source": [
    "# # Create the MolGraph object\n",
    "# mg = MolGraph()\n",
    "\n",
    "# # Read the data from the .xyz file\n",
    "# mg.read_xyz(monomerfiles[0])\n",
    "\n",
    "\n",
    "# # Convert the molecular graph to the NetworkX graph\n",
    "# G = to_networkx_graph(mg)\n",
    "\n",
    "# # G.nodes(data=True),G.edges(data=True)"
   ]
  },
  {
   "cell_type": "code",
   "execution_count": null,
   "id": "5b806d5e-dbd4-4e07-8213-358dc44ceecc",
   "metadata": {},
   "outputs": [],
   "source": [
    "# from rdkit.Chem import rdFingerprintGenerator\n",
    "# mols=[Chem.MolFromSmiles(list(pybel.readfile('xyz',m))[0].write().split('\\t')[0]) for m in monomerfiles]\n",
    "# fpgen = rdFingerprintGenerator.GetMorganGenerator(radius=6)\n",
    "\n",
    "# # info={}\n",
    "# # X = np.vstack([fpgen.GetFingerprint(mol) for mol in mols ])\n",
    "\n",
    "# fps = [MACCSkeys.GenMACCSKeys(x) for x in mols]\n",
    "# X=np.vstack([f.ToList() for f in fps])\n",
    "# Y=y.values\n",
    "\n",
    "# keys=pd.read_excel('MACCS_keys_example.xlsx',index_col='Key').drop(columns=['Unnamed: 0'])\n",
    "\n",
    "# mol_keys=[idx for idx, i in enumerate(X[0]) if i==1]\n",
    "\n",
    "# {str(keys.loc[idx].values[0]):i for idx, i in enumerate(np.count_nonzero(X,axis=0)) if i!=0}"
   ]
  },
  {
   "cell_type": "code",
   "execution_count": null,
   "id": "7944be31-3553-4d5e-81af-9acd1a9658b5",
   "metadata": {},
   "outputs": [],
   "source": [
    "\n",
    "# sns.heatmap([[DataStructs.TanimotoSimilarity(i,j) for i in fps] for j in fps],vmin=0,vmax=1,cmap=sns.cm.rocket_r)\n",
    "# plt.show()"
   ]
  },
  {
   "cell_type": "code",
   "execution_count": null,
   "id": "3db9cada-5347-49a6-b5fd-8e97143ad120",
   "metadata": {},
   "outputs": [],
   "source": [
    "# Draw.MolsToGridImage(mols,molsPerRow=10, subImgSize=(300,300))"
   ]
  },
  {
   "cell_type": "code",
   "execution_count": null,
   "id": "0c80b9c8-1191-4ac4-8c6a-90c0f54966e8",
   "metadata": {},
   "outputs": [],
   "source": [
    "# help(Draw.MolsToGridImage)"
   ]
  },
  {
   "cell_type": "code",
   "execution_count": null,
   "id": "bb05963c-99d6-4048-b9b5-3fab8aec6ca6",
   "metadata": {},
   "outputs": [],
   "source": [
    "stats"
   ]
  },
  {
   "cell_type": "code",
   "execution_count": null,
   "id": "6ccf4856-c8e8-4467-ac3a-648591b0fa94",
   "metadata": {},
   "outputs": [],
   "source": []
  },
  {
   "cell_type": "code",
   "execution_count": null,
   "id": "3bb2c7d3-e633-49c8-b50e-d248f5fcacc9",
   "metadata": {},
   "outputs": [],
   "source": [
    "# # Intersection of the two sets\n",
    "# intersection=set(['_'.join(i.split('_')[:3]) for i in list(y.index)]) & set(co2check)&set(moncheck)\n",
    "# X=genpaddedCMs(intersection)\n",
    "# Y=y.loc[sum([[i for i in y.index if j=='_'.join(i.split('_')[:3])] for j in intersection],[])].to_numpy().reshape(-1)"
   ]
  },
  {
   "cell_type": "code",
   "execution_count": null,
   "id": "fd68ccbe-bad2-4e6b-9be4-4391a9ad7b7a",
   "metadata": {},
   "outputs": [],
   "source": []
  },
  {
   "cell_type": "code",
   "execution_count": null,
   "id": "d290f46e-2aa2-4ec8-b13e-b0ab1a12ed19",
   "metadata": {},
   "outputs": [],
   "source": []
  },
  {
   "cell_type": "code",
   "execution_count": null,
   "id": "ecafeb85-d953-4675-8e87-f1f8e8208a12",
   "metadata": {},
   "outputs": [],
   "source": [
    "\n",
    "\n",
    "# ptable = fetch_table('elements').set_index('symbol')\n",
    "# Z=ptable['atomic_number']\n",
    "\n",
    "# atomLabels = {v:k for k,v in Z.to_dict().items()}\n",
    "\n",
    "# Elementlist=list(Z.index)\n",
    "\n",
    "\n",
    "# def speciescheck(files):\n",
    "#     return np.unique(np.hstack([np.genfromtxt(m,skip_header=2,dtype=str,usecols=0) for m in files]))\n",
    "\n",
    "# # species = speciescheck(foldername)\n",
    "# rcut = 8.0\n",
    "# nmax = 6\n",
    "# lmax = 6\n",
    "# species=speciescheck(monomerfiles)\n",
    "# # Setting up the SOAP descriptor\n",
    "# soap = SOAP(\n",
    "#     species=species,\n",
    "#     periodic=False,\n",
    "#     rcut=rcut,\n",
    "#     nmax=nmax,\n",
    "#     lmax=lmax,\n",
    "#     sigma=1.5\n",
    "# )\n",
    "\n",
    "# soaplist=list()\n",
    "\n",
    "\n",
    "\n",
    "# files=glob('./dipeptides_coordinates/AA_AA_*/final.xyz')\n",
    "# samples=len(y)\n",
    "# Y=np.zeros((samples,1))\n",
    "\n",
    "# for idx,i in enumerate(y.index):\n",
    "#     nam='_'.join(i.split('_')[:3])\n",
    "#     filename=f\"./dipeptides_coordinates/{nam}/final.xyz\"\n",
    "#     atoms=read(filename)\n",
    "#     soaplist.append(normalize(soap.create(atoms)))\n",
    "#         #soaplist.append(normalize(soap.create(atoms)))\n",
    "#     Y[idx,:]=y.loc[i].values\n",
    "    \n",
    "    \n",
    "\n",
    "# re = REMatchKernel(metric=\"rbf\", gamma=2, alpha=1.2, threshold=1e-8, normalize_kernel=False)\n",
    "# X = re.create(soaplist)"
   ]
  },
  {
   "cell_type": "code",
   "execution_count": null,
   "id": "b0630e8a",
   "metadata": {},
   "outputs": [],
   "source": [
    "# Multitarget classification \n",
    "pixelsx=150\n",
    "pixelsy=150\n",
    "spread=.01\n",
    "Max=2.5\n",
    "\n",
    "\n",
    "\n",
    "samples=len(df)\n",
    "X=np.zeros((samples,pixelsx*pixelsy))\n",
    "Y=np.zeros((samples,8))\n",
    "sitelist=['A_carboxy', 'A_amine', 'B_carboxy', 'B_amine', 'A_link','B_link', 'A_side', 'B_side']\n",
    "inter_df=df[sitelist]\n",
    "inter_df[inter_df!=0]=1\n",
    "\n",
    "for idx,(k,v) in enumerate(df['label'].to_dict().items()):\n",
    "    nam='_'.join(v.split('_')[:3])\n",
    "    filename=f\"./dipeptides_coordinates/{nam}/final.xyz\"\n",
    "    if os.path.exists(os.path.join(os.getcwd(),filename)):\n",
    "        X[idx,:]=VariancePersist(Filename = filename, pixelx=pixelsx, pixely=pixelsy, myspread=spread, myspecs={\"maxBD\": Max, \"minBD\":-0.1}, showplot=False)\n",
    "        Y[idx,:]=inter_df.loc[k].values"
   ]
  },
  {
   "cell_type": "code",
   "execution_count": null,
   "id": "8c1a37ae-b60e-4cc7-bdb7-5629af89e6a5",
   "metadata": {},
   "outputs": [],
   "source": []
  },
  {
   "cell_type": "code",
   "execution_count": null,
   "id": "cbb958f1-9dbb-4c59-8099-5aa9e297b925",
   "metadata": {},
   "outputs": [],
   "source": [
    "print(X.shape,Y.shape)\n",
    "X_train, X_test, y_train, y_test = train_test_split(X, Y, test_size=0.3, random_state=42)\n",
    "print(y_train.shape,y_test.shape)"
   ]
  },
  {
   "cell_type": "code",
   "execution_count": null,
   "id": "4a0eab3b-5ed3-47d5-ba0c-3bf8a1ce0c1f",
   "metadata": {},
   "outputs": [],
   "source": [
    "from sklearn.linear_model import RidgeClassifier\n",
    "parameters = {'alpha':np.logspace(-6,6,7)}\n",
    "GridSearch = GridSearchCV(RidgeClassifier(),param_grid=parameters,cv=5,verbose=0,n_jobs=-1,scoring='r2').fit(X_train,y_train)\n",
    "model=GridSearch.best_estimator_.fit(X_train,y_train)\n",
    "\n",
    "# model=RidgeClassifier(alpha=1e-3).fit(X_train,y_train)"
   ]
  },
  {
   "cell_type": "code",
   "execution_count": null,
   "id": "2a90f4ae-89d0-4aa8-b4f0-657c17f5a528",
   "metadata": {},
   "outputs": [],
   "source": [
    "model.score(X_train,y_train),model.score(X_test,y_test)"
   ]
  },
  {
   "cell_type": "code",
   "execution_count": null,
   "id": "59ff9b64-9eda-4a5f-94ea-5110fe3d5599",
   "metadata": {},
   "outputs": [],
   "source": [
    "from sklearn.decomposition import PCA\n",
    "pca = PCA(2)\n",
    " \n",
    "#Transform the data\n",
    "Y_pca = pca.fit_transform(Y)"
   ]
  },
  {
   "cell_type": "code",
   "execution_count": null,
   "id": "0b2182b9-df4e-4a68-808c-6df8d946970e",
   "metadata": {},
   "outputs": [],
   "source": [
    "from sklearn.cluster import KMeans\n",
    "n_clusters=3\n",
    "kmeans = KMeans(n_clusters=n_clusters, random_state=0).fit(Y_pca)"
   ]
  },
  {
   "cell_type": "code",
   "execution_count": null,
   "id": "1d9796dd-f571-4794-a3f9-3b9ad27408df",
   "metadata": {},
   "outputs": [],
   "source": [
    "pca_df=pd.DataFrame({'x':Y_pca[:,0],'y':Y_pca[:,1],'l':kmeans.labels_})"
   ]
  },
  {
   "cell_type": "code",
   "execution_count": null,
   "id": "db9cf0fa-a560-4463-8358-ee773213a552",
   "metadata": {},
   "outputs": [],
   "source": [
    "unique_clusters=np.unique(kmeans.labels_)"
   ]
  },
  {
   "cell_type": "code",
   "execution_count": null,
   "id": "2d6df973-47bb-425c-969c-c89c7475f711",
   "metadata": {},
   "outputs": [],
   "source": [
    "clusY=np.hstack([Y,kmeans.labels_.reshape(-1,1)])"
   ]
  },
  {
   "cell_type": "code",
   "execution_count": null,
   "id": "3420f031-6347-43a2-b3fa-8036c2ad1c5f",
   "metadata": {},
   "outputs": [],
   "source": [
    "uniqueY=np.unique(Y,axis=0)"
   ]
  },
  {
   "cell_type": "code",
   "execution_count": null,
   "id": "021060a5-c2e4-4dfd-b5fc-08dc040c7195",
   "metadata": {},
   "outputs": [],
   "source": [
    "groupuniq={idun:{'idx':[ridx for ridx,row in enumerate(Y) if all(uY==row)],'inter':np.array(sitelist)[uY.astype(bool)]} for idun, uY in enumerate(uniqueY)}"
   ]
  },
  {
   "cell_type": "code",
   "execution_count": null,
   "id": "80348314-ec53-4489-bc1c-29ef32cc8134",
   "metadata": {},
   "outputs": [],
   "source": [
    "cnt_inter={k:(len(v['idx']),v['inter']) for k,v in sorted(groupuniq.items(),key=lambda x: len(x[1]['idx']))}"
   ]
  },
  {
   "cell_type": "code",
   "execution_count": null,
   "id": "62546146-8b67-46fa-a627-5c8a41682fdb",
   "metadata": {},
   "outputs": [],
   "source": [
    "np.unique(np.array(list(cnt_inter.values()),dtype=object)[:,0].astype(int))"
   ]
  },
  {
   "cell_type": "code",
   "execution_count": null,
   "id": "bed37960-5585-437f-a5a0-895f872dbddc",
   "metadata": {},
   "outputs": [],
   "source": [
    "set([len(v[1]) for k,v in sorted(cnt_inter.items(),key=lambda x: len(x[1][1]))])"
   ]
  },
  {
   "cell_type": "code",
   "execution_count": null,
   "id": "5f26ccdf-c67e-4532-8851-5e0aed0a1199",
   "metadata": {},
   "outputs": [],
   "source": [
    "for i in [1,2,3]:    \n",
    "    for idx, (cnt, inter) in sorted(cnt_inter.items(),key=lambda x: len(x[1][1])):\n",
    "        if len(inter)==i:\n",
    "            sns.kdeplot(df['Interaction_Energy'].iloc[groupuniq[idx]['idx']],label=inter,warn_singular=False)\n",
    "    plt.legend()\n",
    "    plt.show()"
   ]
  },
  {
   "cell_type": "code",
   "execution_count": null,
   "id": "f8d1ce2c-99e0-4c6f-b2a5-946e35ff9b1e",
   "metadata": {},
   "outputs": [],
   "source": [
    "# cnt_inter=pd.DataFrame(np.zeros((len(sitelist),len(sitelist))),index=sitelist,columns=sitelist)"
   ]
  },
  {
   "cell_type": "code",
   "execution_count": null,
   "id": "5dbc780a-0344-4555-8fd7-ebf4cd12543d",
   "metadata": {},
   "outputs": [],
   "source": [
    "cnt_inter"
   ]
  },
  {
   "cell_type": "code",
   "execution_count": null,
   "id": "d173db60-4d19-4cdc-8fd3-c87f3799f563",
   "metadata": {},
   "outputs": [],
   "source": [
    "for c in range(n_clusters):\n",
    "    sns.kdeplot(df.iloc[[idx for idx, i in enumerate(clusY[:,-1]) if i==c]]['Interaction_Energy'],label=c)\n",
    "plt.legend()\n",
    "plt.tight_layout()\n",
    "plt.savefig(f'cluster_n{n_clusters}_kde.png',dpi=300,bbox_inches='tight')\n",
    "plt.show()"
   ]
  },
  {
   "cell_type": "code",
   "execution_count": null,
   "id": "72ee2bab-9f07-49b2-9a32-4f6622af2abe",
   "metadata": {},
   "outputs": [],
   "source": [
    "for i in unique_clusters:\n",
    "    uni=np.unique(clusY[clusY[:,-1]==i],axis=0)\n",
    "    for j in uni:\n",
    "        print(np.array(sitelist)[np.array(j.astype(bool)[:-1])])\n",
    "    # print(uni)\n",
    "    print(i,uni.shape)"
   ]
  },
  {
   "cell_type": "code",
   "execution_count": null,
   "id": "9d525268-4e83-4f63-b0b5-c0bee9925ee9",
   "metadata": {},
   "outputs": [],
   "source": []
  },
  {
   "cell_type": "code",
   "execution_count": null,
   "id": "5a7a0ae9-f8e9-431f-beea-df82b634ad34",
   "metadata": {},
   "outputs": [],
   "source": [
    "sns.scatterplot(data=pca_df,x='x',y='y',hue='l',palette=sns.color_palette('tab10',n_clusters))\n",
    "plt.xlim(-1,1.75)\n",
    "plt.savefig(f'cluster_n{n_clusters}_cluster.png',dpi=300,bbox_inches='tight')\n",
    "plt.show()"
   ]
  },
  {
   "cell_type": "code",
   "execution_count": null,
   "id": "91b4b6a3-f0e4-4ac7-a9fe-fbe729f68a1d",
   "metadata": {},
   "outputs": [],
   "source": []
  },
  {
   "cell_type": "code",
   "execution_count": null,
   "id": "bb01d94f-13ee-4ca6-b269-7e76213004a2",
   "metadata": {},
   "outputs": [],
   "source": [
    "# Multitarget classification \n",
    "pixelsx=50\n",
    "pixelsy=50\n",
    "spread=.01\n",
    "Max=2.5\n",
    "\n",
    "\n",
    "\n",
    "samples=len(df)\n",
    "X=np.zeros((samples,pixelsx*pixelsy))\n",
    "Y=np.zeros((samples,1))\n",
    "\n",
    "for idx,(k,v) in enumerate(df['label'].to_dict().items()):\n",
    "    nam='_'.join(v.split('_')[:3])\n",
    "    filename=f\"./dipeptides_coordinates/{nam}/final.xyz\"\n",
    "    if os.path.exists(os.path.join(os.getcwd(),filename)):\n",
    "        perX=VariancePersist(Filename = filename, pixelx=pixelsx, pixely=pixelsy, myspread=spread, myspecs={\"maxBD\": Max, \"minBD\":-0.1}, showplot=False)\n",
    "        X[idx,:]=perX\n",
    "        # X[idx,:]=np.concatenate([perX,inter_df.loc[k].values])\n",
    "        Y[idx,:]=df['Interaction_Energy'].loc[k]\n",
    "        \n",
    "X_train, X_test, y_train, y_test = train_test_split(X, Y, test_size=0.30, random_state=34)\n",
    "print(X_train.shape,X_test.shape)\n",
    "\n",
    "\n",
    "\n",
    "model=XGBRegressor(device='cpu',reg_lambda=1e-3,reg_alpha=1e-3,max_depth=10,min_child_weight=10)\n",
    "from sklearn.model_selection import cross_val_score\n",
    "scores = cross_val_score(model, X, Y, cv=4)\n",
    "print(scores)\n",
    "print(\"Mean accuracy of %0.4f with a standard deviation of %0.2f\" % (scores.mean(), scores.std()))\n",
    "\n",
    "model.fit(X_train,y_train)\n",
    "y_pred_train=model.predict(X_train)\n",
    "y_pred_test=model.predict(X_test)\n",
    "print(f\"R2: {r2_score(y_train,y_pred_train):.4f},{r2_score(y_test,y_pred_test):.4f}\")\n",
    "print(f\"RMSE (kcal/mol): {mean_squared_error(y_train,y_pred_train,squared=False):.4f},{mean_squared_error(y_test,y_pred_test,squared=False):.4f}\")\n",
    "plt.scatter(y_train,y_pred_train)\n",
    "plt.scatter(y_test,y_pred_test)\n",
    "plt.show()"
   ]
  },
  {
   "cell_type": "code",
   "execution_count": null,
   "id": "cc1576fd-aa9d-4a67-84d8-3549c06be26d",
   "metadata": {},
   "outputs": [],
   "source": [
    "inter_df.loc['Alanine-Alanine'].values"
   ]
  },
  {
   "cell_type": "code",
   "execution_count": null,
   "id": "e4afbc13-35bd-429c-a96e-e12aecdf4fc5",
   "metadata": {},
   "outputs": [],
   "source": [
    "AB={}\n",
    "BA={}\n",
    "AA={}\n",
    "AB_y=[]\n",
    "BA_y=[]\n",
    "AA_y=[]\n",
    "AB_PI=[]\n",
    "BA_PI=[]\n",
    "AA_PI=[]\n",
    "for idxi,i in enumerate(AAs):\n",
    "    for idxj,j in enumerate(AAs):\n",
    "        if i!=j and idxi>=idxj:\n",
    "            AB[f'{i}-{j}']={'x':inter_df.loc[f'{i}-{j}'].values,'y':df['Interaction_Energy'].loc[f'{i}-{j}']}\n",
    "            BA[f'{j}-{i}']={'x':inter_df.loc[f'{j}-{i}'].values,'y':df['Interaction_Energy'].loc[f'{j}-{i}']}\n",
    "            AB_y.append(df['Interaction_Energy'].loc[f'{i}-{j}'])\n",
    "            BA_y.append(df['Interaction_Energy'].loc[f'{j}-{i}'])     \n",
    "            AB_PI.append(VariancePersist(Filename = f\"./dipeptides_coordinates/{df['label'].to_dict()[f'{i}-{j}']}/final.xyz\", pixelx=pixelsx, pixely=pixelsy, myspread=spread, myspecs={\"maxBD\": Max, \"minBD\":-0.1}, showplot=False))\n",
    "            BA_PI.append(VariancePersist(Filename = f\"./dipeptides_coordinates/{df['label'].to_dict()[f'{j}-{i}']}/final.xyz\", pixelx=pixelsx, pixely=pixelsy, myspread=spread, myspecs={\"maxBD\": Max, \"minBD\":-0.1}, showplot=False))            \n",
    "        elif i==j:\n",
    "            AA[f'{i}-{j}']={'x':inter_df.loc[f'{i}-{j}'].values,'y':df['Interaction_Energy'].loc[f'{i}-{j}']}\n",
    "            AA_y.append(df['Interaction_Energy'].loc[f'{i}-{j}'])     \n",
    "            AA_PI.append(VariancePersist(Filename = f\"./dipeptides_coordinates/{df['label'].to_dict()[f'{i}-{j}']}/final.xyz\", pixelx=pixelsx, pixely=pixelsy, myspread=spread, myspecs={\"maxBD\": Max, \"minBD\":-0.1}, showplot=False))\n",
    "            "
   ]
  },
  {
   "cell_type": "code",
   "execution_count": null,
   "id": "4a337559-3c5e-4d22-9f36-58facb014575",
   "metadata": {},
   "outputs": [],
   "source": [
    "AB_dat=np.vstack([np.hstack([v['x'],v['y']]) for v in AB.values()])\n",
    "BA_dat=np.vstack([np.hstack([v['x'],v['y']]) for v in BA.values()])\n",
    "AA_dat=np.vstack([np.hstack([v['x'],v['y']]) for v in AA.values()])"
   ]
  },
  {
   "cell_type": "code",
   "execution_count": null,
   "id": "8cc331c5-723f-49fe-9326-9365c77e32b8",
   "metadata": {},
   "outputs": [],
   "source": [
    "np.vstack(AA_PI).shape,np.vstack(AB_PI).shape,np.vstack(BA_PI).shape"
   ]
  },
  {
   "cell_type": "code",
   "execution_count": null,
   "id": "1ac96b1a-46bc-44f8-8cd6-3bcfd23fdc2b",
   "metadata": {},
   "outputs": [],
   "source": [
    "def try_(X,Y):\n",
    "    Y=Y.reshape(-1,)        \n",
    "    print(X.shape,Y.shape)\n",
    "    X_train, X_test, y_train, y_test = train_test_split(X, Y, test_size=0.3, random_state=42)\n",
    "    print(X_train.shape,X_test.shape)\n",
    "\n",
    "\n",
    "\n",
    "    model=XGBRegressor(device='cpu',reg_lambda=1e-3,reg_alpha=1e-3,max_depth=10,min_child_weight=10)\n",
    "    model.fit(X_train,y_train)\n",
    "    y_pred_train=model.predict(X_train)\n",
    "    y_pred_test=model.predict(X_test)\n",
    "    print(f\"R2: {r2_score(y_train,y_pred_train):.4f},{r2_score(y_test,y_pred_test):.4f}\")\n",
    "    print(f\"RMSE (kcal/mol): {mean_squared_error(y_train,y_pred_train,squared=False):.4f},{mean_squared_error(y_test,y_pred_test,squared=False):.4f}\")\n",
    "    print(model.score(X_train, y_train),model.score(X_test, y_test))\n",
    "    scores = cross_val_score(model, X, Y, cv=4)\n",
    "    print(scores)\n",
    "    print(\"Mean accuracy of %0.4f with a standard deviation of %0.2f\" % (scores.mean(), scores.std()))    \n",
    "    plt.scatter(y_train,y_pred_train)\n",
    "    plt.plot(y_train,y_train)\n",
    "    plt.scatter(y_test,y_pred_test)\n",
    "    plt.show()"
   ]
  },
  {
   "cell_type": "code",
   "execution_count": null,
   "id": "7da0f5fa-1c9d-4c33-b956-9155aae0ef89",
   "metadata": {},
   "outputs": [],
   "source": []
  },
  {
   "cell_type": "code",
   "execution_count": null,
   "id": "94eef93c-b589-4814-9e18-1da6e06bee86",
   "metadata": {},
   "outputs": [],
   "source": [
    "try_(np.vstack(AA_PI),np.array(AA_y))"
   ]
  },
  {
   "cell_type": "code",
   "execution_count": null,
   "id": "47d3e11d-8713-46bc-b15c-a4a480cafc59",
   "metadata": {},
   "outputs": [],
   "source": [
    "try_(np.vstack(AB_PI),np.array(AB_y))"
   ]
  },
  {
   "cell_type": "code",
   "execution_count": null,
   "id": "b6cec75e-4d85-433e-a879-bcda6fd00bd7",
   "metadata": {},
   "outputs": [],
   "source": [
    "try_(np.vstack(BA_PI),np.array(BA_y))"
   ]
  },
  {
   "cell_type": "code",
   "execution_count": null,
   "id": "270d4419-ac35-4a25-845a-7716928dde20",
   "metadata": {},
   "outputs": [],
   "source": [
    "try_(AA_dat[:,:-1],AA_dat[:,-1])"
   ]
  },
  {
   "cell_type": "code",
   "execution_count": null,
   "id": "bf1d5368-9c84-4377-90f4-16a8c4afe4c3",
   "metadata": {},
   "outputs": [],
   "source": [
    "try_(AB_dat[:,:-1],AB_dat[:,-1])"
   ]
  },
  {
   "cell_type": "code",
   "execution_count": null,
   "id": "842493b5-d940-42fb-b041-9bd57beb86d6",
   "metadata": {},
   "outputs": [],
   "source": [
    "try_(BA_dat[:,:-1],BA_dat[:,-1])"
   ]
  }
 ],
 "metadata": {
  "kernelspec": {
   "display_name": "molecular_representation",
   "language": "python",
   "name": "molecular_representation"
  },
  "language_info": {
   "codemirror_mode": {
    "name": "ipython",
    "version": 3
   },
   "file_extension": ".py",
   "mimetype": "text/x-python",
   "name": "python",
   "nbconvert_exporter": "python",
   "pygments_lexer": "ipython3",
   "version": "3.8.14"
  }
 },
 "nbformat": 4,
 "nbformat_minor": 5
}
