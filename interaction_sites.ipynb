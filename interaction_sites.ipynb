{
 "cells": [
  {
   "cell_type": "code",
   "execution_count": 1,
   "id": "2511e5fb-85de-4469-bbe1-bbbd75aac06e",
   "metadata": {},
   "outputs": [
    {
     "name": "stdout",
     "output_type": "stream",
     "text": [
      "Number of monomers is equivalent to monomers+CO2: True\n",
      "Using the intersection of the sets of length: 0\n",
      "\n",
      "Rips(maxdim=1, thresh=inf, coeff=2, do_cocycles=False, n_perm = None, verbose=True)\n"
     ]
    }
   ],
   "source": [
    "import sys\n",
    "# !{sys.executable} -m pip install openbabel\n",
    "from collections import Counter\n",
    "from shutil import move\n",
    "from tqdm.notebook import trange, tqdm\n",
    "from time import sleep, perf_counter\n",
    "\n",
    "import os\n",
    "from glob import glob\n",
    "import pandas as pd\n",
    "import numpy as np\n",
    "import networkx as nx\n",
    "from collections import Counter\n",
    "from scipy.spatial import distance_matrix\n",
    "\n",
    "# Reps\n",
    "from alchemical_cms import genpaddedCMs\n",
    "from dscribe.descriptors import SOAP\n",
    "from dscribe.kernels import REMatchKernel\n",
    "from mendeleev.fetch import fetch_table\n",
    "from ase.io import read\n",
    "from Element_PI import VariancePersist\n",
    "from Element_PI import VariancePersistv1\n",
    "\n",
    "from rdkit import DataStructs\n",
    "from rdkit import Chem\n",
    "from rdkit.Chem import AllChem\n",
    "from rdkit.Chem import Draw, MACCSkeys\n",
    "from openbabel import openbabel as ob\n",
    "from openbabel import pybel\n",
    "\n",
    "from xyz2graph import MolGraph, to_networkx_graph, to_plotly_figure\n",
    "from plotly.offline import offline\n",
    "\n",
    "#Plotting\n",
    "import seaborn as sns\n",
    "sns.set_style()\n",
    "import matplotlib as mpl\n",
    "import matplotlib.pyplot as plt\n",
    "mpl.rcParams['figure.dpi'] = 200\n"
   ]
  },
  {
   "cell_type": "markdown",
   "id": "4b7a3c97-cbb9-43d7-8449-ddf1af381721",
   "metadata": {},
   "source": [
    "# Find an automated way to determine the interaction sites of a dipeptide"
   ]
  },
  {
   "cell_type": "code",
   "execution_count": 2,
   "id": "0b7488d0",
   "metadata": {},
   "outputs": [],
   "source": [
    "# Useful data\n",
    "ptable = fetch_table('elements').set_index('symbol')\n",
    "Z={v:k for k,v in ptable['atomic_number'].to_dict().items()}"
   ]
  },
  {
   "cell_type": "code",
   "execution_count": 3,
   "id": "f610737a-12de-4de6-9f4a-17d8ce72612f",
   "metadata": {},
   "outputs": [],
   "source": [
    "aa_dictog={'Glycine':\"O=C(O)CN\",\n",
    " 'Arginine':\"O=C(O)[C@H](CCCNC(N)=N)N\",\n",
    " 'Aspartic':\"O=C(O)[C@H](CC(O)=O)N\",\n",
    " 'Alanine':\"O=C(O)[C@H](C)N\",\n",
    " 'Threonine':\"O=C(O)[C@H]([C@H](O)C)N\",\n",
    " 'Phenylalanine':\"O=C(O)[C@H](CC1=CC=CC=C1)N\",\n",
    " 'Leucine':\"O=C(O)[C@H](CC(C)C)N\",\n",
    " 'Lysine':\"O=C(O)[C@H](CCCCN)N\",\n",
    " # 'Histidine':\"NC(c1cnc[nH]1)C(=O)O\",# Wrong structure but use for code testing for now\n",
    " 'Histidine':\"O=C(O)[C@H](CC1=CNC=N1)N\",\n",
    " 'Cysteine':\"O=C(O)[C@H](CS)N\",\n",
    " 'Glutamine':\"O=C(O)[C@H](CCC(N)=O)N\",\n",
    " 'Methionine':\"O=C(O)[C@H](CCSC)N\",\n",
    " 'Tryptophan':\"O=C(O)[C@H](CC1=CNC2=CC=CC=C12)N\",\n",
    " 'Serine':\"O=C(O)[C@H](CO)N\",\n",
    " 'Glutamic':\"O=C(O)[C@H](CCC(O)=O)N\",\n",
    " 'Proline':\"O=C(O)[C@H]1NCCC1\",\n",
    " 'Asparagine':\"O=C(O)[C@H](CC(N)=O)N\",\n",
    " 'Valine':\"O=C(O)[C@H](C(C)C)N\",\n",
    " 'Tyrosine':\"O=C(O)[C@H](CC1=CC=C(C=C1)O)N\",\n",
    " 'Isoleucine':\"O=C(O)[C@H]([C@@H](C)CC)N\"}\n",
    "aa_dict={}\n",
    "for k,v in aa_dictog.items():\n",
    "    if k!='Glycine':\n",
    "        mol=Chem.MolFromSmiles(v)\n",
    "        Chem.RemoveStereochemistry(mol)\n",
    "        aa_dict[k]=Chem.MolToSmiles(mol)\n",
    "    else:\n",
    "        aa_dict[k]=v"
   ]
  },
  {
   "cell_type": "code",
   "execution_count": null,
   "id": "525fd588-5bf8-4f5f-b948-bc386e7f8b4f",
   "metadata": {
    "tags": []
   },
   "outputs": [],
   "source": []
  },
  {
   "cell_type": "code",
   "execution_count": 4,
   "id": "11179897-4361-4d6c-82d2-2f4a2b18476a",
   "metadata": {},
   "outputs": [],
   "source": [
    "# Find set of files\n",
    "\n",
    "co2files=glob('./dipeptides_co2_coordinates/*.xyz')\n",
    "\n",
    "y=pd.read_excel('400_dipeptides_interaction_energy.xlsx',usecols=[1,2],index_col=0)\n",
    "y['keypair']=['_'.join(i.split('_')[:3]) for i in y.index]\n",
    "\n",
    "# Pairs: \n",
    "# In the dehydration process,\n",
    "# AA1 is the one that undergoes dehydroxylation\n",
    "# and AA2 is the one that undergoes dehydrogenation\n",
    "pairs=pd.DataFrame([(i[0].split(\":\")[0],i[0].split(\":\")[1].replace(\" \",\"\")) for i in pd.read_excel('400_dipeptides_interaction_energy.xlsx', 'Sheet2',header=None).values]).set_index(0)\n",
    "\n",
    "for idx,i in enumerate(pairs[1].values):\n",
    "    if 'acid' in i:\n",
    "        pairs[1].iloc[idx]=i.replace('acid','')\n",
    "\n",
    "\n",
    "ptable = fetch_table('elements').set_index('symbol')\n",
    "AAs=list(set(sum([i[0].split('-') for i in pairs.values],[])))\n",
    "\n",
    "monomerfiles={}        \n",
    "co2paths={}\n",
    "for k,v in pairs.to_dict()[1].items():\n",
    "    try:\n",
    "        path=glob(f'./dipeptides_co2_coordinates/{k}_*.xyz')[0]\n",
    "        monpath=f'./dipeptides_coordinates/{k}.xyz'\n",
    "        if os.path.exists(path) and os.path.exists(monpath):\n",
    "            co2paths[v]=path    \n",
    "            monomerfiles[v]=monpath\n",
    "    except:\n",
    "        print(k)"
   ]
  },
  {
   "cell_type": "code",
   "execution_count": 5,
   "id": "30c706b2-a14b-4470-89c5-5b5a02ba0b05",
   "metadata": {},
   "outputs": [],
   "source": [
    "\n",
    "# # Create the MolGraph object\n",
    "# mg = MolGraph()\n",
    "\n",
    "# # Read the data from the .xyz file\n",
    "# mg.read_xyz(co2files[0])\n",
    "\n",
    "# # Create the Plotly figure object\n",
    "# fig = to_plotly_figure(mg)\n",
    "\n",
    "# # Plot the figure\n",
    "# offline.plot(fig)\n",
    "\n",
    "# # Convert the molecular graph to the NetworkX graph\n",
    "# G = to_networkx_graph(mg)"
   ]
  },
  {
   "cell_type": "code",
   "execution_count": null,
   "id": "196b7840-dcf1-4a0b-981f-012dce2b27fa",
   "metadata": {},
   "outputs": [],
   "source": []
  },
  {
   "cell_type": "code",
   "execution_count": null,
   "id": "47921f2f-06bb-4eac-beaa-b21432a33e8f",
   "metadata": {},
   "outputs": [],
   "source": []
  },
  {
   "cell_type": "code",
   "execution_count": 6,
   "id": "5731e1b0-f52a-4436-b390-70559390b57d",
   "metadata": {},
   "outputs": [],
   "source": [
    "def genxyz(filename):\n",
    "    \"\"\"\n",
    "    Generate xyz file as numpy arrays\n",
    "    \n",
    "    parameters\n",
    "    ----------\n",
    "    filename: str\n",
    "        Path to xyz file\n",
    "        \n",
    "    returns\n",
    "    -------\n",
    "    atoms: np.ndarray (str)\n",
    "    \n",
    "    xyz: np.ndarray (float)\n",
    "    \"\"\"\n",
    "    file=np.genfromtxt(filename,skip_header=2,dtype=str)\n",
    "\n",
    "    atoms=file[:,0]\n",
    "    xyz=file[:,1:].astype(float)\n",
    "    \n",
    "    return atoms, xyz\n",
    "\n",
    "\n",
    "def gendistmat(xyz):\n",
    "    \"\"\"\n",
    "    Generate distance matrix from xyz array\n",
    "    \n",
    "    parameters\n",
    "    ----------\n",
    "    xyz: np.ndarray\n",
    "    \n",
    "    returns\n",
    "    -------\n",
    "    D: np.ndarray\n",
    "    \"\"\"\n",
    "    atoms=xyz[0]\n",
    "    xyz=xyz[1]\n",
    "    D=distance_matrix(xyz,xyz)\n",
    "    D=pd.DataFrame(D)\n",
    "    return atoms,D\n",
    "\n",
    "def closest(atms,distmat):\n",
    "    clsdf=distmat.iloc[-3:,:-3].T.idxmin().to_frame()\n",
    "    close=atms[clsdf.values]\n",
    "    clsdf['atoms']=close\n",
    "    clsdf=clsdf.rename(columns={0:'idx'})\n",
    "    if dict(Counter(atms[clsdf.index]))=={'C':1,'O':2}:        \n",
    "        return clsdf\n",
    "    else:\n",
    "        return None"
   ]
  },
  {
   "cell_type": "code",
   "execution_count": 7,
   "id": "199dfc64-ca61-4af7-ba8f-ece6de53c646",
   "metadata": {},
   "outputs": [
    {
     "data": {
      "text/html": [
       "<div>\n",
       "<style scoped>\n",
       "    .dataframe tbody tr th:only-of-type {\n",
       "        vertical-align: middle;\n",
       "    }\n",
       "\n",
       "    .dataframe tbody tr th {\n",
       "        vertical-align: top;\n",
       "    }\n",
       "\n",
       "    .dataframe thead th {\n",
       "        text-align: right;\n",
       "    }\n",
       "</style>\n",
       "<table border=\"1\" class=\"dataframe\">\n",
       "  <thead>\n",
       "    <tr style=\"text-align: right;\">\n",
       "      <th></th>\n",
       "      <th>1</th>\n",
       "    </tr>\n",
       "    <tr>\n",
       "      <th>0</th>\n",
       "      <th></th>\n",
       "    </tr>\n",
       "  </thead>\n",
       "  <tbody>\n",
       "    <tr>\n",
       "      <th>AA_AA_251</th>\n",
       "      <td>Methionine-Leucine</td>\n",
       "    </tr>\n",
       "  </tbody>\n",
       "</table>\n",
       "</div>"
      ],
      "text/plain": [
       "                            1\n",
       "0                            \n",
       "AA_AA_251  Methionine-Leucine"
      ]
     },
     "execution_count": 7,
     "metadata": {},
     "output_type": "execute_result"
    }
   ],
   "source": [
    "pairs[pairs[1]=='Methionine-Leucine']"
   ]
  },
  {
   "cell_type": "code",
   "execution_count": 8,
   "id": "56fc9c8f",
   "metadata": {},
   "outputs": [],
   "source": [
    "inter_dict={pairs.to_dict()[1]['_'.join(i.split('/')[-1].split('_')[0:3])]:closest(*gendistmat(genxyz(i))) for i in co2files}"
   ]
  },
  {
   "cell_type": "code",
   "execution_count": 9,
   "id": "dd2d136a-8a09-40a6-9da3-bf0c4f0a5666",
   "metadata": {},
   "outputs": [],
   "source": [
    "\n",
    "co2dipepgraphs={}\n",
    "co2mgs={}\n",
    "for k,v in co2paths.items():\n",
    "    # Create the MolGraph object\n",
    "    mg = MolGraph()\n",
    "\n",
    "    # Read the data from the .xyz file\n",
    "    mg.read_xyz(v)\n",
    "    co2mgs[k]=mg\n",
    "    # Convert the molecular graph to the NetworkX graph\n",
    "    G = to_networkx_graph(mg)\n",
    "    co2dipepgraphs[k]=G\n",
    "    \n",
    "dipepgraphs={}    \n",
    "mgs={}\n",
    "for k,v in monomerfiles.items():\n",
    "    # Create the MolGraph object\n",
    "    mg = MolGraph()\n",
    "\n",
    "    # Read the data from the .xyz file\n",
    "    mg.read_xyz(v)\n",
    "    mgs[k]=mg\n",
    "    # Convert the molecular graph to the NetworkX graph\n",
    "    G = to_networkx_graph(mg)\n",
    "    dipepgraphs[k]=G    \n"
   ]
  },
  {
   "cell_type": "code",
   "execution_count": 10,
   "id": "4e306984-77d1-415e-b075-893273b473b0",
   "metadata": {},
   "outputs": [],
   "source": [
    "# fig = to_plotly_figure(mgs['Asparagine-Leucine'])\n",
    "# offline.plot(fig)"
   ]
  },
  {
   "cell_type": "code",
   "execution_count": 11,
   "id": "6bb1733d-dfbc-4442-bed0-cc4324721e79",
   "metadata": {},
   "outputs": [],
   "source": [
    "# define the function for coverting rdkit object to networkx object -----------     \n",
    "# From: https://gist.github.com/fangkuoyu/dc785218e5d4d94c752e80f1aaba4fad\n",
    "def mol_to_nx(mol):\n",
    "    mol=AllChem.AddHs(mol)\n",
    "    G = nx.Graph()\n",
    "\n",
    "    for atom in mol.GetAtoms():\n",
    "        G.add_node(atom.GetIdx(),\n",
    "                   atomic_num=atom.GetAtomicNum(),\n",
    "                   is_aromatic=atom.GetIsAromatic(),\n",
    "                   atom_symbol=atom.GetSymbol())\n",
    "        \n",
    "    for bond in mol.GetBonds():\n",
    "        G.add_edge(bond.GetBeginAtomIdx(),\n",
    "                   bond.GetEndAtomIdx(),\n",
    "                   bond_type=bond.GetBondType())\n",
    "        \n",
    "    return G\n",
    "\n",
    "\n",
    "def mol_to_nx_noHs(mol):\n",
    "    G = nx.Graph()\n",
    "\n",
    "    for atom in mol.GetAtoms():\n",
    "        G.add_node(atom.GetIdx(),\n",
    "                   atomic_num=atom.GetAtomicNum(),\n",
    "                   is_aromatic=atom.GetIsAromatic(),\n",
    "                   atom_symbol=atom.GetSymbol())\n",
    "        \n",
    "    for bond in mol.GetBonds():\n",
    "        G.add_edge(bond.GetBeginAtomIdx(),\n",
    "                   bond.GetEndAtomIdx(),\n",
    "                   bond_type=bond.GetBondType())\n",
    "        \n",
    "    return G\n",
    "\n",
    "def draw_aminoacid(G):\n",
    "    attrkeys=list(dict(G.nodes(data=True)).values())[0].keys()\n",
    "    if 'element' in attrkeys:\n",
    "        attkey='element'\n",
    "        \n",
    "    else:\n",
    "        attkey='atom_symbol'\n",
    "    atom = nx.get_node_attributes(G, attkey)\n",
    "    color_map = {'C': '#696969',\n",
    "                 'O': 'red',\n",
    "                 'N': 'blue',\n",
    "                 'H': '#F2F2F2',\n",
    "                 'S': 'yellow'\n",
    "                }\n",
    "\n",
    "    colors = []\n",
    "    for idx in G.nodes():\n",
    "        if (G.nodes[idx][attkey] in color_map):\n",
    "            colors.append(color_map[G.nodes[idx][attkey]])            \n",
    "        else:\n",
    "            colors.append('gray')\n",
    "\n",
    "    nx.draw_spring(G,\n",
    "            labels=atom,\n",
    "            with_labels = True,\n",
    "            node_color=colors,\n",
    "            node_size=800)\n",
    "\n",
    "    plt.show()\n"
   ]
  },
  {
   "cell_type": "code",
   "execution_count": 32,
   "id": "49cf42ae-72a1-495a-ad9b-9d726fd49556",
   "metadata": {},
   "outputs": [],
   "source": [
    "def MolFromGraphs(G):\n",
    "    node_list=dict(G.nodes(data=True))\n",
    "    adjacency_matrix=nx.adjacency_matrix(G).toarray()\n",
    "    # create empty editable mol object\n",
    "    mol = Chem.RWMol()\n",
    "\n",
    "    # add atoms to mol and keep track of index\n",
    "    node_to_idx = {}\n",
    "    for i in range(len(node_list)):\n",
    "        a = Chem.Atom(node_list[i]['element'])\n",
    "        molIdx = mol.AddAtom(a)\n",
    "        node_to_idx[i] = molIdx\n",
    "\n",
    "    # add bonds between adjacent atoms\n",
    "    for ix, iy in G.edges():\n",
    "        nix=node_list[ix]\n",
    "        niy=node_list[iy]\n",
    "        \n",
    "        single=np.round((ptable.loc[nix['element']]['covalent_radius_cordero']+ptable.loc[niy['element']]['covalent_radius_cordero'])/100,2)\n",
    "        double=np.round((ptable.loc[nix['element']]['covalent_radius_pyykko_double']+ptable.loc[niy['element']]['covalent_radius_pyykko_double'])/100,2)\n",
    "        bl=np.round(np.linalg.norm(np.array(nix['xyz'])-np.array(niy['xyz'])),2)\n",
    "        if np.isclose(single,bl,atol=1e-1):\n",
    "            # if nix['element']=='N' or niy['element']=='N':\n",
    "            # print(ix,iy,nix['element'],niy['element'])\n",
    "            # print('Single',single,double,bl,np.isclose(single,bl),np.isclose(double,bl,atol=1e-1))    \n",
    "            # print()\n",
    "            bond_type = Chem.rdchem.BondType.SINGLE\n",
    "            mol.AddBond(node_to_idx[ix], node_to_idx[iy], bond_type)\n",
    "        elif np.isclose(double,bl,atol=1e-1):\n",
    "            # print(ix,iy,nix['element'],niy['element'])\n",
    "            # print('Double',single,double,bl)    \n",
    "            # print()\n",
    "            bond_type = Chem.rdchem.BondType.DOUBLE\n",
    "            mol.AddBond(node_to_idx[ix], node_to_idx[iy], bond_type)\n",
    "            \n",
    "        else:\n",
    "            bond_type = Chem.rdchem.BondType.SINGLE\n",
    "            mol.AddBond(node_to_idx[ix], node_to_idx[iy], bond_type)            \n",
    "            \n",
    "\n",
    "    mol = mol.GetMol()\n",
    "    return mol"
   ]
  },
  {
   "cell_type": "code",
   "execution_count": 33,
   "id": "1b90dbc0-b203-4480-848a-3556e60f67d4",
   "metadata": {
    "tags": []
   },
   "outputs": [
    {
     "ename": "KeyError",
     "evalue": "19",
     "output_type": "error",
     "traceback": [
      "\u001b[0;31m---------------------------------------------------------------------------\u001b[0m",
      "\u001b[0;31mKeyError\u001b[0m                                  Traceback (most recent call last)",
      "Cell \u001b[0;32mIn[33], line 1\u001b[0m\n\u001b[0;32m----> 1\u001b[0m \u001b[43mMolFromGraphs\u001b[49m\u001b[43m(\u001b[49m\u001b[43mdipepgraphs\u001b[49m\u001b[43m[\u001b[49m\u001b[38;5;124;43m'\u001b[39;49m\u001b[38;5;124;43mAsparagine-Leucine\u001b[39;49m\u001b[38;5;124;43m'\u001b[39;49m\u001b[43m]\u001b[49m\u001b[43m)\u001b[49m\n",
      "Cell \u001b[0;32mIn[32], line 10\u001b[0m, in \u001b[0;36mMolFromGraphs\u001b[0;34m(G)\u001b[0m\n\u001b[1;32m      8\u001b[0m node_to_idx \u001b[38;5;241m=\u001b[39m {}\n\u001b[1;32m      9\u001b[0m \u001b[38;5;28;01mfor\u001b[39;00m i \u001b[38;5;129;01min\u001b[39;00m \u001b[38;5;28mrange\u001b[39m(\u001b[38;5;28mlen\u001b[39m(node_list)):\n\u001b[0;32m---> 10\u001b[0m     a \u001b[38;5;241m=\u001b[39m Chem\u001b[38;5;241m.\u001b[39mAtom(\u001b[43mnode_list\u001b[49m\u001b[43m[\u001b[49m\u001b[43mi\u001b[49m\u001b[43m]\u001b[49m[\u001b[38;5;124m'\u001b[39m\u001b[38;5;124melement\u001b[39m\u001b[38;5;124m'\u001b[39m])\n\u001b[1;32m     11\u001b[0m     molIdx \u001b[38;5;241m=\u001b[39m mol\u001b[38;5;241m.\u001b[39mAddAtom(a)\n\u001b[1;32m     12\u001b[0m     node_to_idx[i] \u001b[38;5;241m=\u001b[39m molIdx\n",
      "\u001b[0;31mKeyError\u001b[0m: 19"
     ]
    }
   ],
   "source": [
    "MolFromGraphs(dipepgraphs['Asparagine-Leucine'])"
   ]
  },
  {
   "cell_type": "code",
   "execution_count": 27,
   "id": "6846e8e7-9802-41f2-8405-79036b89f836",
   "metadata": {
    "tags": []
   },
   "outputs": [
    {
     "data": {
      "text/plain": [
       "1.04"
      ]
     },
     "execution_count": 27,
     "metadata": {},
     "output_type": "execute_result"
    }
   ],
   "source": [
    "np.round((ptable.loc['C']['covalent_radius_cordero']+ptable.loc['H']['covalent_radius_cordero'])/100,2)"
   ]
  },
  {
   "cell_type": "code",
   "execution_count": 28,
   "id": "490e58c4-8703-4f07-bad0-d9e9ae669a43",
   "metadata": {
    "tags": []
   },
   "outputs": [
    {
     "data": {
      "text/plain": [
       "True"
      ]
     },
     "execution_count": 28,
     "metadata": {},
     "output_type": "execute_result"
    }
   ],
   "source": [
    "np.isclose(1.04,1.097,atol=1e-1)"
   ]
  },
  {
   "cell_type": "code",
   "execution_count": 13,
   "id": "77502bb8-4532-4e1a-9500-81533091c7a8",
   "metadata": {},
   "outputs": [],
   "source": [
    "# MolFromGraphs(dipepgraphs[k])"
   ]
  },
  {
   "cell_type": "code",
   "execution_count": 14,
   "id": "659669be-4b70-4f5e-801f-e6491d69a287",
   "metadata": {},
   "outputs": [],
   "source": [
    "# Make amino acid A (one that undergoes dehydroxylation)\n",
    "dehydroxy={}\n",
    "for k,v in aa_dict.items():\n",
    "    m=Chem.MolFromSmiles(v)\n",
    "    substructure = Chem.MolFromSmiles(\"O=C(O)CN\")\n",
    "    matches=m.GetSubstructMatch(substructure)\n",
    "\n",
    "\n",
    "    n=Chem.EditableMol(m)\n",
    "    for atom in m.GetAtoms():\n",
    "        for i in matches:\n",
    "            if atom.GetIdx()==i and atom.GetSymbol()=='O' and atom.GetTotalNumHs()==1: \n",
    "                n.RemoveAtom(atom.GetIdx())\n",
    "    m=n.GetMol()\n",
    "    dehydroxy[k]=m\n",
    "    \n",
    "    \n",
    "    \n",
    "dehydrogen={}\n",
    "for idx,(k,v) in enumerate(aa_dict.items()):\n",
    "    m=Chem.MolFromSmiles(v)\n",
    "    substructure = Chem.MolFromSmiles(\"O=C(O)CN\")\n",
    "    matches=m.GetSubstructMatch(substructure)\n",
    "\n",
    "\n",
    "    for atom in m.GetAtoms():\n",
    "        for i in matches:\n",
    "            if atom.GetIdx()==i and atom.GetSymbol()=='N': \n",
    "                atom.SetNoImplicit(True)\n",
    "                if k!='Proline':\n",
    "                    atom.SetNumExplicitHs(1)\n",
    "    dehydrogen[k]=m    \n",
    "# Draw.MolsToGridImage(dehydroxy.values(),molsPerRow=5, subImgSize=(300,300),legends=dehydroxy.keys())    \n",
    "# Draw.MolsToGridImage(dehydrogen.values(),molsPerRow=5, subImgSize=(300,300),legends=dehydrogen.keys())    "
   ]
  },
  {
   "cell_type": "code",
   "execution_count": 15,
   "id": "97e91f31-a8ab-45b4-9462-9526230e4b9a",
   "metadata": {},
   "outputs": [],
   "source": [
    "# m=Chem.MolFromSmiles(aa_dict['Lysine'])\n",
    "# substructure = Chem.MolFromSmiles(\"O=C(O)CN\")\n",
    "# matches=m.GetSubstructMatch(substructure)\n",
    "# n=Chem.EditableMol(m)\n",
    "# for atom in m.GetAtoms():\n",
    "#     for i in matches:\n",
    "#         if atom.GetIdx()==i and atom.GetSymbol()=='N': \n",
    "#             print(atom.SetNoImplicit(True))\n",
    "#             print(atom.SetNumExplicitHs(1))\n",
    "#             print(atom.GetIdx(),atom.GetSymbol(),atom.GetTotalNumHs())\n"
   ]
  },
  {
   "cell_type": "code",
   "execution_count": null,
   "id": "390d5962-fc40-4ee0-95b0-a188ed3715db",
   "metadata": {},
   "outputs": [],
   "source": []
  },
  {
   "cell_type": "code",
   "execution_count": 16,
   "id": "1f3cd163-42e4-4cd6-9027-91a07d41459f",
   "metadata": {},
   "outputs": [],
   "source": [
    "mols={}\n",
    "for k,m in monomerfiles.items():\n",
    "    mol=Chem.AddHs(Chem.MolFromSmiles(list(pybel.readfile('xyz',m))[0].write().split('\\t')[0]))\n",
    "    Chem.RemoveStereochemistry(mol)\n",
    "    mols[k]=mol\n",
    "\n",
    "\n",
    "aa_mols={k:Chem.MolFromSmiles(v) for k,v in aa_dict.items()}\n",
    "g=Draw.MolsToGridImage(list(mols.values()),molsPerRow=10, subImgSize=(200,200),maxMols=400,legends=mols.keys())\n",
    "# with open(\"dipeptides.png\", \"wb\") as png:\n",
    "#     png.write(g.data)\n",
    "# Draw.MolsToGridImage(list(aa_mols.values()),molsPerRow=5, subImgSize=(300,300),legends=list(aa_mols.keys()))"
   ]
  },
  {
   "cell_type": "code",
   "execution_count": 17,
   "id": "b121bef8-931e-4539-b524-7b5aa835d07c",
   "metadata": {},
   "outputs": [],
   "source": [
    "hist_check={k:v for k,v in mols.items() if 'Histidine' in k}"
   ]
  },
  {
   "cell_type": "code",
   "execution_count": 18,
   "id": "7bab3e50-a9c6-4c66-81e5-107f8f01a8e3",
   "metadata": {},
   "outputs": [],
   "source": [
    "# g=Draw.MolsToGridImage(hist_check.values(),molsPerRow=5, subImgSize=(300,300),legends=hist_check.keys())   \n",
    "# with open(\"histidines.png\", \"wb\") as png:\n",
    "#     png.write(g.data)\n"
   ]
  },
  {
   "cell_type": "code",
   "execution_count": 19,
   "id": "a584d4c3-847a-4999-8c5d-933060225a03",
   "metadata": {},
   "outputs": [
    {
     "name": "stdout",
     "output_type": "stream",
     "text": [
      "0 Alanine-Alanine Graph with 23 nodes and 22 edges\n",
      "1 Alanine-Arginine Graph with 36 nodes and 35 edges\n",
      "2 Alanine-Asparagine Graph with 27 nodes and 26 edges\n",
      "3 Alanine-Aspartic Graph with 26 nodes and 25 edges\n",
      "4 Alanine-Cysteine Graph with 24 nodes and 23 edges\n",
      "5 Alanine-Glutamic Graph with 29 nodes and 28 edges\n",
      "6 Alanine-Glutamine Graph with 30 nodes and 29 edges\n",
      "7 Alanine-Glycine Graph with 20 nodes and 19 edges\n",
      "8 Alanine-Histidine Graph with 30 nodes and 30 edges\n",
      "9 Alanine-Isoleucine Graph with 32 nodes and 31 edges\n",
      "10 Alanine-Leucine Graph with 32 nodes and 31 edges\n",
      "11 Alanine-Lysine Graph with 34 nodes and 33 edges\n",
      "12 Alanine-Methionine Graph with 30 nodes and 29 edges\n",
      "13 Alanine-Phenylalanine Graph with 33 nodes and 33 edges\n",
      "14 Alanine-Proline Graph with 27 nodes and 27 edges\n",
      "15 Alanine-Serine Graph with 24 nodes and 23 edges\n",
      "16 Alanine-Threonine Graph with 27 nodes and 26 edges\n",
      "17 Alanine-Tryptophan Graph with 37 nodes and 38 edges\n",
      "18 Alanine-Tyrosine Graph with 34 nodes and 34 edges\n",
      "19 Alanine-Valine Graph with 29 nodes and 28 edges\n",
      "20 Arginine-Alanine Graph with 36 nodes and 35 edges\n",
      "21 Arginine-Arginine Graph with 49 nodes and 48 edges\n",
      "22 Arginine-Asparagine Graph with 40 nodes and 39 edges\n",
      "23 Arginine-Aspartic Graph with 39 nodes and 38 edges\n",
      "24 Arginine-Cysteine Graph with 37 nodes and 36 edges\n",
      "25 Arginine-Glutamic Graph with 42 nodes and 41 edges\n",
      "26 Arginine-Glutamine Graph with 43 nodes and 42 edges\n",
      "27 Arginine-Glycine Graph with 33 nodes and 32 edges\n",
      "28 Arginine-Histidine Graph with 43 nodes and 43 edges\n",
      "29 Arginine-Isoleucine Graph with 45 nodes and 44 edges\n",
      "30 Arginine-Leucine Graph with 45 nodes and 44 edges\n",
      "31 Arginine-Lysine Graph with 47 nodes and 46 edges\n",
      "32 Arginine-Methionine Graph with 43 nodes and 42 edges\n",
      "33 Arginine-Phenylalanine Graph with 46 nodes and 46 edges\n",
      "34 Arginine-Proline Graph with 40 nodes and 40 edges\n",
      "35 Arginine-Serine Graph with 37 nodes and 36 edges\n",
      "36 Arginine-Threonine Graph with 40 nodes and 39 edges\n",
      "37 Arginine-Tryptophan Graph with 50 nodes and 51 edges\n",
      "38 Arginine-Tyrosine Graph with 47 nodes and 47 edges\n",
      "39 Arginine-Valine Graph with 42 nodes and 41 edges\n",
      "40 Asparagine-Alanine Graph with 27 nodes and 26 edges\n",
      "41 Asparagine-Arginine Graph with 40 nodes and 39 edges\n",
      "42 Asparagine-Asparagine Graph with 31 nodes and 30 edges\n",
      "43 Asparagine-Aspartic Graph with 30 nodes and 29 edges\n",
      "44 Asparagine-Cysteine Graph with 28 nodes and 27 edges\n",
      "45 Asparagine-Glutamic Graph with 33 nodes and 32 edges\n",
      "46 Asparagine-Glutamine Graph with 34 nodes and 33 edges\n",
      "47 Asparagine-Glycine Graph with 24 nodes and 23 edges\n",
      "48 Asparagine-Histidine Graph with 34 nodes and 34 edges\n",
      "49 Asparagine-Isoleucine Graph with 36 nodes and 35 edges\n",
      "50 Asparagine-Leucine Graph with 35 nodes and 34 edges\n"
     ]
    },
    {
     "ename": "KeyError",
     "evalue": "19",
     "output_type": "error",
     "traceback": [
      "\u001b[0;31m---------------------------------------------------------------------------\u001b[0m",
      "\u001b[0;31mKeyError\u001b[0m                                  Traceback (most recent call last)",
      "Cell \u001b[0;32mIn[19], line 7\u001b[0m\n\u001b[1;32m      5\u001b[0m atoms\u001b[38;5;241m=\u001b[39m[]\n\u001b[1;32m      6\u001b[0m \u001b[38;5;28mprint\u001b[39m(idx,k,v)\n\u001b[0;32m----> 7\u001b[0m \u001b[38;5;28;01mfor\u001b[39;00m atom \u001b[38;5;129;01min\u001b[39;00m \u001b[43mMolFromGraphs\u001b[49m\u001b[43m(\u001b[49m\u001b[43mv\u001b[49m\u001b[43m)\u001b[49m\u001b[38;5;241m.\u001b[39mGetAtoms():\n\u001b[1;32m      8\u001b[0m     \u001b[38;5;28;01mif\u001b[39;00m atom\u001b[38;5;241m.\u001b[39mGetIdx() \u001b[38;5;129;01min\u001b[39;00m inter_dict[k][\u001b[38;5;124m'\u001b[39m\u001b[38;5;124midx\u001b[39m\u001b[38;5;124m'\u001b[39m]\u001b[38;5;241m.\u001b[39mvalues:\n\u001b[1;32m      9\u001b[0m         inds\u001b[38;5;241m.\u001b[39mappend(atom\u001b[38;5;241m.\u001b[39mGetIdx())\n",
      "Cell \u001b[0;32mIn[12], line 10\u001b[0m, in \u001b[0;36mMolFromGraphs\u001b[0;34m(G)\u001b[0m\n\u001b[1;32m      8\u001b[0m node_to_idx \u001b[38;5;241m=\u001b[39m {}\n\u001b[1;32m      9\u001b[0m \u001b[38;5;28;01mfor\u001b[39;00m i \u001b[38;5;129;01min\u001b[39;00m \u001b[38;5;28mrange\u001b[39m(\u001b[38;5;28mlen\u001b[39m(node_list)):\n\u001b[0;32m---> 10\u001b[0m     a \u001b[38;5;241m=\u001b[39m Chem\u001b[38;5;241m.\u001b[39mAtom(\u001b[43mnode_list\u001b[49m\u001b[43m[\u001b[49m\u001b[43mi\u001b[49m\u001b[43m]\u001b[49m[\u001b[38;5;124m'\u001b[39m\u001b[38;5;124melement\u001b[39m\u001b[38;5;124m'\u001b[39m])\n\u001b[1;32m     11\u001b[0m     molIdx \u001b[38;5;241m=\u001b[39m mol\u001b[38;5;241m.\u001b[39mAddAtom(a)\n\u001b[1;32m     12\u001b[0m     node_to_idx[i] \u001b[38;5;241m=\u001b[39m molIdx\n",
      "\u001b[0;31mKeyError\u001b[0m: 19"
     ]
    }
   ],
   "source": [
    "# Check interaction positions\n",
    "qc=[]\n",
    "for idx,(k,v) in enumerate(dipepgraphs.items()):\n",
    "    inds=[]\n",
    "    atoms=[]\n",
    "    print(idx,k,v)\n",
    "    for atom in MolFromGraphs(v).GetAtoms():\n",
    "        if atom.GetIdx() in inter_dict[k]['idx'].values:\n",
    "            inds.append(atom.GetIdx())\n",
    "            atoms.append(atom.GetSymbol())\n",
    "    if set(inter_dict[k].atoms.values)==set(atoms) and set(inter_dict[k].idx.values)==set(inds):\n",
    "        qc.append(True)\n",
    "    else:\n",
    "        qc.append(False)\n"
   ]
  },
  {
   "cell_type": "code",
   "execution_count": 25,
   "id": "f3005246-7155-4dde-816d-04853ac04afc",
   "metadata": {
    "tags": []
   },
   "outputs": [
    {
     "data": {
      "text/html": [
       "<div>\n",
       "<style scoped>\n",
       "    .dataframe tbody tr th:only-of-type {\n",
       "        vertical-align: middle;\n",
       "    }\n",
       "\n",
       "    .dataframe tbody tr th {\n",
       "        vertical-align: top;\n",
       "    }\n",
       "\n",
       "    .dataframe thead th {\n",
       "        text-align: right;\n",
       "    }\n",
       "</style>\n",
       "<table border=\"1\" class=\"dataframe\">\n",
       "  <thead>\n",
       "    <tr style=\"text-align: right;\">\n",
       "      <th></th>\n",
       "      <th>1</th>\n",
       "    </tr>\n",
       "    <tr>\n",
       "      <th>0</th>\n",
       "      <th></th>\n",
       "    </tr>\n",
       "  </thead>\n",
       "  <tbody>\n",
       "    <tr>\n",
       "      <th>AA_AA_51</th>\n",
       "      <td>Asparagine-Leucine</td>\n",
       "    </tr>\n",
       "  </tbody>\n",
       "</table>\n",
       "</div>"
      ],
      "text/plain": [
       "                           1\n",
       "0                           \n",
       "AA_AA_51  Asparagine-Leucine"
      ]
     },
     "execution_count": 25,
     "metadata": {},
     "output_type": "execute_result"
    }
   ],
   "source": [
    "pairs[pairs[1]=='Asparagine-Leucine']"
   ]
  },
  {
   "cell_type": "code",
   "execution_count": 20,
   "id": "99a6474c-d8da-4b4e-9ace-28d0367fb4d0",
   "metadata": {
    "tags": []
   },
   "outputs": [
    {
     "data": {
      "text/plain": [
       "<networkx.classes.graph.Graph at 0x7f4ae2103280>"
      ]
     },
     "execution_count": 20,
     "metadata": {},
     "output_type": "execute_result"
    }
   ],
   "source": [
    "dipepgraphs['Asparagine-Leucine']"
   ]
  },
  {
   "cell_type": "code",
   "execution_count": 26,
   "id": "b576cfae-6341-47e0-a1c0-fdc16161c3a9",
   "metadata": {
    "tags": []
   },
   "outputs": [
    {
     "data": {
      "text/plain": [
       "'temp-plot.html'"
      ]
     },
     "execution_count": 26,
     "metadata": {},
     "output_type": "execute_result"
    }
   ],
   "source": [
    "fig = to_plotly_figure(mgs['Asparagine-Leucine'])\n",
    "offline.plot(fig)"
   ]
  },
  {
   "cell_type": "code",
   "execution_count": null,
   "id": "883020d1-eb3d-47a0-a6f8-669829b50746",
   "metadata": {},
   "outputs": [],
   "source": [
    "    \n",
    "# Check aromaticity\n",
    "arom={}\n",
    "for k,v in dipepgraphs.items():\n",
    "    m=MolFromGraphs(v)\n",
    "    # if len(list(mols[k].GetAromaticAtoms()))!=0:\n",
    "    for atom in m.GetAtoms():\n",
    "        for rdatom in mols[k].GetAtoms():\n",
    "            if atom.GetIdx()==rdatom.GetIdx() and atom.GetSymbol()==rdatom.GetSymbol():                        \n",
    "                for mbonds,rdbonds in zip(atom.GetBonds(),rdatom.GetBonds()):\n",
    "                    mbonds.SetBondType(rdbonds.GetBondType())\n",
    "    arom[k]=m\n"
   ]
  },
  {
   "cell_type": "code",
   "execution_count": null,
   "id": "ed431bf8-a6d0-4b2f-9293-948b5ee47a23",
   "metadata": {},
   "outputs": [],
   "source": [
    "# add atom numbers in images\n",
    "def addAtomIndices(mol,idx=None):\n",
    "    if idx==None:\n",
    "        for i, a in enumerate(mol.GetAtoms()):\n",
    "            a.SetAtomMapNum(i)\n",
    "    else:\n",
    "        for i, a in enumerate(mol.GetAtoms()):\n",
    "            a.SetAtomMapNum(idx[i])"
   ]
  },
  {
   "cell_type": "markdown",
   "id": "bea30613-d670-4f9a-9bc1-0c55c23ac94d",
   "metadata": {},
   "source": [
    "### Possible interaction sites:\n",
    "\n",
    "1. $ \\alpha-\\text{NH} _{2}$\n",
    "1. R$_{1}$ side chain\n",
    "1. inner carboxylic group (the one that the OH came from)\n",
    "1. Secondary amine (connected to inner carboxylic group)\n",
    "1. R$_{2}$ side chain\n",
    "1. Carboxylic acid\n",
    "    \n",
    "Desired workflow:\n",
    "- Take interaction sites, we know what the closet interacting sites are and what AAs, and partition them into fragments\n",
    "- Define three fragments for AA1 (1, 2, 3)\n",
    "- Define three fragments for AA2 (4, 5, 6)"
   ]
  },
  {
   "cell_type": "code",
   "execution_count": null,
   "id": "4176059c-4154-417c-b7f5-7e6b18f45c05",
   "metadata": {},
   "outputs": [],
   "source": [
    "\n",
    "# k='Proline-Tyrosine'\n",
    "# m=mols[k]\n",
    "\n",
    "# A,B=k.split('-')\n",
    "# Chem.rdmolops.Cleanup(m)\n",
    "# Chem.Kekulize(m)\n",
    "\n",
    "# subA = Chem.AddHs(dehydroxy[A])\n",
    "# Chem.Kekulize(subA)\n",
    "# matchA=m.GetSubstructMatch(subA)\n",
    "\n",
    "# subB = Chem.AddHs(dehydrogen[B])\n",
    "# Chem.Kekulize(subB)\n",
    "# matchB=m.GetSubstructMatch(subB)\n",
    "\n",
    "\n",
    "\n",
    "# inter=[]\n",
    "# for idx,i in enumerate(inter_dict[k].idx.values):\n",
    "#     atomsymb=m.GetAtomWithIdx(int(i)).GetSymbol()\n",
    "#     if atomsymb==inter_dict[k].atoms.values[idx]:\n",
    "#         if i in matchA:\n",
    "#             inter.append(('A',A,i,atomsymb))\n",
    "#         if i in matchB:\n",
    "#             inter.append(('B',B,i,atomsymb))    \n",
    "\n",
    "\n",
    "\n",
    "\n",
    "# # Add consistent indexing!\n",
    "# addAtomIndices(m)\n",
    "# addAtomIndices(subA,matchA)\n",
    "# addAtomIndices(subB,matchB)\n",
    "\n",
    "\n",
    "# # Mapping\n",
    "# mapA={i.GetIdx():i.GetAtomMapNum() for i in subA.GetAtoms()}\n",
    "# mapB={i.GetIdx():i.GetAtomMapNum() for i in subB.GetAtoms()}\n",
    "\n",
    "# # Glycine substructure search\n",
    "# # if A!='Glycine':\n",
    "# #     Agly=Chem.MolFromSmarts(\"[#8]=[#6]-[#6](-[#7](-[H])-[H])-[H]\")\n",
    "# # elif A!='Proline':\n",
    "# #     Agly=Chem.MolFromSmarts('[#8:6]=[#6:5]-[#6:1](-[#7]-[H:20])-[H:21]')\n",
    "# # else:\n",
    "# #     Agly=Chem.MolFromSmarts('[#8]=[#6]-[#6](-[#7](-[H])-[H])(-[H])-[H]')\n",
    "\n",
    "# if A=='Glycine':\n",
    "#     Agly=Chem.MolFromSmarts('[#8]=[#6]-[#6](-[#7](-[H])-[H])(-[H])-[H]')\n",
    "# elif A=='Proline':\n",
    "#     Agly=Chem.MolFromSmarts('[#8:6]=[#6:5]-[#6:1](-[#7]-[H:20])-[H:21]')\n",
    "# else:\n",
    "#     Agly=Chem.MolFromSmarts(\"[#8]=[#6]-[#6](-[#7](-[H])-[H])-[H]\")\n",
    "    \n",
    "# if B=='Glycine':\n",
    "#     Bgly=Chem.MolFromSmarts('[#8]=[#6](-[#8]-[H])-[#6](-[#7]-[H])(-[H])-[H]')            \n",
    "# elif B==\"Proline\":\n",
    "#     Bgly=Chem.MolFromSmarts('[#8:18]=[#6:17](-[#8:19]-[H:37])-[#6:13](-[#7:12])-[H:30]')\n",
    "# else:\n",
    "#     Bgly=Chem.MolFromSmarts('[#8]=[#6](-[#8]-[H])-[#6](-[#7]-[H])-[H]')\n",
    "\n",
    "# A_glyidx=subA.GetSubstructMatch(Agly)\n",
    "# B_glyidx=subB.GetSubstructMatch(Bgly)\n",
    "\n",
    "\n",
    "# for idx,i in enumerate(A_glyidx):\n",
    "#     Agly.GetAtoms()[idx].SetAtomMapNum(subA.GetAtoms()[i].GetAtomMapNum())\n",
    "    \n",
    "\n",
    "# for idx,i in enumerate(B_glyidx):\n",
    "#     Bgly.GetAtoms()[idx].SetAtomMapNum(subB.GetAtoms()[i].GetAtomMapNum())    \n",
    "\n",
    "    \n",
    "# # Side chain substructures\n",
    "# A_side=AllChem.DeleteSubstructs(subA, Agly)\n",
    "# B_side=AllChem.DeleteSubstructs(subB, Bgly)\n",
    "\n",
    "# A_side_dct={i.GetIdx():i.GetAtomMapNum() for i in A_side.GetAtoms()}\n",
    "# B_side_dct={i.GetIdx():i.GetAtomMapNum() for i in B_side.GetAtoms()}\n",
    "\n",
    "\n",
    "# A_carboxy=Agly.GetSubstructMatch(Chem.MolFromSmarts('[#8]=[#6]'))\n",
    "# A_amine=Agly.GetSubstructMatch(Chem.MolFromSmarts('[#7](-[H])-[H]'))\n",
    "# A_carboxy_idx=[i.GetAtomMapNum() for i in np.array(list(Agly.GetAtoms()))[list(A_carboxy)]]\n",
    "# A_amine_idx=[i.GetAtomMapNum() for i in np.array(list(Agly.GetAtoms()))[list(A_amine)]]\n",
    "\n",
    "# B_carboxy=Bgly.GetSubstructMatch(Chem.MolFromSmarts('[#8]=[#6](-[#8]-[H])'))\n",
    "# if B!=\"Proline\":\n",
    "#     B_amine=Bgly.GetSubstructMatch(Chem.MolFromSmarts('[#7]-[H]'))\n",
    "# else:\n",
    "#     B_amine=Bgly.GetSubstructMatch(Chem.MolFromSmarts('[#7]'))\n",
    "\n",
    "# B_carboxy_idx=[i.GetAtomMapNum() for i in np.array(list(Bgly.GetAtoms()))[list(B_carboxy)]]\n",
    "# B_amine_idx=[i.GetAtomMapNum() for i in np.array(list(Bgly.GetAtoms()))[list(B_amine)]]\n",
    "\n",
    "\n",
    "# A_link=list(set([a.GetAtomMapNum() for a in Agly.GetAtoms()])-(set(A_carboxy_idx)|set(A_amine_idx)))\n",
    "# B_link=list(set([a.GetAtomMapNum() for a in Bgly.GetAtoms()])-(set(B_carboxy_idx)|set(B_amine_idx)))\n",
    "\n",
    "\n",
    "# search_dict={'A_carboxy':A_carboxy_idx,'A_amine':A_amine_idx,\n",
    "#              'B_carboxy':B_carboxy_idx,'B_amine':B_amine_idx,\n",
    "#              'A_link':A_link,'B_link':B_link,\n",
    "#              'A_side':A_side_dct.values(),'B_side':B_side_dct.values()}\n",
    "# siteinter=[]\n",
    "# for i in inter_dict[k].idx.values:\n",
    "#     for k1,v1 in search_dict.items():\n",
    "#         if i in v1:\n",
    "#             siteinter.append((k1,i))                "
   ]
  },
  {
   "cell_type": "code",
   "execution_count": null,
   "id": "259d64a4-dd75-46fb-b063-31124bf709e8",
   "metadata": {},
   "outputs": [],
   "source": [
    "def inter_AA(key,mol):\n",
    "    '''\n",
    "    parameters\n",
    "    ----------\n",
    "    key: str\n",
    "        Dictionary key\n",
    "        \n",
    "    mol: rdkit.Chem.rdchem.Mol\n",
    "        rdkit mol\n",
    "        \n",
    "    returns\n",
    "    -------\n",
    "    inter: list\n",
    "        Interaction sites\n",
    "    '''\n",
    "    k=key\n",
    "    m=mol\n",
    "\n",
    "    A,B=k.split('-')\n",
    "    Chem.rdmolops.Cleanup(m)\n",
    "    Chem.Kekulize(m)\n",
    "\n",
    "    subA = Chem.AddHs(dehydroxy[A])\n",
    "    Chem.Kekulize(subA)\n",
    "    matchA=m.GetSubstructMatch(subA)\n",
    "\n",
    "    subB = Chem.AddHs(dehydrogen[B])\n",
    "    Chem.Kekulize(subB)\n",
    "    matchB=m.GetSubstructMatch(subB)\n",
    "\n",
    "\n",
    "\n",
    "    inter=[]\n",
    "    for idx,i in enumerate(inter_dict[k].idx.values):\n",
    "        atomsymb=m.GetAtomWithIdx(int(i)).GetSymbol()\n",
    "        if atomsymb==inter_dict[k].atoms.values[idx]:\n",
    "            if i in matchA:\n",
    "                inter.append(('A',A,i,atomsymb))\n",
    "            if i in matchB:\n",
    "                inter.append(('B',B,i,atomsymb))    \n",
    "\n",
    "\n",
    "\n",
    "\n",
    "    # Add consistent indexing!\n",
    "    addAtomIndices(m)\n",
    "    addAtomIndices(subA,matchA)\n",
    "    addAtomIndices(subB,matchB)\n",
    "\n",
    "\n",
    "    # Mapping\n",
    "    mapA={i.GetIdx():i.GetAtomMapNum() for i in subA.GetAtoms()}\n",
    "    mapB={i.GetIdx():i.GetAtomMapNum() for i in subB.GetAtoms()}\n",
    "\n",
    "    # Glycine substructure search\n",
    "    # if A!='Glycine':\n",
    "    #     Agly=Chem.MolFromSmarts(\"[#8]=[#6]-[#6](-[#7](-[H])-[H])-[H]\")\n",
    "    # elif A!='Proline':\n",
    "    #     Agly=Chem.MolFromSmarts('[#8:6]=[#6:5]-[#6:1](-[#7]-[H:20])-[H:21]')\n",
    "    # else:\n",
    "    #     Agly=Chem.MolFromSmarts('[#8]=[#6]-[#6](-[#7](-[H])-[H])(-[H])-[H]')\n",
    "\n",
    "    if A=='Glycine':\n",
    "        Agly=Chem.MolFromSmarts('[#8]=[#6]-[#6](-[#7](-[H])-[H])(-[H])-[H]')\n",
    "    elif A=='Proline':\n",
    "        Agly=Chem.MolFromSmarts('[#8:6]=[#6:5]-[#6:1](-[#7]-[H:20])-[H:21]')\n",
    "    else:\n",
    "        Agly=Chem.MolFromSmarts(\"[#8]=[#6]-[#6](-[#7](-[H])-[H])-[H]\")\n",
    "\n",
    "    if B=='Glycine':\n",
    "        Bgly=Chem.MolFromSmarts('[#8]=[#6](-[#8]-[H])-[#6](-[#7]-[H])(-[H])-[H]')            \n",
    "    elif B==\"Proline\":\n",
    "        Bgly=Chem.MolFromSmarts('[#8:18]=[#6:17](-[#8:19]-[H:37])-[#6:13](-[#7:12])-[H:30]')\n",
    "    else:\n",
    "        Bgly=Chem.MolFromSmarts('[#8]=[#6](-[#8]-[H])-[#6](-[#7]-[H])-[H]')\n",
    "\n",
    "    A_glyidx=subA.GetSubstructMatch(Agly)\n",
    "    B_glyidx=subB.GetSubstructMatch(Bgly)\n",
    "\n",
    "\n",
    "    for idx,i in enumerate(A_glyidx):\n",
    "        Agly.GetAtoms()[idx].SetAtomMapNum(subA.GetAtoms()[i].GetAtomMapNum())\n",
    "\n",
    "\n",
    "    for idx,i in enumerate(B_glyidx):\n",
    "        Bgly.GetAtoms()[idx].SetAtomMapNum(subB.GetAtoms()[i].GetAtomMapNum())    \n",
    "\n",
    "\n",
    "    # Side chain substructures\n",
    "    A_side=AllChem.DeleteSubstructs(subA, Agly)\n",
    "    B_side=AllChem.DeleteSubstructs(subB, Bgly)\n",
    "\n",
    "    A_side_dct={i.GetIdx():i.GetAtomMapNum() for i in A_side.GetAtoms()}\n",
    "    B_side_dct={i.GetIdx():i.GetAtomMapNum() for i in B_side.GetAtoms()}\n",
    "\n",
    "\n",
    "    A_carboxy=Agly.GetSubstructMatch(Chem.MolFromSmarts('[#8]=[#6]'))\n",
    "    A_amine=Agly.GetSubstructMatch(Chem.MolFromSmarts('[#7](-[H])-[H]'))\n",
    "    A_carboxy_idx=[i.GetAtomMapNum() for i in np.array(list(Agly.GetAtoms()))[list(A_carboxy)]]\n",
    "    A_amine_idx=[i.GetAtomMapNum() for i in np.array(list(Agly.GetAtoms()))[list(A_amine)]]\n",
    "\n",
    "    B_carboxy=Bgly.GetSubstructMatch(Chem.MolFromSmarts('[#8]=[#6](-[#8]-[H])'))\n",
    "    if B!=\"Proline\":\n",
    "        B_amine=Bgly.GetSubstructMatch(Chem.MolFromSmarts('[#7]-[H]'))\n",
    "    else:\n",
    "        B_amine=Bgly.GetSubstructMatch(Chem.MolFromSmarts('[#7]'))\n",
    "\n",
    "    B_carboxy_idx=[i.GetAtomMapNum() for i in np.array(list(Bgly.GetAtoms()))[list(B_carboxy)]]\n",
    "    B_amine_idx=[i.GetAtomMapNum() for i in np.array(list(Bgly.GetAtoms()))[list(B_amine)]]\n",
    "\n",
    "\n",
    "    A_link=list(set([a.GetAtomMapNum() for a in Agly.GetAtoms()])-(set(A_carboxy_idx)|set(A_amine_idx)))\n",
    "    B_link=list(set([a.GetAtomMapNum() for a in Bgly.GetAtoms()])-(set(B_carboxy_idx)|set(B_amine_idx)))\n",
    "\n",
    "\n",
    "    search_dict={'A_carboxy':A_carboxy_idx,'A_amine':A_amine_idx,\n",
    "                 'B_carboxy':B_carboxy_idx,'B_amine':B_amine_idx,\n",
    "                 'A_link':A_link,'B_link':B_link,\n",
    "                 'A_side':A_side_dct.values(),'B_side':B_side_dct.values()}\n",
    "    siteinter=[]\n",
    "    for i in inter_dict[k].idx.values:\n",
    "        for k1,v1 in search_dict.items():\n",
    "            if i in v1:\n",
    "                siteinter.append((k1,i))                \n",
    "    return inter, siteinter"
   ]
  },
  {
   "cell_type": "code",
   "execution_count": null,
   "id": "a3183e1a-b1ef-48b4-ba21-98c79afc3b76",
   "metadata": {},
   "outputs": [],
   "source": [
    "interaction_AA={}\n",
    "siteinter_AA={}\n",
    "if all(qc):\n",
    "    for k,m in mols.items():\n",
    "        # print(k)\n",
    "        interaction_AA[k],siteinter_AA[k]=inter_AA(k,m)"
   ]
  },
  {
   "cell_type": "code",
   "execution_count": null,
   "id": "2e52e066-2829-4490-967b-5edcdd2dc413",
   "metadata": {},
   "outputs": [],
   "source": [
    "[k for k,v in interaction_AA.items() if len(v)!=3]"
   ]
  },
  {
   "cell_type": "code",
   "execution_count": null,
   "id": "016f5718-f8c4-45c9-b09e-1b4c77d3e76b",
   "metadata": {},
   "outputs": [],
   "source": [
    "[k for k,v in siteinter_AA.items() if len(v)!=3]"
   ]
  },
  {
   "cell_type": "code",
   "execution_count": null,
   "id": "14355638-844a-4d06-92fa-2aa07a527bb4",
   "metadata": {},
   "outputs": [],
   "source": [
    "count_inter={k:dict(Counter(np.array(v)[:,0])) for k,v in siteinter_AA.items()}"
   ]
  },
  {
   "cell_type": "code",
   "execution_count": null,
   "id": "cfe00519-7954-4d41-b538-fb0d3c8267b7",
   "metadata": {},
   "outputs": [],
   "source": [
    "# print(siteinter_AA['Alanine-Aspartic'],interaction_AA['Alanine-Aspartic'])\n",
    "\n",
    "# fig = to_plotly_figure(co2mgs['Alanine-Aspartic'])\n",
    "# offline.plot(fig)"
   ]
  },
  {
   "cell_type": "code",
   "execution_count": null,
   "id": "8b668801-2680-48b3-b104-e1a4c9dc1b25",
   "metadata": {},
   "outputs": [],
   "source": [
    "# FLAG!\n",
    "# fig = to_plotly_figure(co2mgs['Asparagine-Alanine'])\n",
    "# offline.plot(fig)\n",
    "\n",
    "# FLAG THIS ONE!!\n",
    "# fig = to_plotly_figure(co2mgs['Alanine-Lysine'])\n",
    "# offline.plot(fig)"
   ]
  },
  {
   "cell_type": "code",
   "execution_count": null,
   "id": "02a51463-b06d-486f-b777-59ef376789a4",
   "metadata": {},
   "outputs": [],
   "source": [
    "Columns=['A_carboxy', 'A_amine', 'B_carboxy', 'B_amine', 'A_link', 'B_link', 'A_side', 'B_side']\n",
    "col_dct=dict(zip(Columns,range(len(Columns))))\n",
    "X=np.zeros((len(count_inter),len(Columns)))"
   ]
  },
  {
   "cell_type": "code",
   "execution_count": null,
   "id": "fe836b5e-3214-43d5-b4b8-b8efa92072b3",
   "metadata": {},
   "outputs": [],
   "source": [
    "for idx, (k,v) in enumerate(count_inter.items()):\n",
    "    for k1,v1 in v.items():\n",
    "        X[idx,col_dct[k1]]=v1"
   ]
  },
  {
   "cell_type": "code",
   "execution_count": null,
   "id": "4e913438-b802-4f01-93e1-b7b04dfcee63",
   "metadata": {},
   "outputs": [],
   "source": [
    "df_X=pd.DataFrame(X,index=count_inter.keys(),columns=Columns).astype(int)"
   ]
  },
  {
   "cell_type": "code",
   "execution_count": null,
   "id": "aca0c569-ec3b-456a-86e7-357b664a81b3",
   "metadata": {},
   "outputs": [],
   "source": []
  },
  {
   "cell_type": "code",
   "execution_count": null,
   "id": "73403922-1ef9-4602-8421-09d2438e58f7",
   "metadata": {},
   "outputs": [],
   "source": [
    "inter_y=y.set_index('keypair').to_dict(orient='dict')['Interaction_Energy']"
   ]
  },
  {
   "cell_type": "code",
   "execution_count": null,
   "id": "b14aeb3f-77db-47e8-9396-e358b274bbf3",
   "metadata": {},
   "outputs": [],
   "source": [
    "y_lbl=pd.DataFrame.from_dict({pairs.loc[k].values[0]:v for k,v in inter_y.items()},orient='index').rename(columns={0:'Interaction_Energy'})"
   ]
  },
  {
   "cell_type": "code",
   "execution_count": null,
   "id": "32e44fe2-38ea-4c21-b514-949aae3ce3e1",
   "metadata": {},
   "outputs": [],
   "source": [
    "df=pd.concat([df_X,y_lbl],axis=1)"
   ]
  },
  {
   "cell_type": "code",
   "execution_count": null,
   "id": "64cb4f04-66c5-4939-bb8f-65f71bc1d20e",
   "metadata": {},
   "outputs": [],
   "source": [
    "df"
   ]
  },
  {
   "cell_type": "code",
   "execution_count": null,
   "id": "f3900c9b-8fbc-415c-9373-f29e30147c42",
   "metadata": {},
   "outputs": [],
   "source": [
    "df['label']=[0]*len(df)\n",
    "\n",
    "for i in df.index:\n",
    "    df['label'].loc[i]=pairs[pairs[1]==i].index.values[0]\n",
    "df.to_excel('site_data.xlsx')"
   ]
  },
  {
   "cell_type": "code",
   "execution_count": null,
   "id": "9315fd6c-c62f-4782-82ce-84d6b275bc46",
   "metadata": {},
   "outputs": [],
   "source": [
    "    "
   ]
  },
  {
   "cell_type": "code",
   "execution_count": null,
   "id": "9b77c40e-d43e-4a42-a233-8692b61b7c70",
   "metadata": {},
   "outputs": [],
   "source": [
    "x=[]\n",
    "y=[]\n",
    "z=[]\n",
    "for k,v in df_X.to_dict(orient='index').items():\n",
    "    x_,y_=k.split('-')\n",
    "    x.append(x_)\n",
    "    y.append(y_)\n",
    "    z.append(list(v.values()))"
   ]
  },
  {
   "cell_type": "code",
   "execution_count": null,
   "id": "6c28bd1e-ccca-44fd-9f64-044edea36abd",
   "metadata": {},
   "outputs": [],
   "source": []
  },
  {
   "cell_type": "code",
   "execution_count": null,
   "id": "71e2368a-2b4a-42e4-9511-7ff1ccd3f663",
   "metadata": {},
   "outputs": [],
   "source": [
    "sns.heatmap(data=df_X[df_X.sum().sort_values().index],cmap=sns.cm.rocket_r)\n",
    "plt.show()"
   ]
  },
  {
   "cell_type": "code",
   "execution_count": null,
   "id": "bae39136-3625-4307-b09c-98434d53eb15",
   "metadata": {
    "tags": []
   },
   "outputs": [],
   "source": [
    "ax=df_X.sum().sort_values().plot.bar()\n",
    "ax.set_xlabel('Interaction Site')\n",
    "ax.set_ylabel('Count')\n",
    "plt.tight_layout()\n",
    "plt.savefig('interaction_bar.png',dpi=300,bbox_inches='tight')\n",
    "plt.show()"
   ]
  }
 ],
 "metadata": {
  "kernelspec": {
   "display_name": "Python [conda env:molreps] *",
   "language": "python",
   "name": "conda-env-molreps-py"
  },
  "language_info": {
   "codemirror_mode": {
    "name": "ipython",
    "version": 3
   },
   "file_extension": ".py",
   "mimetype": "text/x-python",
   "name": "python",
   "nbconvert_exporter": "python",
   "pygments_lexer": "ipython3",
   "version": "3.8.0"
  }
 },
 "nbformat": 4,
 "nbformat_minor": 5
}
