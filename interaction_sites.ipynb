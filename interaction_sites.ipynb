{
 "cells": [
  {
   "cell_type": "code",
   "execution_count": 1,
   "id": "2511e5fb-85de-4469-bbe1-bbbd75aac06e",
   "metadata": {},
   "outputs": [
    {
     "name": "stdout",
     "output_type": "stream",
     "text": [
      "Number of monomers is equivalent to monomers+CO2: True\n",
      "Using the intersection of the sets of length: 400\n",
      "\n",
      "Rips(maxdim=1, thresh=inf, coeff=2, do_cocycles=False, n_perm = None, verbose=True)\n"
     ]
    }
   ],
   "source": [
    "import sys\n",
    "# !{sys.executable} -m pip install torch torchvision torchaudio\n",
    "import lightgbm as lgb\n",
    "import xgboost\n",
    "\n",
    "from tqdm.notebook import trange, tqdm\n",
    "from time import sleep, perf_counter\n",
    "\n",
    "import os\n",
    "from glob import glob\n",
    "import pandas as pd\n",
    "import numpy as np\n",
    "import networkx as nx\n",
    "from collections import Counter\n",
    "from scipy.spatial import distance_matrix\n",
    "\n",
    "# Reps\n",
    "from alchemical_cms import genpaddedCMs\n",
    "from dscribe.descriptors import SOAP\n",
    "from dscribe.kernels import REMatchKernel\n",
    "from mendeleev.fetch import fetch_table\n",
    "from ase.io import read\n",
    "from Element_PI import VariancePersist\n",
    "from Element_PI import VariancePersistv1\n",
    "\n",
    "from rdkit import DataStructs\n",
    "from rdkit import Chem\n",
    "from rdkit.Chem import AllChem\n",
    "from rdkit.Chem import Draw, MACCSkeys\n",
    "from openbabel import openbabel as ob\n",
    "from openbabel import pybel\n",
    "\n",
    "from xyz2graph import MolGraph, to_networkx_graph, to_plotly_figure\n",
    "from plotly.offline import offline\n",
    "\n",
    "#Plotting\n",
    "import seaborn as sns\n",
    "sns.set_style()\n",
    "import matplotlib as mpl\n",
    "import matplotlib.pyplot as plt\n",
    "mpl.rcParams['figure.dpi'] = 200\n"
   ]
  },
  {
   "cell_type": "markdown",
   "id": "4b7a3c97-cbb9-43d7-8449-ddf1af381721",
   "metadata": {},
   "source": [
    "# Find an automated way to determine the interaction sites of a dipeptide"
   ]
  },
  {
   "cell_type": "code",
   "execution_count": 2,
   "id": "0b7488d0",
   "metadata": {},
   "outputs": [],
   "source": [
    "# Useful data\n",
    "ptable = fetch_table('elements').set_index('symbol')\n",
    "Z={v:k for k,v in ptable['atomic_number'].to_dict().items()}"
   ]
  },
  {
   "cell_type": "code",
   "execution_count": 3,
   "id": "f610737a-12de-4de6-9f4a-17d8ce72612f",
   "metadata": {},
   "outputs": [],
   "source": [
    "aa_dictog={'Glycine':\"O=C(O)CN\",\n",
    " 'Arginine':\"O=C(O)[C@H](CCCNC(N)=N)N\",\n",
    " 'Aspartic':\"O=C(O)[C@H](CC(O)=O)N\",\n",
    " 'Alanine':\"O=C(O)[C@H](C)N\",\n",
    " 'Threonine':\"O=C(O)[C@H]([C@H](O)C)N\",\n",
    " 'Phenylalanine':\"O=C(O)[C@H](CC1=CC=CC=C1)N\",\n",
    " 'Leucine':\"O=C(O)[C@H](CC(C)C)N\",\n",
    " 'Lysine':\"O=C(O)[C@H](CCCCN)N\",\n",
    " 'Histidine':\"NC(c1cnc[nH]1)C(=O)O\",# Wrong structure but use for code testing for now\n",
    " # 'Histidine':\"O=C(O)[C@H](CC1=CNC=N1)N\",\n",
    " 'Cysteine':\"O=C(O)[C@H](CS)N\",\n",
    " 'Glutamine':\"O=C(O)[C@H](CCC(N)=O)N\",\n",
    " 'Methionine':\"O=C(O)[C@H](CCSC)N\",\n",
    " 'Tryptophan':\"O=C(O)[C@H](CC1=CNC2=CC=CC=C12)N\",\n",
    " 'Serine':\"O=C(O)[C@H](CO)N\",\n",
    " 'Glutamic':\"O=C(O)[C@H](CCC(O)=O)N\",\n",
    " 'Proline':\"O=C(O)[C@H]1NCCC1\",\n",
    " 'Asparagine':\"O=C(O)[C@H](CC(N)=O)N\",\n",
    " 'Valine':\"O=C(O)[C@H](C(C)C)N\",\n",
    " 'Tyrosine':\"O=C(O)[C@H](CC1=CC=C(C=C1)O)N\",\n",
    " 'Isoleucine':\"O=C(O)[C@H]([C@@H](C)CC)N\"}\n",
    "aa_dict={}\n",
    "for k,v in aa_dictog.items():\n",
    "    if k!='Glycine':\n",
    "        mol=Chem.MolFromSmiles(v)\n",
    "        Chem.RemoveStereochemistry(mol)\n",
    "        aa_dict[k]=Chem.MolToSmiles(mol)\n",
    "    else:\n",
    "        aa_dict[k]=v"
   ]
  },
  {
   "cell_type": "code",
   "execution_count": 4,
   "id": "11179897-4361-4d6c-82d2-2f4a2b18476a",
   "metadata": {},
   "outputs": [],
   "source": [
    "# Find set of files\n",
    "# monomerfiles=glob('./dipeptides_coordinates/AA_AA_*/final.xyz')\n",
    "co2files=glob('./dipeptides_co2_coordinates/AA_AA_*/final.xyz')\n",
    "# # Name check\n",
    "# co2check=['_'.join(i.split('/')[-2].split('_')[:3]) for i in co2files]\n",
    "# moncheck=['_'.join(i.split('/')[-2].split('_')[:4]) for i in monomerfiles]\n",
    "\n",
    "y=pd.read_excel('400_dipeptides_interaction_energy.xlsx',usecols=[1,2],index_col=0)\n",
    "y['keypair']=['_'.join(i.split('_')[:3]) for i in y.index]\n",
    "\n",
    "# Pairs: \n",
    "# In the dehydration process,\n",
    "# AA1 is the one that undergoes dehydroxylation\n",
    "# and AA2 is the one that undergoes dehydrogenation\n",
    "pairs=pd.DataFrame([(i[0].split(\":\")[0],i[0].split(\":\")[1].replace(\" \",\"\")) for i in pd.read_excel('400_dipeptides_interaction_energy.xlsx', 'Sheet2',header=None).values]).set_index(0)\n",
    "\n",
    "ptable = fetch_table('elements').set_index('symbol')\n",
    "AAs=list(set(sum([i[0].split('-') for i in pairs.values],[])))\n",
    "\n",
    "monomerfiles={}\n",
    "for k,v in pairs.to_dict()[1].items():\n",
    "    path=f'./dipeptides_coordinates/{k}/final.xyz'\n",
    "    if os.path.exists(path):\n",
    "        monomerfiles[v]=path\n",
    "        \n",
    "        \n",
    "        \n",
    "co2paths={}\n",
    "for k,v in pairs.to_dict()[1].items():\n",
    "    path=glob(f'./dipeptides_co2_coordinates/{k}_*/final.xyz')[0]\n",
    "    if os.path.exists(path):\n",
    "        co2paths[v]=path        "
   ]
  },
  {
   "cell_type": "code",
   "execution_count": null,
   "id": "989f8794-ffd3-4769-b00f-1484b048df65",
   "metadata": {},
   "outputs": [],
   "source": []
  },
  {
   "cell_type": "code",
   "execution_count": 5,
   "id": "30c706b2-a14b-4470-89c5-5b5a02ba0b05",
   "metadata": {},
   "outputs": [],
   "source": [
    "\n",
    "# # Create the MolGraph object\n",
    "# mg = MolGraph()\n",
    "\n",
    "# # Read the data from the .xyz file\n",
    "# mg.read_xyz(co2files[0])\n",
    "\n",
    "# # Create the Plotly figure object\n",
    "# fig = to_plotly_figure(mg)\n",
    "\n",
    "# # Plot the figure\n",
    "# offline.plot(fig)\n",
    "\n",
    "# # Convert the molecular graph to the NetworkX graph\n",
    "# G = to_networkx_graph(mg)"
   ]
  },
  {
   "cell_type": "code",
   "execution_count": null,
   "id": "196b7840-dcf1-4a0b-981f-012dce2b27fa",
   "metadata": {},
   "outputs": [],
   "source": []
  },
  {
   "cell_type": "code",
   "execution_count": null,
   "id": "47921f2f-06bb-4eac-beaa-b21432a33e8f",
   "metadata": {},
   "outputs": [],
   "source": []
  },
  {
   "cell_type": "code",
   "execution_count": 6,
   "id": "5731e1b0-f52a-4436-b390-70559390b57d",
   "metadata": {},
   "outputs": [],
   "source": [
    "def genxyz(filename):\n",
    "    \"\"\"\n",
    "    Generate xyz file as numpy arrays\n",
    "    \n",
    "    parameters\n",
    "    ----------\n",
    "    filename: str\n",
    "        Path to xyz file\n",
    "        \n",
    "    returns\n",
    "    -------\n",
    "    atoms: np.ndarray (str)\n",
    "    \n",
    "    xyz: np.ndarray (float)\n",
    "    \"\"\"\n",
    "    file=np.genfromtxt(filename,skip_header=2,dtype=str)\n",
    "\n",
    "    atoms=file[:,0]\n",
    "    xyz=file[:,1:].astype(float)\n",
    "    \n",
    "    return atoms, xyz\n",
    "\n",
    "\n",
    "def gendistmat(xyz):\n",
    "    \"\"\"\n",
    "    Generate distance matrix from xyz array\n",
    "    \n",
    "    parameters\n",
    "    ----------\n",
    "    xyz: np.ndarray\n",
    "    \n",
    "    returns\n",
    "    -------\n",
    "    D: np.ndarray\n",
    "    \"\"\"\n",
    "    atoms=xyz[0]\n",
    "    xyz=xyz[1]\n",
    "    D=distance_matrix(xyz,xyz)\n",
    "    D=pd.DataFrame(D)\n",
    "    return atoms,D\n",
    "\n",
    "def closest(atms,distmat):\n",
    "    clsdf=distmat.iloc[-3:,:-3].T.idxmin().to_frame()\n",
    "    close=atms[clsdf.values]\n",
    "    clsdf['atoms']=close\n",
    "    clsdf=clsdf.rename(columns={0:'idx'})\n",
    "    if dict(Counter(atms[clsdf.index]))=={'C':1,'O':2}:        \n",
    "        return clsdf\n",
    "    else:\n",
    "        return None"
   ]
  },
  {
   "cell_type": "code",
   "execution_count": 7,
   "id": "56fc9c8f",
   "metadata": {},
   "outputs": [],
   "source": [
    "inter_dict={pairs.to_dict()[1]['_'.join(i.split('/')[-2].split('_')[:3])]:closest(*gendistmat(genxyz(i))) for i in co2files}"
   ]
  },
  {
   "cell_type": "code",
   "execution_count": 8,
   "id": "dd2d136a-8a09-40a6-9da3-bf0c4f0a5666",
   "metadata": {},
   "outputs": [],
   "source": [
    "\n",
    "co2dipepgraphs={}\n",
    "co2mgs={}\n",
    "for k,v in co2paths.items():\n",
    "    # Create the MolGraph object\n",
    "    mg = MolGraph()\n",
    "\n",
    "    # Read the data from the .xyz file\n",
    "    mg.read_xyz(v)\n",
    "    co2mgs[k]=mg\n",
    "    # Convert the molecular graph to the NetworkX graph\n",
    "    G = to_networkx_graph(mg)\n",
    "    co2dipepgraphs[k]=G\n",
    "    \n",
    "dipepgraphs={}    \n",
    "mgs={}\n",
    "for k,v in monomerfiles.items():\n",
    "    # Create the MolGraph object\n",
    "    mg = MolGraph()\n",
    "\n",
    "    # Read the data from the .xyz file\n",
    "    mg.read_xyz(v)\n",
    "    mgs[k]=mg\n",
    "    # Convert the molecular graph to the NetworkX graph\n",
    "    G = to_networkx_graph(mg)\n",
    "    dipepgraphs[k]=G    \n",
    "# fig = to_plotly_figure(mgs['Histidine-Alanine'])\n",
    "# offline.plot(fig)"
   ]
  },
  {
   "cell_type": "code",
   "execution_count": 9,
   "id": "6bb1733d-dfbc-4442-bed0-cc4324721e79",
   "metadata": {},
   "outputs": [],
   "source": [
    "# define the function for coverting rdkit object to networkx object -----------     \n",
    "# From: https://gist.github.com/fangkuoyu/dc785218e5d4d94c752e80f1aaba4fad\n",
    "def mol_to_nx(mol):\n",
    "    mol=AllChem.AddHs(mol)\n",
    "    G = nx.Graph()\n",
    "\n",
    "    for atom in mol.GetAtoms():\n",
    "        G.add_node(atom.GetIdx(),\n",
    "                   atomic_num=atom.GetAtomicNum(),\n",
    "                   is_aromatic=atom.GetIsAromatic(),\n",
    "                   atom_symbol=atom.GetSymbol())\n",
    "        \n",
    "    for bond in mol.GetBonds():\n",
    "        G.add_edge(bond.GetBeginAtomIdx(),\n",
    "                   bond.GetEndAtomIdx(),\n",
    "                   bond_type=bond.GetBondType())\n",
    "        \n",
    "    return G\n",
    "\n",
    "\n",
    "def mol_to_nx_noHs(mol):\n",
    "    G = nx.Graph()\n",
    "\n",
    "    for atom in mol.GetAtoms():\n",
    "        G.add_node(atom.GetIdx(),\n",
    "                   atomic_num=atom.GetAtomicNum(),\n",
    "                   is_aromatic=atom.GetIsAromatic(),\n",
    "                   atom_symbol=atom.GetSymbol())\n",
    "        \n",
    "    for bond in mol.GetBonds():\n",
    "        G.add_edge(bond.GetBeginAtomIdx(),\n",
    "                   bond.GetEndAtomIdx(),\n",
    "                   bond_type=bond.GetBondType())\n",
    "        \n",
    "    return G\n",
    "\n",
    "def draw_aminoacid(G):\n",
    "    attrkeys=list(dict(G.nodes(data=True)).values())[0].keys()\n",
    "    if 'element' in attrkeys:\n",
    "        attkey='element'\n",
    "        \n",
    "    else:\n",
    "        attkey='atom_symbol'\n",
    "    atom = nx.get_node_attributes(G, attkey)\n",
    "    color_map = {'C': '#696969',\n",
    "                 'O': 'red',\n",
    "                 'N': 'blue',\n",
    "                 'H': '#F2F2F2',\n",
    "                 'S': 'yellow'\n",
    "                }\n",
    "\n",
    "    colors = []\n",
    "    for idx in G.nodes():\n",
    "        if (G.nodes[idx][attkey] in color_map):\n",
    "            colors.append(color_map[G.nodes[idx][attkey]])            \n",
    "        else:\n",
    "            colors.append('gray')\n",
    "\n",
    "    nx.draw_spring(G,\n",
    "            labels=atom,\n",
    "            with_labels = True,\n",
    "            node_color=colors,\n",
    "            node_size=800)\n",
    "\n",
    "    plt.show()\n"
   ]
  },
  {
   "cell_type": "code",
   "execution_count": 10,
   "id": "49cf42ae-72a1-495a-ad9b-9d726fd49556",
   "metadata": {},
   "outputs": [],
   "source": [
    "def MolFromGraphs(G):\n",
    "    node_list=dict(G.nodes(data=True))\n",
    "    adjacency_matrix=nx.adjacency_matrix(G).toarray()\n",
    "    # create empty editable mol object\n",
    "    mol = Chem.RWMol()\n",
    "\n",
    "    # add atoms to mol and keep track of index\n",
    "    node_to_idx = {}\n",
    "    for i in range(len(node_list)):\n",
    "        a = Chem.Atom(node_list[i]['element'])\n",
    "        molIdx = mol.AddAtom(a)\n",
    "        node_to_idx[i] = molIdx\n",
    "\n",
    "    # add bonds between adjacent atoms\n",
    "    for ix, iy in G.edges():\n",
    "        nix=node_list[ix]\n",
    "        niy=node_list[iy]\n",
    "        \n",
    "        single=np.round((ptable.loc[nix['element']]['covalent_radius_cordero']+ptable.loc[niy['element']]['covalent_radius_cordero'])/100,2)\n",
    "        double=np.round((ptable.loc[nix['element']]['covalent_radius_pyykko_double']+ptable.loc[niy['element']]['covalent_radius_pyykko_double'])/100,2)\n",
    "        bl=np.round(np.linalg.norm(np.array(nix['xyz'])-np.array(niy['xyz'])),2)\n",
    "        if np.isclose(single,bl,atol=1e-1):\n",
    "            # if nix['element']=='N' or niy['element']=='N':\n",
    "            #     print(ix,iy,nix['element'],niy['element'])\n",
    "            #     print('Single',single,double,bl,np.isclose(single,bl),np.isclose(double,bl,atol=1e-1))    \n",
    "            #     print()\n",
    "            bond_type = Chem.rdchem.BondType.SINGLE\n",
    "            mol.AddBond(node_to_idx[ix], node_to_idx[iy], bond_type)\n",
    "        elif np.isclose(double,bl,atol=1e-1):\n",
    "            # print(ix,iy,nix['element'],niy['element'])\n",
    "            # print('Double',single,double,bl)    \n",
    "            # print()\n",
    "            bond_type = Chem.rdchem.BondType.DOUBLE\n",
    "            mol.AddBond(node_to_idx[ix], node_to_idx[iy], bond_type)\n",
    "            \n",
    "        else:\n",
    "            bond_type = Chem.rdchem.BondType.SINGLE\n",
    "            mol.AddBond(node_to_idx[ix], node_to_idx[iy], bond_type)            \n",
    "            \n",
    "\n",
    "    mol = mol.GetMol()\n",
    "    return mol"
   ]
  },
  {
   "cell_type": "code",
   "execution_count": 11,
   "id": "77502bb8-4532-4e1a-9500-81533091c7a8",
   "metadata": {},
   "outputs": [],
   "source": [
    "# MolFromGraphs(dipepgraphs[k])"
   ]
  },
  {
   "cell_type": "code",
   "execution_count": 12,
   "id": "659669be-4b70-4f5e-801f-e6491d69a287",
   "metadata": {},
   "outputs": [],
   "source": [
    "# Make amino acid A (one that undergoes dehydroxylation)\n",
    "dehydroxy={}\n",
    "for k,v in aa_dict.items():\n",
    "    m=Chem.MolFromSmiles(v)\n",
    "    substructure = Chem.MolFromSmiles(\"O=C(O)CN\")\n",
    "    matches=m.GetSubstructMatches(substructure)\n",
    "\n",
    "\n",
    "    n=Chem.EditableMol(m)\n",
    "    for atom in m.GetAtoms():\n",
    "        for i in sum(matches,()):\n",
    "            if atom.GetIdx()==i and atom.GetSymbol()=='O' and atom.GetTotalNumHs()==1: \n",
    "                n.RemoveAtom(atom.GetIdx())\n",
    "    m=n.GetMol()\n",
    "    dehydroxy[k]=m\n",
    "    \n",
    "    \n",
    "    \n",
    "dehydrogen={}\n",
    "for idx,(k,v) in enumerate(aa_dict.items()):\n",
    "    m=Chem.MolFromSmiles(v)\n",
    "    substructure = Chem.MolFromSmiles(\"O=C(O)CN\")\n",
    "    matches=m.GetSubstructMatches(substructure)\n",
    "\n",
    "\n",
    "    for atom in m.GetAtoms():\n",
    "        for i in sum(matches,()):\n",
    "            if atom.GetIdx()==i and atom.GetSymbol()=='N': \n",
    "                atom.SetNoImplicit(True)\n",
    "                if k!='Proline':\n",
    "                    atom.SetNumExplicitHs(1)\n",
    "    dehydrogen[k]=m    \n",
    "# Draw.MolsToGridImage(dehydroxy.values(),molsPerRow=5, subImgSize=(300,300),legends=dehydroxy.keys())    \n",
    "# Draw.MolsToGridImage(dehydrogen.values(),molsPerRow=5, subImgSize=(300,300),legends=dehydrogen.keys())    "
   ]
  },
  {
   "cell_type": "code",
   "execution_count": 13,
   "id": "97e91f31-a8ab-45b4-9462-9526230e4b9a",
   "metadata": {},
   "outputs": [],
   "source": [
    "# m=Chem.MolFromSmiles(aa_dict['Lysine'])\n",
    "# substructure = Chem.MolFromSmiles(\"O=C(O)CN\")\n",
    "# matches=m.GetSubstructMatches(substructure)\n",
    "# n=Chem.EditableMol(m)\n",
    "# for atom in m.GetAtoms():\n",
    "#     for i in sum(matches,()):\n",
    "#         if atom.GetIdx()==i and atom.GetSymbol()=='N': \n",
    "#             print(atom.SetNoImplicit(True))\n",
    "#             print(atom.SetNumExplicitHs(1))\n",
    "#             print(atom.GetIdx(),atom.GetSymbol(),atom.GetTotalNumHs())\n"
   ]
  },
  {
   "cell_type": "code",
   "execution_count": null,
   "id": "390d5962-fc40-4ee0-95b0-a188ed3715db",
   "metadata": {},
   "outputs": [],
   "source": [
    "\n"
   ]
  },
  {
   "cell_type": "code",
   "execution_count": 14,
   "id": "1f3cd163-42e4-4cd6-9027-91a07d41459f",
   "metadata": {},
   "outputs": [],
   "source": [
    "mols={}\n",
    "for k,m in monomerfiles.items():\n",
    "    mol=Chem.AddHs(Chem.MolFromSmiles(list(pybel.readfile('xyz',m))[0].write().split('\\t')[0]))\n",
    "    Chem.RemoveStereochemistry(mol)\n",
    "    mols[k]=mol\n",
    "\n",
    "\n",
    "aa_mols={k:Chem.MolFromSmiles(v) for k,v in aa_dict.items()}\n",
    "g=Draw.MolsToGridImage(list(mols.values()),molsPerRow=10, subImgSize=(200,200),maxMols=400,legends=mols.keys())\n",
    "# with open(\"dipeptides.png\", \"wb\") as png:\n",
    "#     png.write(g.data)\n",
    "# Draw.MolsToGridImage(list(aa_mols.values()),molsPerRow=5, subImgSize=(300,300),legends=list(aa_mols.keys()))"
   ]
  },
  {
   "cell_type": "code",
   "execution_count": 15,
   "id": "b121bef8-931e-4539-b524-7b5aa835d07c",
   "metadata": {},
   "outputs": [],
   "source": [
    "hist_check={k:v for k,v in mols.items() if 'Histidine' in k}"
   ]
  },
  {
   "cell_type": "code",
   "execution_count": 16,
   "id": "7bab3e50-a9c6-4c66-81e5-107f8f01a8e3",
   "metadata": {},
   "outputs": [],
   "source": [
    "# g=Draw.MolsToGridImage(hist_check.values(),molsPerRow=5, subImgSize=(300,300),legends=hist_check.keys())   \n",
    "# with open(\"histidines.png\", \"wb\") as png:\n",
    "#     png.write(g.data)\n"
   ]
  },
  {
   "cell_type": "code",
   "execution_count": 17,
   "id": "a584d4c3-847a-4999-8c5d-933060225a03",
   "metadata": {},
   "outputs": [],
   "source": [
    "# Check interaction positions\n",
    "qc=[]\n",
    "for idx,(k,v) in enumerate(dipepgraphs.items()):\n",
    "    inds=[]\n",
    "    atoms=[]\n",
    "    for atom in MolFromGraphs(v).GetAtoms():\n",
    "        if atom.GetIdx() in inter_dict[k]['idx'].values:\n",
    "            inds.append(atom.GetIdx())\n",
    "            atoms.append(atom.GetSymbol())\n",
    "    if set(inter_dict[k].atoms.values)==set(atoms) and set(inter_dict[k].idx.values)==set(inds):\n",
    "        qc.append(True)\n",
    "    else:\n",
    "        qc.append(False)\n"
   ]
  },
  {
   "cell_type": "code",
   "execution_count": 18,
   "id": "883020d1-eb3d-47a0-a6f8-669829b50746",
   "metadata": {},
   "outputs": [],
   "source": [
    "    \n",
    "# Check aromaticity\n",
    "arom={}\n",
    "for k,v in dipepgraphs.items():\n",
    "    m=MolFromGraphs(v)\n",
    "    # if len(list(mols[k].GetAromaticAtoms()))!=0:\n",
    "    for atom in m.GetAtoms():\n",
    "        for rdatom in mols[k].GetAtoms():\n",
    "            if atom.GetIdx()==rdatom.GetIdx() and atom.GetSymbol()==rdatom.GetSymbol():                        \n",
    "                for mbonds,rdbonds in zip(atom.GetBonds(),rdatom.GetBonds()):\n",
    "                    mbonds.SetBondType(rdbonds.GetBondType())\n",
    "    arom[k]=m\n"
   ]
  },
  {
   "cell_type": "code",
   "execution_count": 56,
   "id": "d720b59a-77e4-44da-9038-88843df18343",
   "metadata": {},
   "outputs": [],
   "source": [
    "interaction_AA={}\n",
    "if all(qc):\n",
    "    for k,m in arom.items():\n",
    "        # print(k)\n",
    "        Chem.rdmolops.Cleanup(m)\n",
    "        A,B=k.split('-')\n",
    "        \n",
    "        subA = Chem.AddHs(dehydroxy[A])\n",
    "        matchA=m.GetSubstructMatches(subA)\n",
    "        subB = Chem.AddHs(dehydrogen[B])\n",
    "        matchB=m.GetSubstructMatches(subB)\n",
    "        \n",
    "        \n",
    "        inter=[]\n",
    "        for idx,i in enumerate(inter_dict[k].idx.values):\n",
    "            atomsymb=m.GetAtomWithIdx(int(i)).GetSymbol()\n",
    "            if atomsymb==inter_dict[k].atoms.values[idx]:\n",
    "                if i in sum(matchA,()):\n",
    "                    inter.append((A,i,atomsymb))\n",
    "                if i in sum(matchB,()):\n",
    "                    inter.append((B,i,atomsymb))    \n",
    "                    \n",
    "        if len(inter)<3:\n",
    "            Chem.rdmolops.Cleanup(m)\n",
    "            m=Chem.AddHs(Chem.MolFromSmiles(Chem.MolToSmiles(m)))\n",
    "            Chem.Kekulize(m)\n",
    "            subA = Chem.AddHs(dehydroxy[A])\n",
    "            Chem.Kekulize(subA)\n",
    "            matchA=m.GetSubstructMatches(subA)\n",
    "            subB = Chem.AddHs(dehydrogen[B])\n",
    "            Chem.Kekulize(subB)\n",
    "            matchB=m.GetSubstructMatches(subB)\n",
    "\n",
    "            inter=[]\n",
    "            for idx,i in enumerate(inter_dict[k].idx.values):\n",
    "                atomsymb=m.GetAtomWithIdx(int(i)).GetSymbol()\n",
    "                # if m.GetAtomWithIdx(int(i)).GetSymbol()==inter_dict[k].atoms.values[idx]:\n",
    "                if i in sum(matchA,()):\n",
    "                    inter.append((A,i,atomsymb))\n",
    "                if i in sum(matchB,()):\n",
    "                    inter.append((B,i,atomsymb))                                         \n",
    "            \n",
    "            \n",
    "        interaction_AA[k]=inter\n"
   ]
  },
  {
   "cell_type": "code",
   "execution_count": null,
   "id": "e1e751b6-5f38-4bed-a6ce-146dd6ebcd9b",
   "metadata": {},
   "outputs": [],
   "source": []
  },
  {
   "cell_type": "code",
   "execution_count": 20,
   "id": "cb241693-175d-4dec-9641-f5b871671fd2",
   "metadata": {},
   "outputs": [
    {
     "name": "stdout",
     "output_type": "stream",
     "text": [
      "0\n",
      "[]\n"
     ]
    }
   ],
   "source": [
    "for k,v in interaction_AA.items():\n",
    "    if len(v)<3:\n",
    "        print(k)\n",
    "        break\n",
    "        \n",
    "scuffed=[k for k,v in interaction_AA.items() if len(v)<3]\n",
    "print(len(scuffed))\n",
    "print(scuffed)"
   ]
  },
  {
   "cell_type": "code",
   "execution_count": 21,
   "id": "7ce3bcae-3b6f-48c2-8f71-19df07ea509f",
   "metadata": {},
   "outputs": [],
   "source": [
    "# k=scuffed[0]\n",
    "# m=arom[k]\n",
    "# Chem.rdmolops.Cleanup(m)\n",
    "# A,B=k.split('-')\n",
    "\n",
    "# subA = Chem.AddHs(dehydroxy[A])\n",
    "# matchA=m.GetSubstructMatches(subA)\n",
    "# subB = Chem.AddHs(dehydrogen[B])\n",
    "# matchB=m.GetSubstructMatches(subB)\n",
    "\n",
    "\n",
    "# inter=[]\n",
    "# for idx,i in enumerate(inter_dict[k].idx.values):\n",
    "#     if m.GetAtomWithIdx(int(i)).GetSymbol()==inter_dict[k].atoms.values[idx]:\n",
    "#         if i in sum(matchA,()):\n",
    "#             inter.append('A')\n",
    "#         if i in sum(matchB,()):\n",
    "#             inter.append('B')\n",
    "# print(inter)\n",
    "\n",
    "\n",
    "# m=arom[k]\n",
    "\n",
    "# Chem.rdmolops.Cleanup(m)\n",
    "# m=Chem.AddHs(Chem.MolFromSmiles(Chem.MolToSmiles(m)))\n",
    "# Chem.Kekulize(m)\n",
    "# subA = Chem.AddHs(dehydroxy[A])\n",
    "# Chem.Kekulize(subA)\n",
    "# matchA=m.GetSubstructMatches(subA)\n",
    "# subB = Chem.AddHs(dehydrogen[B])\n",
    "# Chem.Kekulize(subB)\n",
    "# matchB=m.GetSubstructMatches(subB)\n",
    "\n",
    "# inter=[]\n",
    "# for idx,i in enumerate(inter_dict[k].idx.values):\n",
    "#     # if m.GetAtomWithIdx(int(i)).GetSymbol()==inter_dict[k].atoms.values[idx]:\n",
    "#     if i in sum(matchA,()):\n",
    "#         inter.append('A')\n",
    "#     if i in sum(matchB,()):\n",
    "#         inter.append('B')                                         \n",
    "# print(inter)"
   ]
  },
  {
   "cell_type": "code",
   "execution_count": 22,
   "id": "17e4f53f-d664-464b-abaa-d8da38ea8568",
   "metadata": {},
   "outputs": [],
   "source": [
    "# interaction_AA"
   ]
  },
  {
   "cell_type": "code",
   "execution_count": 72,
   "id": "6dd0b38d-e3d9-46d0-9ee1-4cff8b25eee1",
   "metadata": {},
   "outputs": [],
   "source": [
    "# # 179 pass\n",
    "# # 234 pass\n",
    "# # 123 pass\n",
    "# checkid=pairs.loc['AA_AA_123'].values[0]\n",
    "# # checkid='Alanine-Arginine'\n",
    "# print(checkid)\n",
    "# print(interaction_AA[checkid])\n",
    "# print(inter_dict[checkid])\n",
    "\n",
    "# # fig = to_plotly_figure(co2mgs[checkid])\n",
    "# # offline.plot(fig)\n",
    "\n",
    "# with pd.ExcelWriter(\"compare_aa.xlsx\") as writer:\n",
    "#     for i in [123, 179, 234]:\n",
    "#         print(name,i)        \n",
    "#         name=pairs.loc[f'AA_AA_{i}'].values[0]\n",
    "#         df=pd.DataFrame(interaction_AA[name],columns=['AminoAcid','Index','Atom'])\n",
    "#         df.to_excel(writer,index=False,sheet_name=name)\n"
   ]
  },
  {
   "cell_type": "markdown",
   "id": "dc33ac01-96cd-4cc9-9ba7-1f01ad21d148",
   "metadata": {},
   "source": [
    "# Add side chain search!\n",
    "\n",
    "### Possible interaction sites:\n",
    "\n",
    "1. $ \\alpha-\\text{NH} _{2}$\n",
    "1. R$_{1}$ side chain\n",
    "1. inner carboxylic group (the one that the OH came from)\n",
    "1. Secondary amine (connected to inner carboxylic group)\n",
    "1. R$_{2}$ side chain\n",
    "1. Carboxylic acid\n",
    "    \n",
    "Desired workflow:\n",
    "- Take interaction sites, we know what the closet interacting sites are and what AAs, and partition them into fragments\n",
    "- Define three fragments for AA1 (1, 2, 3)\n",
    "- Define three fragments for AA2 (4, 5, 6)"
   ]
  },
  {
   "cell_type": "code",
   "execution_count": 40,
   "id": "9166c47a-fbe2-415b-a3f3-2de478889b31",
   "metadata": {},
   "outputs": [
    {
     "data": {
      "text/plain": [
       "'AA_AA_2'"
      ]
     },
     "execution_count": 40,
     "metadata": {},
     "output_type": "execute_result"
    }
   ],
   "source": [
    "pairs[pairs[1]==checkid].index[0]"
   ]
  },
  {
   "cell_type": "code",
   "execution_count": 74,
   "id": "11169abd-1a5c-41c2-adb7-a1b2ea7a8e48",
   "metadata": {},
   "outputs": [
    {
     "name": "stdout",
     "output_type": "stream",
     "text": [
      "Alanine-Arginine\n",
      "[('Arginine', 15, 'O'), ('Arginine', 23, 'H'), ('Arginine', 34, 'H')]\n",
      "    idx atoms\n",
      "36   15     O\n",
      "37   23     H\n",
      "38   34     H\n",
      "Alanine Arginine\n",
      "['Alanine', 'Arginine', 'Alanine']\n"
     ]
    }
   ],
   "source": [
    "checkid='Alanine-Arginine'\n",
    "print(checkid)\n",
    "print(interaction_AA[checkid])\n",
    "print(inter_dict[checkid])\n",
    "\n",
    "\n",
    "k=checkid\n",
    "m=arom[k]\n",
    "A,B=k.split('-')\n",
    "print(A,B)\n",
    "Chem.rdmolops.Cleanup(m)\n",
    "m=Chem.AddHs(Chem.MolFromSmiles(Chem.MolToSmiles(m)))\n",
    "Chem.Kekulize(m)\n",
    "subA = Chem.AddHs(dehydroxy[A])\n",
    "Chem.Kekulize(subA)\n",
    "matchA=m.GetSubstructMatches(subA)\n",
    "subB = Chem.AddHs(dehydrogen[B])\n",
    "Chem.Kekulize(subB)\n",
    "matchB=m.GetSubstructMatches(subB)\n",
    "inter=[]\n",
    "\n",
    "for idx,i in enumerate(inter_dict[k].idx.values):\n",
    "    # if m.GetAtomWithIdx(int(i)).GetSymbol()==inter_dict[k].atoms.values[idx]:\n",
    "    if i in sum(matchA,()):\n",
    "        inter.append(A)\n",
    "    if i in sum(matchB,()):\n",
    "        inter.append(B)                                         \n",
    "\n",
    "print(inter)\n",
    "# fig = to_plotly_figure(co2mgs[checkid])\n",
    "# offline.plot(fig)"
   ]
  },
  {
   "cell_type": "code",
   "execution_count": 25,
   "id": "e3a6c0a7-3e97-42e9-90e8-878e409152af",
   "metadata": {},
   "outputs": [
    {
     "data": {
      "text/plain": [
       "[12, 13, 14, 15, 16, 30, 31, 32, 33, 34, 35]"
      ]
     },
     "execution_count": 25,
     "metadata": {},
     "output_type": "execute_result"
    }
   ],
   "source": [
    "sorted(matchA[0])"
   ]
  },
  {
   "cell_type": "code",
   "execution_count": 26,
   "id": "99759676-d4fe-40c4-a1df-a969aafcefb8",
   "metadata": {},
   "outputs": [
    {
     "data": {
      "image/png": "[encoded data removed]",
      "text/plain": [
       "<rdkit.Chem.rdchem.Mol at 0x1629fffa0>"
      ]
     },
     "execution_count": 26,
     "metadata": {},
     "output_type": "execute_result"
    }
   ],
   "source": [
    "m"
   ]
  },
  {
   "cell_type": "code",
   "execution_count": 27,
   "id": "9dc2a04d-334f-45ae-8963-1945264274fd",
   "metadata": {},
   "outputs": [
    {
     "data": {
      "image/png": "[encoded data removed]",
      "text/plain": [
       "<rdkit.Chem.rdchem.Mol at 0x1788742e0>"
      ]
     },
     "execution_count": 27,
     "metadata": {},
     "output_type": "execute_result"
    }
   ],
   "source": [
    "dehydrogen['Arginine']"
   ]
  },
  {
   "cell_type": "code",
   "execution_count": 28,
   "id": "657d4d35-5d7d-4bb9-a223-3bb7dca011e4",
   "metadata": {},
   "outputs": [
    {
     "data": {
      "image/png": "[encoded data removed]",
      "text/plain": [
       "<rdkit.Chem.rdchem.Mol at 0x178861d00>"
      ]
     },
     "execution_count": 28,
     "metadata": {},
     "output_type": "execute_result"
    }
   ],
   "source": [
    "dehydroxy['Alanine']"
   ]
  },
  {
   "cell_type": "code",
   "execution_count": 29,
   "id": "16647c8f-f6c1-4b6e-9944-565b6169e183",
   "metadata": {},
   "outputs": [
    {
     "data": {
      "image/png": "[encoded data removed]",
      "text/plain": [
       "<rdkit.Chem.rdchem.Mol at 0x1629fffa0>"
      ]
     },
     "execution_count": 29,
     "metadata": {},
     "output_type": "execute_result"
    }
   ],
   "source": [
    "m"
   ]
  },
  {
   "cell_type": "code",
   "execution_count": 30,
   "id": "c6601e4d",
   "metadata": {},
   "outputs": [
    {
     "data": {
      "image/png": "[encoded data removed]",
      "text/plain": [
       "<IPython.core.display.Image object>"
      ]
     },
     "execution_count": 30,
     "metadata": {},
     "output_type": "execute_result"
    }
   ],
   "source": [
    "side_chains={k:AllChem.DeleteSubstructs(v,aa_mols['Glycine']) for k,v in aa_mols.items()}\n",
    "# side_chains={k:Chem.ReplaceSubstructs(v,aa_mols['Glycine'],Chem.MolFromSmarts(\"*\"))[0] for k,v in aa_mols.items()}\n",
    "Draw.MolsToGridImage(side_chains.values(),molsPerRow=5, subImgSize=(300,300),legends=side_chains.keys())"
   ]
  },
  {
   "cell_type": "code",
   "execution_count": null,
   "id": "920d7761",
   "metadata": {},
   "outputs": [],
   "source": []
  },
  {
   "cell_type": "code",
   "execution_count": 31,
   "id": "44673622",
   "metadata": {},
   "outputs": [
    {
     "name": "stdout",
     "output_type": "stream",
     "text": [
      "{2, 3, 4, 5, 6}\n"
     ]
    }
   ],
   "source": [
    "interset=set(inter_dict['Glutamine-Phenylalanine']['idx'])\n",
    "mol=Chem.AddHs(mols['Glutamine-Phenylalanine'])\n",
    "\n",
    "pattchain1 = side_chains['Glutamine']\n",
    "hitchain_ats1 = set(list(mol.GetSubstructMatch(pattchain1)))\n",
    "pattchain2 = side_chains['Phenylalanine']\n",
    "hitchain_ats2 = set(list(mol.GetSubstructMatch(pattchain2)))\n",
    "\n",
    "\n",
    "pattAA1 = aa_mols['Glutamine']\n",
    "hitAA_ats1 = set(list(mol.GetSubstructMatch(pattAA1)))\n",
    "pattAA2 = aa_mols['Phenylalanine']\n",
    "hitAA_ats2 = set(list(mol.GetSubstructMatch(pattAA2)))\n",
    "\n",
    "\n",
    "if len(hitchain_ats1-set(interset))!=len(hitchain_ats1):\n",
    "    print(hitchain_ats1)\n",
    "    \n",
    "if len(hitchain_ats2-set(interset))!=len(hitchain_ats2):\n",
    "    print(hitchain_ats2)\n",
    "    \n",
    "if len(hitAA_ats1-set(interset))!=len(hitAA_ats1):\n",
    "    print(hitAA_ats1)    \n",
    "    \n",
    "if len(hitAA_ats2-set(interset))!=len(hitAA_ats2):\n",
    "    print(hitAA_ats2)  \n",
    "    \n",
    "    \n",
    "    \n",
    "    \n",
    "    \n",
    "dropOH={}\n",
    "amino={}\n",
    "for k,m in aa_mols.items():\n",
    "    m=AllChem.AddHs(m)\n",
    "    gly=set(sum(map(list,m.GetSubstructMatches(aa_mols['Glycine'])),[]))\n",
    "    OHmatch=set(sum(map(list,m.GetSubstructMatches(Chem.MolFromSmarts(\"[OH]\"))),[]))\n",
    "    if k!='Proline':\n",
    "        NH2match=set(sum(map(list,m.GetSubstructMatches(Chem.MolFromSmarts(\"[N;H2]\"))),[]))\n",
    "    else:\n",
    "        NH2match=set(sum(map(list,m.GetSubstructMatches(Chem.MolFromSmarts(\"[N;H1]\"))),[]))\n",
    "    \n",
    "    n=Chem.EditableMol(m)\n",
    "    o=Chem.EditableMol(m)\n",
    "    \n",
    "    # Remove this one \n",
    "    if len(gly-OHmatch)!=len(gly):\n",
    "        n.RemoveAtom(list(gly&OHmatch)[0])\n",
    "        A = AllChem.RemoveAllHs(n.GetMol())\n",
    "    # Remove one hydrogen if it is anything BUT proline\n",
    "    if len(gly-NH2match)!=len(gly):\n",
    "        \n",
    "        o.RemoveAtom(list(gly&NH2match)[0])\n",
    "        B = AllChem.RemoveAllHs(o.GetMol())\n",
    "        amino[k]=list(gly&NH2match)[0]\n",
    "    dropOH[k]=A\n",
    "    \n",
    "        "
   ]
  },
  {
   "cell_type": "code",
   "execution_count": null,
   "id": "bd76a303",
   "metadata": {},
   "outputs": [],
   "source": []
  },
  {
   "cell_type": "code",
   "execution_count": 32,
   "id": "0138d25d",
   "metadata": {},
   "outputs": [
    {
     "data": {
      "text/plain": [
       "{'Glycine': 4,\n",
       " 'Arginine': 8,\n",
       " 'Aspartic': 0,\n",
       " 'Alanine': 2,\n",
       " 'Threonine': 4,\n",
       " 'Phenylalanine': 0,\n",
       " 'Leucine': 5,\n",
       " 'Lysine': 6,\n",
       " 'Histidine': 0,\n",
       " 'Cysteine': 0,\n",
       " 'Glutamine': 6,\n",
       " 'Methionine': 5,\n",
       " 'Tryptophan': 0,\n",
       " 'Serine': 0,\n",
       " 'Glutamic': 0,\n",
       " 'Proline': 7,\n",
       " 'Asparagine': 5,\n",
       " 'Valine': 4,\n",
       " 'Tyrosine': 0,\n",
       " 'Isoleucine': 5}"
      ]
     },
     "execution_count": 32,
     "metadata": {},
     "output_type": "execute_result"
    }
   ],
   "source": [
    "amino"
   ]
  },
  {
   "cell_type": "code",
   "execution_count": 33,
   "id": "40903d1d",
   "metadata": {},
   "outputs": [
    {
     "data": {
      "text/plain": [
       "{'Glycine': <rdkit.Chem.rdchem.Mol at 0x178b74ac0>,\n",
       " 'Arginine': <rdkit.Chem.rdchem.Mol at 0x178b74b80>,\n",
       " 'Aspartic': <rdkit.Chem.rdchem.Mol at 0x178b74a60>,\n",
       " 'Alanine': <rdkit.Chem.rdchem.Mol at 0x178b74b20>,\n",
       " 'Threonine': <rdkit.Chem.rdchem.Mol at 0x178b74be0>,\n",
       " 'Phenylalanine': <rdkit.Chem.rdchem.Mol at 0x178b74c40>,\n",
       " 'Leucine': <rdkit.Chem.rdchem.Mol at 0x178b74ca0>,\n",
       " 'Lysine': <rdkit.Chem.rdchem.Mol at 0x178b74d00>,\n",
       " 'Histidine': <rdkit.Chem.rdchem.Mol at 0x178b7c1c0>,\n",
       " 'Cysteine': <rdkit.Chem.rdchem.Mol at 0x178b7c220>,\n",
       " 'Glutamine': <rdkit.Chem.rdchem.Mol at 0x178b7c280>,\n",
       " 'Methionine': <rdkit.Chem.rdchem.Mol at 0x178b7c2e0>,\n",
       " 'Tryptophan': <rdkit.Chem.rdchem.Mol at 0x178b7c340>,\n",
       " 'Serine': <rdkit.Chem.rdchem.Mol at 0x178b74d60>,\n",
       " 'Glutamic': <rdkit.Chem.rdchem.Mol at 0x178b7c400>,\n",
       " 'Proline': <rdkit.Chem.rdchem.Mol at 0x178b7c3a0>,\n",
       " 'Asparagine': <rdkit.Chem.rdchem.Mol at 0x178b7c460>,\n",
       " 'Valine': <rdkit.Chem.rdchem.Mol at 0x178b7c4c0>,\n",
       " 'Tyrosine': <rdkit.Chem.rdchem.Mol at 0x178b7c520>,\n",
       " 'Isoleucine': <rdkit.Chem.rdchem.Mol at 0x178b7c580>}"
      ]
     },
     "execution_count": 33,
     "metadata": {},
     "output_type": "execute_result"
    }
   ],
   "source": [
    "dropOH"
   ]
  },
  {
   "cell_type": "code",
   "execution_count": 34,
   "id": "aaefeaca",
   "metadata": {},
   "outputs": [
    {
     "ename": "NameError",
     "evalue": "name 'dipeptide_split' is not defined",
     "output_type": "error",
     "traceback": [
      "\u001b[0;31m---------------------------------------------------------------------------\u001b[0m",
      "\u001b[0;31mNameError\u001b[0m                                 Traceback (most recent call last)",
      "Cell \u001b[0;32mIn [34], line 1\u001b[0m\n\u001b[0;32m----> 1\u001b[0m Draw\u001b[38;5;241m.\u001b[39mMolsToGridImage(\u001b[43mdipeptide_split\u001b[49m[\u001b[38;5;124m'\u001b[39m\u001b[38;5;124mGlycine\u001b[39m\u001b[38;5;124m'\u001b[39m]\u001b[38;5;241m.\u001b[39mvalues())\n",
      "\u001b[0;31mNameError\u001b[0m: name 'dipeptide_split' is not defined"
     ]
    }
   ],
   "source": [
    "Draw.MolsToGridImage(dipeptide_split['Glycine'].values())"
   ]
  },
  {
   "cell_type": "code",
   "execution_count": null,
   "id": "28c4fe9a",
   "metadata": {},
   "outputs": [],
   "source": []
  }
 ],
 "metadata": {
  "kernelspec": {
   "display_name": "molecular_representation",
   "language": "python",
   "name": "molecular_representation"
  },
  "language_info": {
   "codemirror_mode": {
    "name": "ipython",
    "version": 3
   },
   "file_extension": ".py",
   "mimetype": "text/x-python",
   "name": "python",
   "nbconvert_exporter": "python",
   "pygments_lexer": "ipython3",
   "version": "3.8.14"
  }
 },
 "nbformat": 4,
 "nbformat_minor": 5
}
