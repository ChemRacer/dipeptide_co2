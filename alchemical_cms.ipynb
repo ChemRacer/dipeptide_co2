{
 "cells": [
  {
   "cell_type": "code",
   "execution_count": 2,
   "id": "cfad2009-79db-447e-b5ce-5d3df0230f06",
   "metadata": {},
   "outputs": [],
   "source": [
    "import sys\n",
    "from mendeleev.fetch import fetch_table\n",
    "import numpy as np\n",
    "from scipy.spatial import distance_matrix\n",
    "import pandas as pd\n",
    "from glob import glob\n",
    "from joblib import Parallel, delayed, effective_n_jobs\n",
    "from itertools import product"
   ]
  },
  {
   "cell_type": "code",
   "execution_count": 3,
   "id": "9930cad9-2a32-4821-8457-3e662a5f8e9c",
   "metadata": {},
   "outputs": [],
   "source": [
    "# Find set of files\n",
    "monomerfiles=glob('./dipeptides_coordinates/AA_AA_*/final.xyz')\n",
    "co2files=glob('./dipeptides_co2_coordinates/AA_AA_*/final.xyz')"
   ]
  },
  {
   "cell_type": "code",
   "execution_count": 3,
   "id": "baefd4a9-3b2c-4010-8eb4-f5de4ddc5431",
   "metadata": {},
   "outputs": [],
   "source": [
    "# Name check\n",
    "co2check=['_'.join(i.split('/')[-2].split('_')[:3]) for i in co2files]\n",
    "moncheck=['_'.join(i.split('/')[-2].split('_')[:4]) for i in monomerfiles]"
   ]
  },
  {
   "cell_type": "code",
   "execution_count": 4,
   "id": "bde2d23e-5d4d-49e0-bc7a-454c9219560b",
   "metadata": {},
   "outputs": [],
   "source": [
    "# Intersection of the two sets\n",
    "intersection=set(co2check)&set(moncheck)"
   ]
  },
  {
   "cell_type": "code",
   "execution_count": 5,
   "id": "90594840-1115-40a4-921e-82273171ece6",
   "metadata": {},
   "outputs": [
    {
     "name": "stdout",
     "output_type": "stream",
     "text": [
      "Number of monomers is equivalent to monomers+CO2: False\n",
      "Using the intersection of the sets of length: 396\n",
      "\n",
      "Missing:\n",
      "0: AA_AA_233\n",
      "1: AA_AA_179\n",
      "2: AA_AA_370\n",
      "3: AA_AA_362\n"
     ]
    }
   ],
   "source": [
    "# Check for missing files and show them\n",
    "mlen=len(monomerfiles)\n",
    "clen=len(co2files)\n",
    "\n",
    "print(f\"Number of monomers is equivalent to monomers+CO2: {mlen==clen}\")\n",
    "print(f\"Using the intersection of the sets of length: {len(intersection)}\\n\")\n",
    "\n",
    "if mlen!=clen:\n",
    "    print('Missing:')\n",
    "    for idx,i in enumerate(set(moncheck)-set(co2check)):\n",
    "        print(f\"{idx}: {i}\")"
   ]
  },
  {
   "cell_type": "code",
   "execution_count": 6,
   "id": "4cfb9ec8-fb36-48f1-a6b0-46d2a719c22c",
   "metadata": {},
   "outputs": [],
   "source": [
    "def formatname(name):\n",
    "    \"\"\"\n",
    "    parameters\n",
    "    ----------\n",
    "    name: str\n",
    "        Name of complex\n",
    "        \n",
    "    returns\n",
    "    -------\n",
    "    system: str\n",
    "        Monomer + CO2\n",
    "    \n",
    "    monomer: str\n",
    "        Monomer\n",
    "    \"\"\"\n",
    "    system=glob(f'./dipeptides_co2_coordinates/{name}_*/final.xyz')[0]\n",
    "    monomer=f'./dipeptides_coordinates/{name}/final.xyz'\n",
    "    return system,monomer"
   ]
  },
  {
   "cell_type": "code",
   "execution_count": 7,
   "id": "5e943519-68f1-466f-82e3-9e15cb7321c7",
   "metadata": {},
   "outputs": [],
   "source": [
    "\n",
    "\n",
    "# Useful data\n",
    "ptable = fetch_table('elements').set_index('symbol')\n",
    "Z=ptable['atomic_number']"
   ]
  },
  {
   "cell_type": "code",
   "execution_count": 8,
   "id": "66c5ec1b-2028-466b-aebc-1f289cdf5922",
   "metadata": {},
   "outputs": [],
   "source": [
    "def bond_check(atom_distance, minimum_length=0, maximum_length=1.5):\n",
    "    \"\"\"\n",
    "    Thank you MolSSI: \n",
    "    https://education.molssi.org/python_scripting_cms/06-functions/index.html\n",
    "    \n",
    "    Check if a distance is a bond based on a minimum and maximum bond length\"\"\"\n",
    "    \n",
    "    if atom_distance >= minimum_length and atom_distance <= maximum_length:\n",
    "        return True\n",
    "    else:\n",
    "        return False"
   ]
  },
  {
   "cell_type": "code",
   "execution_count": 9,
   "id": "8b16c999-cbec-46ea-a23a-137a7ffd2e88",
   "metadata": {},
   "outputs": [],
   "source": [
    "def gen_dist(xyzfile):\n",
    "    \"\"\"\n",
    "    parameters\n",
    "    ----------\n",
    "    xyzfile: str\n",
    "        Path to xyz\n",
    "        \n",
    "    returns\n",
    "    -------\n",
    "    atoms: numpy.ndarray\n",
    "        Atom labels\n",
    "        \n",
    "    distmat: numpy.ndarray\n",
    "        Distance matrix\n",
    "        \n",
    "    \"\"\"\n",
    "    structure=np.genfromtxt(xyzfile,skip_header=2,dtype=str)\n",
    "    atoms=structure[:,0]\n",
    "    xyz=structure[:,1:].astype(float)\n",
    "    \n",
    "    # Distance matrix\n",
    "    distmat=distance_matrix(xyz,xyz)\n",
    "    \n",
    "    return atoms, distmat"
   ]
  },
  {
   "cell_type": "code",
   "execution_count": null,
   "id": "c96b875b-ba67-4118-8b16-cb1e9ed12fbf",
   "metadata": {},
   "outputs": [],
   "source": []
  },
  {
   "cell_type": "code",
   "execution_count": 10,
   "id": "33d34ad8-f83e-41a4-8d5a-aa650415d9a5",
   "metadata": {},
   "outputs": [],
   "source": [
    "def genCM(aaname, xclosest=1, sort=True,penalty=None):\n",
    "    \"\"\"\n",
    "    Generate (sorted) Coulomb matrix\n",
    "    \n",
    "    parameters\n",
    "    ----------\n",
    "    aaname: str\n",
    "     Name of amino acid file\n",
    "     \n",
    "    xclosest: int\n",
    "        Penalize x closest atoms (Default=1)\n",
    "     \n",
    "    sort: bool\n",
    "        If true, return l2-norm row and column sorted Coulomb matrix\n",
    "        \n",
    "    penalty: float/int\n",
    "        Value to penalize the values by\n",
    "    \n",
    "    returns\n",
    "    -------\n",
    "    M or sorted_CM: numpy.ndarray\n",
    "        (sorted) Coulomb matrix\n",
    "    \n",
    "    \"\"\"\n",
    "\n",
    "    # Highly, highly dependent on CO2 being the last three atoms in the xyz file!!\n",
    "    co2,mon=formatname(aaname)\n",
    "    \n",
    "    # Grab the distance matrix and indices\n",
    "    co2atoms, co2distancematrix=gen_dist(co2)\n",
    "    monatoms, mondistancematrix=gen_dist(mon)\n",
    "    \n",
    "    # CO2 info\n",
    "    co2indx=np.arange(len(co2atoms))[-3:]\n",
    "    numco2=len(co2indx)\n",
    "\n",
    "    # Find indices that do not contain CO2\n",
    "    nonco2idx=list(set(np.arange(len(co2atoms)))-set(co2indx))\n",
    "    nonco2dist=co2distancematrix[co2indx[0],:][nonco2idx]\n",
    "    nonco2lbl=co2atoms[nonco2idx]\n",
    "\n",
    "    # Sort the indices that do not correspond to CO2\n",
    "    findclose=np.array(sorted(zip(nonco2lbl,nonco2dist,nonco2idx),key=lambda x: x[1]),dtype=object)\n",
    "\n",
    "    # Grab x closest and penalize them\n",
    "    closest=findclose[0:xclosest,2].astype(int)\n",
    "\n",
    "    # Generate Coulomb matrix\n",
    "    M=np.zeros(np.shape(mondistancematrix))\n",
    "    for idxi,i in enumerate(monatoms):\n",
    "        for idxj,j in enumerate(monatoms):\n",
    "            if idxi!=idxj:\n",
    "                M[idxi,idxj]=(Z.loc[i]*Z.loc[j])/mondistancematrix[idxi,idxj]\n",
    "            else:\n",
    "                M[idxi,idxj]=0.5*Z.loc[i]**2.4\n",
    "    \n",
    "    if penalty!=None and all(co2atoms[:-3]==monatoms):\n",
    "        # for i in closest:\n",
    "        #     for j in closest:\n",
    "        #         M[i,j]=penalty*M[i,j]\n",
    "        if len(closest)!=1:\n",
    "            M[closest,:][:,closest]=penalty*M[closest,:][:,closest]\n",
    "        else:\n",
    "            M[closest,closest]=penalty*M[closest,closest]\n",
    "\n",
    "    if sort:\n",
    "        # Create l2-norm sorted CM            \n",
    "        row_idx=np.argsort(np.linalg.norm(M,axis=0))[::-1]\n",
    "        col_idx=np.argsort(np.linalg.norm(M,axis=1))[::-1]\n",
    "\n",
    "        sorted_CM=M[row_idx][:,col_idx]\n",
    "        return sorted_CM\n",
    "    else:\n",
    "        return M        "
   ]
  },
  {
   "cell_type": "code",
   "execution_count": null,
   "id": "097a3aa8-8462-4e9e-805a-2c9d10a1d2ff",
   "metadata": {},
   "outputs": [],
   "source": []
  },
  {
   "cell_type": "code",
   "execution_count": 11,
   "id": "084dc3eb-9cb1-4e30-8418-6e120073af0e",
   "metadata": {},
   "outputs": [],
   "source": [
    "def pad(mat,maxs):\n",
    "    \"\"\"\n",
    "    mat: numpy.ndarray\n",
    "        Coulomb matrix to pad\n",
    "    \n",
    "    maxs: int\n",
    "        Padding amount\n",
    "    \"\"\"\n",
    "    npad=maxs-mat.shape[0]\n",
    "    return np.pad(mat, [(0, npad), (0, npad)], mode='constant', constant_values=0).flatten()"
   ]
  },
  {
   "cell_type": "code",
   "execution_count": 12,
   "id": "d1783174-fd19-4ac7-84ab-c3ab807c2c17",
   "metadata": {},
   "outputs": [],
   "source": [
    "def genpaddedCMs(intersections,n_jobs=-1,xclosest=1, sort=True,penalty=None,**kwargs):\n",
    "    \"\"\"\n",
    "    parameters\n",
    "    ----------\n",
    "    intersections: list\n",
    "        Amino acid names that have both CO2+monomer and monomer files\n",
    "        \n",
    "    n_jobs: int\n",
    "        Number of cores to run in parallel (Default=-1)\n",
    "    \n",
    "    *args: args\n",
    "        CM arguments\n",
    "        \n",
    "    **kwargs: args\n",
    "        Arguments for running joblib.Parallel\n",
    "    \n",
    "    \"\"\"\n",
    "    CMs=[genCM(i, xclosest,sort,penalty) for i in intersections]\n",
    "    maxcm=max([i.shape[0] for i in CMs])\n",
    "\n",
    "    C=np.array(Parallel(n_jobs=effective_n_jobs(n_jobs),**kwargs)(delayed(pad)(c,maxcm) for c in CMs))    \n",
    "    \n",
    "    return C"
   ]
  },
  {
   "cell_type": "code",
   "execution_count": 13,
   "id": "4fd2b606-feb5-4189-8c82-1c5d2490f7aa",
   "metadata": {},
   "outputs": [],
   "source": [
    "def test1():\n",
    "    '''\n",
    "    Code test:\n",
    "    Verify that our sorted Coulomb matrix is identical to the ones in Dscribe using padding!!\n",
    "    '''\n",
    "    # Import benchmark tools\n",
    "    from dscribe.descriptors import CoulombMatrix\n",
    "    from ase.build import molecule\n",
    "    from ase.io import read\n",
    "    mols=[]\n",
    "    for k in sum([[i for i in monomerfiles if j=='_'.join(i.split('/')[-2].split('_')[:4])] for j in intersection],[]):\n",
    "        mols.append(read(k))\n",
    "\n",
    "    cm = CoulombMatrix(n_atoms_max=51,permutation='sorted_l2')\n",
    "    CM=cm.create(mols)    \n",
    "\n",
    "    # Ours\n",
    "    C=genpaddedCMs(intersection,xclosest=1, sort=True,penalty=None)\n",
    "\n",
    "    return np.isclose(C,CM).all()    \n",
    "\n",
    "\n",
    "\n",
    "def test2():\n",
    "    '''\n",
    "    Code test:\n",
    "    Verify that our sorted-penalized Coulomb matrix is not identical to the ones in Dscribe using padding!!\n",
    "    '''\n",
    "    # Import benchmark tools\n",
    "    from dscribe.descriptors import CoulombMatrix\n",
    "    from ase.build import molecule\n",
    "    from ase.io import read\n",
    "    mols=[]\n",
    "    for k in sum([[i for i in monomerfiles if j=='_'.join(i.split('/')[-2].split('_')[:4])] for j in intersection],[]):\n",
    "        mols.append(read(k))\n",
    "\n",
    "    cm = CoulombMatrix(n_atoms_max=51,permutation='sorted_l2')\n",
    "    CM=cm.create(mols)    \n",
    "\n",
    "    # Ours\n",
    "    C=genpaddedCMs(intersection,xclosest=1, sort=True,penalty=100)\n",
    "\n",
    "    return np.isclose(C,CM).all()    "
   ]
  },
  {
   "cell_type": "code",
   "execution_count": null,
   "id": "dfd97215-154f-4513-80e4-3724416b4948",
   "metadata": {},
   "outputs": [],
   "source": []
  },
  {
   "cell_type": "code",
   "execution_count": 14,
   "id": "704b71c7-4866-4d27-936c-fe21a7b21092",
   "metadata": {},
   "outputs": [
    {
     "name": "stdout",
     "output_type": "stream",
     "text": [
      "ALL CMs PASS 1!\n",
      "ALL CMs PASS 2!\n"
     ]
    }
   ],
   "source": [
    "if __name__=='__main__':\n",
    "    if test1():\n",
    "        print(\"ALL CMs PASS 1!\")\n",
    "    if test2()==False:\n",
    "        print(\"ALL CMs PASS 2!\")        "
   ]
  },
  {
   "cell_type": "code",
   "execution_count": null,
   "id": "0c3e1fb7-8533-4cb8-bc3d-709bc09a3d61",
   "metadata": {},
   "outputs": [],
   "source": []
  }
 ],
 "metadata": {
  "kernelspec": {
   "display_name": "molecular_representation",
   "language": "python",
   "name": "molecular_representation"
  },
  "language_info": {
   "codemirror_mode": {
    "name": "ipython",
    "version": 3
   },
   "file_extension": ".py",
   "mimetype": "text/x-python",
   "name": "python",
   "nbconvert_exporter": "python",
   "pygments_lexer": "ipython3",
   "version": "3.8.14"
  }
 },
 "nbformat": 4,
 "nbformat_minor": 5
}
